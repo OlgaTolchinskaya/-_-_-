{
 "cells": [
  {
   "cell_type": "markdown",
   "id": "bc3933de",
   "metadata": {},
   "source": [
    "<div style=\"border:solid Chocolate 2px; padding: 40px\">\n",
    "\n",
    "<b>Привет!👋</b>\n",
    "\n",
    "Меня зовут Огурлиев Анзор, я буду ревьюером твоего проекта. Сразу хочу предложить тебе общаться на \"ты\", если тебе это неудобно, скажи мне об этом. Нам предстоит пройти с тобой через тернистый и от того интересный путь анализа данных! Можешь не переживать, я всегда помогу тебе, если у тебя возникнут вопросы)\n",
    "\n",
    "По ходу твоей работы я буду оставлять свои комментарии, по выполненным тобой шагам. Попрошу тебя не удалять их, так мне будет проще отслеживать твой прогресс в случае повторной проверки. \n",
    "    \n",
    "Очень важно вести диалог и обсуждать те пункты, которые у тебя могли не получиться, поэтому, ты можешь оставлять свои комментарии, и мы обязательно во всем разберемся! Самое главное - выделяй свои комментарии удобным для тебя способом (цвет, рамка), но так, чтобы они отчетлитво отличались от моих комментариев. Так мы ни в чем не запутаемся)\n",
    "\n",
    "Свои комментарии я буду выделять так: <font color='green'>зеленый</font>, <font color='gold'>желтый</font> и <font color='red'>красный</font> цвет, например:\n",
    "\n",
    "<br/>\n",
    "\n",
    "<div class=\"alert alert-success\">\n",
    "<h2> Комментарий ревьюера V1<a class=\"tocSkip\"> </h2>\n",
    "\n",
    "<b>Все отлично!👍:</b> Этот комментарий я буду оставлять, если твое решение оптимально для данного шага.\n",
    "</div>\n",
    "\n",
    "<br/>\n",
    "\n",
    "<div class=\"alert alert-warning\">\n",
    "    <h2> Комментарий ревьюера V1<a class=\"tocSkip\"> </h2>\n",
    "    \n",
    "<b>Некоторые замечания и рекомендации💡:</b> Это не означает, что ты совершил ошибку. Такими комментариями я буду отмечать места, где ты справился с задачей, но её можно решить ещё лучше. Также в таких комментариях я буду оставлять для тебя другие советы.\n",
    "</div>\n",
    "\n",
    "\n",
    "<br/>\n",
    "<div class=\"alert alert-block alert-danger\">\n",
    "<h2> Комментарий ревьюера V1<a class=\"tocSkip\"></h2>\n",
    "\n",
    "    \n",
    "<b>На доработку🤔:</b>\n",
    "Если решение, которое ты применил на определенном шаге, требует значительных изменений, то я буду оставлять такой комментарий. Тебе нужно будет подумать еще раз как правильным образом решить данный этап. Если ревью содержит такие комментарии, то я не смогу принять проект с первого раза.\n",
    "</div>\n",
    "    \n",
    "P.S. В оглавлении комментария ты увидишь `V1` (`V1`, `V2`, `V3`) - это версия моего комментария, которая понадобится нам с тобой, чтобы не запутаться, если потребуется оставить тебе комментарии после первой проверки."
   ]
  },
  {
   "cell_type": "markdown",
   "id": "7e126fab",
   "metadata": {
    "deletable": false,
    "editable": false,
    "id": "c81daeeb"
   },
   "source": [
    "# Исследование надежности заемщиков\n"
   ]
  },
  {
   "cell_type": "markdown",
   "id": "c6e50dbc",
   "metadata": {
    "deletable": false,
    "editable": false,
    "id": "827c20bf"
   },
   "source": [
    "Во второй части проекта вы выполните шаги 3 и 4. Их вручную проверит ревьюер.\n",
    "Чтобы вам не пришлось писать код заново для шагов 1 и 2, мы добавили авторские решения в ячейки с кодом. \n",
    "\n"
   ]
  },
  {
   "cell_type": "markdown",
   "id": "db5412d6",
   "metadata": {
    "deletable": false,
    "editable": false,
    "id": "744d7639"
   },
   "source": [
    "## Откройте таблицу и изучите общую информацию о данных"
   ]
  },
  {
   "cell_type": "markdown",
   "id": "e450b2d1",
   "metadata": {
    "deletable": false,
    "editable": false,
    "id": "e7a14c31"
   },
   "source": [
    "**Задание 1. Импортируйте библиотеку pandas. Считайте данные из csv-файла в датафрейм и сохраните в переменную `data`. Путь к файлу:**\n",
    "\n",
    "`/datasets/data.csv`"
   ]
  },
  {
   "cell_type": "code",
   "execution_count": 1,
   "id": "ef120563",
   "metadata": {
    "deletable": false,
    "id": "7bcf75c9"
   },
   "outputs": [],
   "source": [
    "import pandas as pd\n",
    "\n",
    "try:\n",
    "    data = pd.read_csv('/datasets/data.csv')\n",
    "except:\n",
    "    data = pd.read_csv('https://code.s3.yandex.net/datasets/data.csv')"
   ]
  },
  {
   "cell_type": "markdown",
   "id": "ef81f2ee",
   "metadata": {
    "deletable": false,
    "editable": false,
    "id": "b8038fe3"
   },
   "source": [
    "**Задание 2. Выведите первые 20 строчек датафрейма `data` на экран.**"
   ]
  },
  {
   "cell_type": "code",
   "execution_count": 2,
   "id": "a94387df",
   "metadata": {
    "deletable": false,
    "id": "2a7cab99",
    "outputId": "1a8f3ef2-d323-4ec2-ddf7-89670b5944c4"
   },
   "outputs": [
    {
     "data": {
      "text/html": [
       "<div>\n",
       "<style scoped>\n",
       "    .dataframe tbody tr th:only-of-type {\n",
       "        vertical-align: middle;\n",
       "    }\n",
       "\n",
       "    .dataframe tbody tr th {\n",
       "        vertical-align: top;\n",
       "    }\n",
       "\n",
       "    .dataframe thead th {\n",
       "        text-align: right;\n",
       "    }\n",
       "</style>\n",
       "<table border=\"1\" class=\"dataframe\">\n",
       "  <thead>\n",
       "    <tr style=\"text-align: right;\">\n",
       "      <th></th>\n",
       "      <th>children</th>\n",
       "      <th>days_employed</th>\n",
       "      <th>dob_years</th>\n",
       "      <th>education</th>\n",
       "      <th>education_id</th>\n",
       "      <th>family_status</th>\n",
       "      <th>family_status_id</th>\n",
       "      <th>gender</th>\n",
       "      <th>income_type</th>\n",
       "      <th>debt</th>\n",
       "      <th>total_income</th>\n",
       "      <th>purpose</th>\n",
       "    </tr>\n",
       "  </thead>\n",
       "  <tbody>\n",
       "    <tr>\n",
       "      <th>0</th>\n",
       "      <td>1</td>\n",
       "      <td>-8437.673028</td>\n",
       "      <td>42</td>\n",
       "      <td>высшее</td>\n",
       "      <td>0</td>\n",
       "      <td>женат / замужем</td>\n",
       "      <td>0</td>\n",
       "      <td>F</td>\n",
       "      <td>сотрудник</td>\n",
       "      <td>0</td>\n",
       "      <td>253875.639453</td>\n",
       "      <td>покупка жилья</td>\n",
       "    </tr>\n",
       "    <tr>\n",
       "      <th>1</th>\n",
       "      <td>1</td>\n",
       "      <td>-4024.803754</td>\n",
       "      <td>36</td>\n",
       "      <td>среднее</td>\n",
       "      <td>1</td>\n",
       "      <td>женат / замужем</td>\n",
       "      <td>0</td>\n",
       "      <td>F</td>\n",
       "      <td>сотрудник</td>\n",
       "      <td>0</td>\n",
       "      <td>112080.014102</td>\n",
       "      <td>приобретение автомобиля</td>\n",
       "    </tr>\n",
       "    <tr>\n",
       "      <th>2</th>\n",
       "      <td>0</td>\n",
       "      <td>-5623.422610</td>\n",
       "      <td>33</td>\n",
       "      <td>Среднее</td>\n",
       "      <td>1</td>\n",
       "      <td>женат / замужем</td>\n",
       "      <td>0</td>\n",
       "      <td>M</td>\n",
       "      <td>сотрудник</td>\n",
       "      <td>0</td>\n",
       "      <td>145885.952297</td>\n",
       "      <td>покупка жилья</td>\n",
       "    </tr>\n",
       "    <tr>\n",
       "      <th>3</th>\n",
       "      <td>3</td>\n",
       "      <td>-4124.747207</td>\n",
       "      <td>32</td>\n",
       "      <td>среднее</td>\n",
       "      <td>1</td>\n",
       "      <td>женат / замужем</td>\n",
       "      <td>0</td>\n",
       "      <td>M</td>\n",
       "      <td>сотрудник</td>\n",
       "      <td>0</td>\n",
       "      <td>267628.550329</td>\n",
       "      <td>дополнительное образование</td>\n",
       "    </tr>\n",
       "    <tr>\n",
       "      <th>4</th>\n",
       "      <td>0</td>\n",
       "      <td>340266.072047</td>\n",
       "      <td>53</td>\n",
       "      <td>среднее</td>\n",
       "      <td>1</td>\n",
       "      <td>гражданский брак</td>\n",
       "      <td>1</td>\n",
       "      <td>F</td>\n",
       "      <td>пенсионер</td>\n",
       "      <td>0</td>\n",
       "      <td>158616.077870</td>\n",
       "      <td>сыграть свадьбу</td>\n",
       "    </tr>\n",
       "    <tr>\n",
       "      <th>5</th>\n",
       "      <td>0</td>\n",
       "      <td>-926.185831</td>\n",
       "      <td>27</td>\n",
       "      <td>высшее</td>\n",
       "      <td>0</td>\n",
       "      <td>гражданский брак</td>\n",
       "      <td>1</td>\n",
       "      <td>M</td>\n",
       "      <td>компаньон</td>\n",
       "      <td>0</td>\n",
       "      <td>255763.565419</td>\n",
       "      <td>покупка жилья</td>\n",
       "    </tr>\n",
       "    <tr>\n",
       "      <th>6</th>\n",
       "      <td>0</td>\n",
       "      <td>-2879.202052</td>\n",
       "      <td>43</td>\n",
       "      <td>высшее</td>\n",
       "      <td>0</td>\n",
       "      <td>женат / замужем</td>\n",
       "      <td>0</td>\n",
       "      <td>F</td>\n",
       "      <td>компаньон</td>\n",
       "      <td>0</td>\n",
       "      <td>240525.971920</td>\n",
       "      <td>операции с жильем</td>\n",
       "    </tr>\n",
       "    <tr>\n",
       "      <th>7</th>\n",
       "      <td>0</td>\n",
       "      <td>-152.779569</td>\n",
       "      <td>50</td>\n",
       "      <td>СРЕДНЕЕ</td>\n",
       "      <td>1</td>\n",
       "      <td>женат / замужем</td>\n",
       "      <td>0</td>\n",
       "      <td>M</td>\n",
       "      <td>сотрудник</td>\n",
       "      <td>0</td>\n",
       "      <td>135823.934197</td>\n",
       "      <td>образование</td>\n",
       "    </tr>\n",
       "    <tr>\n",
       "      <th>8</th>\n",
       "      <td>2</td>\n",
       "      <td>-6929.865299</td>\n",
       "      <td>35</td>\n",
       "      <td>ВЫСШЕЕ</td>\n",
       "      <td>0</td>\n",
       "      <td>гражданский брак</td>\n",
       "      <td>1</td>\n",
       "      <td>F</td>\n",
       "      <td>сотрудник</td>\n",
       "      <td>0</td>\n",
       "      <td>95856.832424</td>\n",
       "      <td>на проведение свадьбы</td>\n",
       "    </tr>\n",
       "    <tr>\n",
       "      <th>9</th>\n",
       "      <td>0</td>\n",
       "      <td>-2188.756445</td>\n",
       "      <td>41</td>\n",
       "      <td>среднее</td>\n",
       "      <td>1</td>\n",
       "      <td>женат / замужем</td>\n",
       "      <td>0</td>\n",
       "      <td>M</td>\n",
       "      <td>сотрудник</td>\n",
       "      <td>0</td>\n",
       "      <td>144425.938277</td>\n",
       "      <td>покупка жилья для семьи</td>\n",
       "    </tr>\n",
       "    <tr>\n",
       "      <th>10</th>\n",
       "      <td>2</td>\n",
       "      <td>-4171.483647</td>\n",
       "      <td>36</td>\n",
       "      <td>высшее</td>\n",
       "      <td>0</td>\n",
       "      <td>женат / замужем</td>\n",
       "      <td>0</td>\n",
       "      <td>M</td>\n",
       "      <td>компаньон</td>\n",
       "      <td>0</td>\n",
       "      <td>113943.491460</td>\n",
       "      <td>покупка недвижимости</td>\n",
       "    </tr>\n",
       "    <tr>\n",
       "      <th>11</th>\n",
       "      <td>0</td>\n",
       "      <td>-792.701887</td>\n",
       "      <td>40</td>\n",
       "      <td>среднее</td>\n",
       "      <td>1</td>\n",
       "      <td>женат / замужем</td>\n",
       "      <td>0</td>\n",
       "      <td>F</td>\n",
       "      <td>сотрудник</td>\n",
       "      <td>0</td>\n",
       "      <td>77069.234271</td>\n",
       "      <td>покупка коммерческой недвижимости</td>\n",
       "    </tr>\n",
       "    <tr>\n",
       "      <th>12</th>\n",
       "      <td>0</td>\n",
       "      <td>NaN</td>\n",
       "      <td>65</td>\n",
       "      <td>среднее</td>\n",
       "      <td>1</td>\n",
       "      <td>гражданский брак</td>\n",
       "      <td>1</td>\n",
       "      <td>M</td>\n",
       "      <td>пенсионер</td>\n",
       "      <td>0</td>\n",
       "      <td>NaN</td>\n",
       "      <td>сыграть свадьбу</td>\n",
       "    </tr>\n",
       "    <tr>\n",
       "      <th>13</th>\n",
       "      <td>0</td>\n",
       "      <td>-1846.641941</td>\n",
       "      <td>54</td>\n",
       "      <td>неоконченное высшее</td>\n",
       "      <td>2</td>\n",
       "      <td>женат / замужем</td>\n",
       "      <td>0</td>\n",
       "      <td>F</td>\n",
       "      <td>сотрудник</td>\n",
       "      <td>0</td>\n",
       "      <td>130458.228857</td>\n",
       "      <td>приобретение автомобиля</td>\n",
       "    </tr>\n",
       "    <tr>\n",
       "      <th>14</th>\n",
       "      <td>0</td>\n",
       "      <td>-1844.956182</td>\n",
       "      <td>56</td>\n",
       "      <td>высшее</td>\n",
       "      <td>0</td>\n",
       "      <td>гражданский брак</td>\n",
       "      <td>1</td>\n",
       "      <td>F</td>\n",
       "      <td>компаньон</td>\n",
       "      <td>1</td>\n",
       "      <td>165127.911772</td>\n",
       "      <td>покупка жилой недвижимости</td>\n",
       "    </tr>\n",
       "    <tr>\n",
       "      <th>15</th>\n",
       "      <td>1</td>\n",
       "      <td>-972.364419</td>\n",
       "      <td>26</td>\n",
       "      <td>среднее</td>\n",
       "      <td>1</td>\n",
       "      <td>женат / замужем</td>\n",
       "      <td>0</td>\n",
       "      <td>F</td>\n",
       "      <td>сотрудник</td>\n",
       "      <td>0</td>\n",
       "      <td>116820.904450</td>\n",
       "      <td>строительство собственной недвижимости</td>\n",
       "    </tr>\n",
       "    <tr>\n",
       "      <th>16</th>\n",
       "      <td>0</td>\n",
       "      <td>-1719.934226</td>\n",
       "      <td>35</td>\n",
       "      <td>среднее</td>\n",
       "      <td>1</td>\n",
       "      <td>женат / замужем</td>\n",
       "      <td>0</td>\n",
       "      <td>F</td>\n",
       "      <td>сотрудник</td>\n",
       "      <td>0</td>\n",
       "      <td>289202.704229</td>\n",
       "      <td>недвижимость</td>\n",
       "    </tr>\n",
       "    <tr>\n",
       "      <th>17</th>\n",
       "      <td>0</td>\n",
       "      <td>-2369.999720</td>\n",
       "      <td>33</td>\n",
       "      <td>высшее</td>\n",
       "      <td>0</td>\n",
       "      <td>гражданский брак</td>\n",
       "      <td>1</td>\n",
       "      <td>M</td>\n",
       "      <td>сотрудник</td>\n",
       "      <td>0</td>\n",
       "      <td>90410.586745</td>\n",
       "      <td>строительство недвижимости</td>\n",
       "    </tr>\n",
       "    <tr>\n",
       "      <th>18</th>\n",
       "      <td>0</td>\n",
       "      <td>400281.136913</td>\n",
       "      <td>53</td>\n",
       "      <td>среднее</td>\n",
       "      <td>1</td>\n",
       "      <td>вдовец / вдова</td>\n",
       "      <td>2</td>\n",
       "      <td>F</td>\n",
       "      <td>пенсионер</td>\n",
       "      <td>0</td>\n",
       "      <td>56823.777243</td>\n",
       "      <td>на покупку подержанного автомобиля</td>\n",
       "    </tr>\n",
       "    <tr>\n",
       "      <th>19</th>\n",
       "      <td>0</td>\n",
       "      <td>-10038.818549</td>\n",
       "      <td>48</td>\n",
       "      <td>СРЕДНЕЕ</td>\n",
       "      <td>1</td>\n",
       "      <td>в разводе</td>\n",
       "      <td>3</td>\n",
       "      <td>F</td>\n",
       "      <td>сотрудник</td>\n",
       "      <td>0</td>\n",
       "      <td>242831.107982</td>\n",
       "      <td>на покупку своего автомобиля</td>\n",
       "    </tr>\n",
       "  </tbody>\n",
       "</table>\n",
       "</div>"
      ],
      "text/plain": [
       "    children  days_employed  dob_years            education  education_id  \\\n",
       "0          1   -8437.673028         42               высшее             0   \n",
       "1          1   -4024.803754         36              среднее             1   \n",
       "2          0   -5623.422610         33              Среднее             1   \n",
       "3          3   -4124.747207         32              среднее             1   \n",
       "4          0  340266.072047         53              среднее             1   \n",
       "5          0    -926.185831         27               высшее             0   \n",
       "6          0   -2879.202052         43               высшее             0   \n",
       "7          0    -152.779569         50              СРЕДНЕЕ             1   \n",
       "8          2   -6929.865299         35               ВЫСШЕЕ             0   \n",
       "9          0   -2188.756445         41              среднее             1   \n",
       "10         2   -4171.483647         36               высшее             0   \n",
       "11         0    -792.701887         40              среднее             1   \n",
       "12         0            NaN         65              среднее             1   \n",
       "13         0   -1846.641941         54  неоконченное высшее             2   \n",
       "14         0   -1844.956182         56               высшее             0   \n",
       "15         1    -972.364419         26              среднее             1   \n",
       "16         0   -1719.934226         35              среднее             1   \n",
       "17         0   -2369.999720         33               высшее             0   \n",
       "18         0  400281.136913         53              среднее             1   \n",
       "19         0  -10038.818549         48              СРЕДНЕЕ             1   \n",
       "\n",
       "       family_status  family_status_id gender income_type  debt  \\\n",
       "0    женат / замужем                 0      F   сотрудник     0   \n",
       "1    женат / замужем                 0      F   сотрудник     0   \n",
       "2    женат / замужем                 0      M   сотрудник     0   \n",
       "3    женат / замужем                 0      M   сотрудник     0   \n",
       "4   гражданский брак                 1      F   пенсионер     0   \n",
       "5   гражданский брак                 1      M   компаньон     0   \n",
       "6    женат / замужем                 0      F   компаньон     0   \n",
       "7    женат / замужем                 0      M   сотрудник     0   \n",
       "8   гражданский брак                 1      F   сотрудник     0   \n",
       "9    женат / замужем                 0      M   сотрудник     0   \n",
       "10   женат / замужем                 0      M   компаньон     0   \n",
       "11   женат / замужем                 0      F   сотрудник     0   \n",
       "12  гражданский брак                 1      M   пенсионер     0   \n",
       "13   женат / замужем                 0      F   сотрудник     0   \n",
       "14  гражданский брак                 1      F   компаньон     1   \n",
       "15   женат / замужем                 0      F   сотрудник     0   \n",
       "16   женат / замужем                 0      F   сотрудник     0   \n",
       "17  гражданский брак                 1      M   сотрудник     0   \n",
       "18    вдовец / вдова                 2      F   пенсионер     0   \n",
       "19         в разводе                 3      F   сотрудник     0   \n",
       "\n",
       "     total_income                                 purpose  \n",
       "0   253875.639453                           покупка жилья  \n",
       "1   112080.014102                 приобретение автомобиля  \n",
       "2   145885.952297                           покупка жилья  \n",
       "3   267628.550329              дополнительное образование  \n",
       "4   158616.077870                         сыграть свадьбу  \n",
       "5   255763.565419                           покупка жилья  \n",
       "6   240525.971920                       операции с жильем  \n",
       "7   135823.934197                             образование  \n",
       "8    95856.832424                   на проведение свадьбы  \n",
       "9   144425.938277                 покупка жилья для семьи  \n",
       "10  113943.491460                    покупка недвижимости  \n",
       "11   77069.234271       покупка коммерческой недвижимости  \n",
       "12            NaN                         сыграть свадьбу  \n",
       "13  130458.228857                 приобретение автомобиля  \n",
       "14  165127.911772              покупка жилой недвижимости  \n",
       "15  116820.904450  строительство собственной недвижимости  \n",
       "16  289202.704229                            недвижимость  \n",
       "17   90410.586745              строительство недвижимости  \n",
       "18   56823.777243      на покупку подержанного автомобиля  \n",
       "19  242831.107982            на покупку своего автомобиля  "
      ]
     },
     "execution_count": 2,
     "metadata": {},
     "output_type": "execute_result"
    }
   ],
   "source": [
    "data.head(20)"
   ]
  },
  {
   "cell_type": "markdown",
   "id": "8a85c3f0",
   "metadata": {
    "deletable": false,
    "editable": false,
    "id": "1c12e233"
   },
   "source": [
    "**Задание 3. Выведите основную информацию о датафрейме с помощью метода `info()`.**"
   ]
  },
  {
   "cell_type": "code",
   "execution_count": 3,
   "id": "650f96f8",
   "metadata": {
    "deletable": false,
    "id": "2b757bca",
    "outputId": "15376089-8dad-46c9-b520-c05248d43158"
   },
   "outputs": [
    {
     "name": "stdout",
     "output_type": "stream",
     "text": [
      "<class 'pandas.core.frame.DataFrame'>\n",
      "RangeIndex: 21525 entries, 0 to 21524\n",
      "Data columns (total 12 columns):\n",
      " #   Column            Non-Null Count  Dtype  \n",
      "---  ------            --------------  -----  \n",
      " 0   children          21525 non-null  int64  \n",
      " 1   days_employed     19351 non-null  float64\n",
      " 2   dob_years         21525 non-null  int64  \n",
      " 3   education         21525 non-null  object \n",
      " 4   education_id      21525 non-null  int64  \n",
      " 5   family_status     21525 non-null  object \n",
      " 6   family_status_id  21525 non-null  int64  \n",
      " 7   gender            21525 non-null  object \n",
      " 8   income_type       21525 non-null  object \n",
      " 9   debt              21525 non-null  int64  \n",
      " 10  total_income      19351 non-null  float64\n",
      " 11  purpose           21525 non-null  object \n",
      "dtypes: float64(2), int64(5), object(5)\n",
      "memory usage: 2.0+ MB\n"
     ]
    }
   ],
   "source": [
    "data.info()"
   ]
  },
  {
   "cell_type": "markdown",
   "id": "7dd04c28",
   "metadata": {
    "deletable": false,
    "editable": false,
    "id": "333ec665"
   },
   "source": [
    "## Предобработка данных"
   ]
  },
  {
   "cell_type": "markdown",
   "id": "7c722189",
   "metadata": {
    "deletable": false,
    "editable": false,
    "id": "02d92d53"
   },
   "source": [
    "### Удаление пропусков"
   ]
  },
  {
   "cell_type": "markdown",
   "id": "55d36a9f",
   "metadata": {
    "deletable": false,
    "editable": false,
    "id": "cd84967c"
   },
   "source": [
    "**Задание 4. Выведите количество пропущенных значений для каждого столбца. Используйте комбинацию двух методов.**"
   ]
  },
  {
   "cell_type": "code",
   "execution_count": 4,
   "id": "6aa9fbac",
   "metadata": {
    "deletable": false,
    "id": "7f9b2309",
    "outputId": "81f4d817-781c-465c-ed15-91ce4446810d"
   },
   "outputs": [
    {
     "data": {
      "text/plain": [
       "children               0\n",
       "days_employed       2174\n",
       "dob_years              0\n",
       "education              0\n",
       "education_id           0\n",
       "family_status          0\n",
       "family_status_id       0\n",
       "gender                 0\n",
       "income_type            0\n",
       "debt                   0\n",
       "total_income        2174\n",
       "purpose                0\n",
       "dtype: int64"
      ]
     },
     "execution_count": 4,
     "metadata": {},
     "output_type": "execute_result"
    }
   ],
   "source": [
    "data.isna().sum()"
   ]
  },
  {
   "cell_type": "markdown",
   "id": "8f6bede3",
   "metadata": {
    "deletable": false,
    "editable": false,
    "id": "db86e27b"
   },
   "source": [
    "**Задание 5. В двух столбцах есть пропущенные значения. Один из них — `days_employed`. Пропуски в этом столбце вы обработаете на следующем этапе. Другой столбец с пропущенными значениями — `total_income` — хранит данные о доходах. На сумму дохода сильнее всего влияет тип занятости, поэтому заполнить пропуски в этом столбце нужно медианным значением по каждому типу из столбца `income_type`. Например, у человека с типом занятости `сотрудник` пропуск в столбце `total_income` должен быть заполнен медианным доходом среди всех записей с тем же типом.**"
   ]
  },
  {
   "cell_type": "code",
   "execution_count": 5,
   "id": "39fd3b30",
   "metadata": {
    "deletable": false,
    "id": "42006a93"
   },
   "outputs": [],
   "source": [
    "for t in data['income_type'].unique():\n",
    "    data.loc[(data['income_type'] == t) & (data['total_income'].isna()), 'total_income'] = \\\n",
    "    data.loc[(data['income_type'] == t), 'total_income'].median()"
   ]
  },
  {
   "cell_type": "markdown",
   "id": "6415d493",
   "metadata": {
    "deletable": false,
    "editable": false,
    "id": "89da5ece"
   },
   "source": [
    "### Обработка аномальных значений"
   ]
  },
  {
   "cell_type": "markdown",
   "id": "6044cee1",
   "metadata": {
    "deletable": false,
    "editable": false,
    "id": "57964554"
   },
   "source": [
    "**Задание 6. В данных могут встречаться артефакты (аномалии) — значения, которые не отражают действительность и появились по какой-то ошибке. таким артефактом будет отрицательное количество дней трудового стажа в столбце `days_employed`. Для реальных данных это нормально. Обработайте значения в этом столбце: замените все отрицательные значения положительными с помощью метода `abs()`.**"
   ]
  },
  {
   "cell_type": "code",
   "execution_count": 6,
   "id": "9864550a",
   "metadata": {
    "deletable": false,
    "id": "f6f055bf"
   },
   "outputs": [],
   "source": [
    "data['days_employed'] = data['days_employed'].abs()"
   ]
  },
  {
   "cell_type": "markdown",
   "id": "681ffa04",
   "metadata": {
    "deletable": false,
    "editable": false,
    "id": "6107dd2f"
   },
   "source": [
    "**Задание 7. Для каждого типа занятости выведите медианное значение трудового стажа `days_employed` в днях.**"
   ]
  },
  {
   "cell_type": "code",
   "execution_count": 7,
   "id": "02cc9c4d",
   "metadata": {
    "deletable": false,
    "id": "85a5faf6",
    "outputId": "801ef80e-522b-4668-f34e-565af7432bcf"
   },
   "outputs": [
    {
     "data": {
      "text/plain": [
       "income_type\n",
       "безработный        366413.652744\n",
       "в декрете            3296.759962\n",
       "госслужащий          2689.368353\n",
       "компаньон            1547.382223\n",
       "пенсионер          365213.306266\n",
       "предприниматель       520.848083\n",
       "сотрудник            1574.202821\n",
       "студент               578.751554\n",
       "Name: days_employed, dtype: float64"
      ]
     },
     "execution_count": 7,
     "metadata": {},
     "output_type": "execute_result"
    }
   ],
   "source": [
    "data.groupby('income_type')['days_employed'].agg('median')"
   ]
  },
  {
   "cell_type": "markdown",
   "id": "8c5eef72",
   "metadata": {
    "deletable": false,
    "editable": false,
    "id": "38d1a030"
   },
   "source": [
    "У двух типов (безработные и пенсионеры) получатся аномально большие значения. Исправить такие значения сложно, поэтому оставьте их как есть. Тем более этот столбец не понадобится вам для исследования."
   ]
  },
  {
   "cell_type": "markdown",
   "id": "335be3bf",
   "metadata": {
    "deletable": false,
    "editable": false,
    "id": "d8a9f147"
   },
   "source": [
    "**Задание 8. Выведите перечень уникальных значений столбца `children`.**"
   ]
  },
  {
   "cell_type": "code",
   "execution_count": 8,
   "id": "ef47e282",
   "metadata": {
    "deletable": false,
    "id": "ef5056eb",
    "outputId": "6975b15c-7f95-4697-d16d-a0c79b657b03"
   },
   "outputs": [
    {
     "data": {
      "text/plain": [
       "array([ 1,  0,  3,  2, -1,  4, 20,  5])"
      ]
     },
     "execution_count": 8,
     "metadata": {},
     "output_type": "execute_result"
    }
   ],
   "source": [
    "data['children'].unique()"
   ]
  },
  {
   "cell_type": "markdown",
   "id": "575079de",
   "metadata": {
    "deletable": false,
    "editable": false,
    "id": "40b9ebf2"
   },
   "source": [
    "**Задание 9. В столбце `children` есть два аномальных значения. Удалите строки, в которых встречаются такие аномальные значения из датафрейма `data`.**"
   ]
  },
  {
   "cell_type": "code",
   "execution_count": 9,
   "id": "14581b76",
   "metadata": {
    "deletable": false,
    "id": "3ff9801d"
   },
   "outputs": [],
   "source": [
    "data = data[(data['children'] != -1) & (data['children'] != 20)]"
   ]
  },
  {
   "cell_type": "markdown",
   "id": "02bfe153",
   "metadata": {
    "deletable": false,
    "editable": false,
    "id": "bbc4d0ce"
   },
   "source": [
    "**Задание 10. Ещё раз выведите перечень уникальных значений столбца `children`, чтобы убедиться, что артефакты удалены.**"
   ]
  },
  {
   "cell_type": "code",
   "execution_count": 10,
   "id": "20c65ee2",
   "metadata": {
    "deletable": false,
    "id": "ad4fa8b7",
    "outputId": "b2097101-d49d-44d9-901b-32a65c9463d1"
   },
   "outputs": [
    {
     "data": {
      "text/plain": [
       "array([1, 0, 3, 2, 4, 5])"
      ]
     },
     "execution_count": 10,
     "metadata": {},
     "output_type": "execute_result"
    }
   ],
   "source": [
    "data['children'].unique()"
   ]
  },
  {
   "cell_type": "markdown",
   "id": "b0ed1cc7",
   "metadata": {
    "deletable": false,
    "editable": false,
    "id": "75440b63"
   },
   "source": [
    "### Удаление пропусков (продолжение)"
   ]
  },
  {
   "cell_type": "markdown",
   "id": "e657594b",
   "metadata": {
    "deletable": false,
    "editable": false,
    "id": "f4ea573f"
   },
   "source": [
    "**Задание 11. Заполните пропуски в столбце `days_employed` медианными значениями по каждого типа занятости `income_type`.**"
   ]
  },
  {
   "cell_type": "code",
   "execution_count": 11,
   "id": "cd9f1974",
   "metadata": {
    "deletable": false,
    "id": "af6b1a7e"
   },
   "outputs": [],
   "source": [
    "for t in data['income_type'].unique():\n",
    "    data.loc[(data['income_type'] == t) & (data['days_employed'].isna()), 'days_employed'] = \\\n",
    "    data.loc[(data['income_type'] == t), 'days_employed'].median()"
   ]
  },
  {
   "cell_type": "markdown",
   "id": "cd0248ec",
   "metadata": {
    "deletable": false,
    "editable": false,
    "id": "2753f40d"
   },
   "source": [
    "**Задание 12. Убедитесь, что все пропуски заполнены. Проверьте себя и ещё раз выведите количество пропущенных значений для каждого столбца с помощью двух методов.**"
   ]
  },
  {
   "cell_type": "code",
   "execution_count": 12,
   "id": "b8d22d0b",
   "metadata": {
    "deletable": false,
    "id": "55f78bc2",
    "outputId": "8da1e4e1-358e-4e87-98c9-f261bce0a7b2"
   },
   "outputs": [
    {
     "data": {
      "text/plain": [
       "children            0\n",
       "days_employed       0\n",
       "dob_years           0\n",
       "education           0\n",
       "education_id        0\n",
       "family_status       0\n",
       "family_status_id    0\n",
       "gender              0\n",
       "income_type         0\n",
       "debt                0\n",
       "total_income        0\n",
       "purpose             0\n",
       "dtype: int64"
      ]
     },
     "execution_count": 12,
     "metadata": {},
     "output_type": "execute_result"
    }
   ],
   "source": [
    "data.isna().sum()"
   ]
  },
  {
   "cell_type": "markdown",
   "id": "ed84fadb",
   "metadata": {
    "deletable": false,
    "editable": false,
    "id": "ddc81e43"
   },
   "source": [
    "### Изменение типов данных"
   ]
  },
  {
   "cell_type": "markdown",
   "id": "54af8600",
   "metadata": {
    "deletable": false,
    "editable": false,
    "id": "42d19d24"
   },
   "source": [
    "**Задание 13. Замените вещественный тип данных в столбце `total_income` на целочисленный с помощью метода `astype()`.**"
   ]
  },
  {
   "cell_type": "code",
   "execution_count": 13,
   "id": "4a1bba7a",
   "metadata": {
    "deletable": false,
    "id": "920b65ad"
   },
   "outputs": [],
   "source": [
    "data['total_income'] = data['total_income'].astype(int)"
   ]
  },
  {
   "cell_type": "markdown",
   "id": "c8775ad8",
   "metadata": {
    "deletable": false,
    "editable": false,
    "id": "80c420ba"
   },
   "source": [
    "### Обработка дубликатов"
   ]
  },
  {
   "cell_type": "markdown",
   "id": "fc376af8",
   "metadata": {
    "deletable": false,
    "editable": false
   },
   "source": [
    "**Задание 14. Обработайте неявные дубликаты в столбце `education`. В этом столбце есть одни и те же значения, но записанные по-разному: с использованием заглавных и строчных букв. Приведите их к нижнему регистру. Проверьте остальные столбцы.**"
   ]
  },
  {
   "cell_type": "code",
   "execution_count": 14,
   "id": "16b81620",
   "metadata": {
    "deletable": false
   },
   "outputs": [],
   "source": [
    "data['education'] = data['education'].str.lower()"
   ]
  },
  {
   "cell_type": "markdown",
   "id": "73a6795b",
   "metadata": {
    "deletable": false,
    "editable": false,
    "id": "dc587695"
   },
   "source": [
    "**Задание 15. Выведите на экран количество строк-дубликатов в данных. Если такие строки присутствуют, удалите их.**"
   ]
  },
  {
   "cell_type": "code",
   "execution_count": 15,
   "id": "f2f2580a",
   "metadata": {
    "deletable": false,
    "id": "3ee445e4",
    "outputId": "9684deba-1934-42d1-99e1-cda61740f822"
   },
   "outputs": [
    {
     "data": {
      "text/plain": [
       "71"
      ]
     },
     "execution_count": 15,
     "metadata": {},
     "output_type": "execute_result"
    }
   ],
   "source": [
    "data.duplicated().sum()"
   ]
  },
  {
   "cell_type": "code",
   "execution_count": 16,
   "id": "052528a1",
   "metadata": {
    "deletable": false,
    "id": "8575fe05"
   },
   "outputs": [],
   "source": [
    "data = data.drop_duplicates()"
   ]
  },
  {
   "cell_type": "markdown",
   "id": "92a377e3",
   "metadata": {
    "deletable": false,
    "editable": false,
    "id": "9904cf55"
   },
   "source": [
    "### Категоризация данных"
   ]
  },
  {
   "cell_type": "markdown",
   "id": "6b00bf11",
   "metadata": {
    "deletable": false,
    "editable": false,
    "id": "72fcc8a2"
   },
   "source": [
    "**Задание 16. На основании диапазонов, указанных ниже, создайте в датафрейме `data` столбец `total_income_category` с категориями:**\n",
    "\n",
    "- 0–30000 — `'E'`;\n",
    "- 30001–50000 — `'D'`;\n",
    "- 50001–200000 — `'C'`;\n",
    "- 200001–1000000 — `'B'`;\n",
    "- 1000001 и выше — `'A'`.\n",
    "\n",
    "\n",
    "**Например, кредитополучателю с доходом 25000 нужно назначить категорию `'E'`, а клиенту, получающему 235000, — `'B'`. Используйте собственную функцию с именем `categorize_income()` и метод `apply()`.**"
   ]
  },
  {
   "cell_type": "code",
   "execution_count": 17,
   "id": "81ebc92a",
   "metadata": {
    "deletable": false,
    "id": "e1771346"
   },
   "outputs": [],
   "source": [
    "def categorize_income(income):\n",
    "    try:\n",
    "        if 0 <= income <= 30000:\n",
    "            return 'E'\n",
    "        elif 30001 <= income <= 50000:\n",
    "            return 'D'\n",
    "        elif 50001 <= income <= 200000:\n",
    "            return 'C'\n",
    "        elif 200001 <= income <= 1000000:\n",
    "            return 'B'\n",
    "        elif income >= 1000001:\n",
    "            return 'A'\n",
    "    except:\n",
    "        pass"
   ]
  },
  {
   "cell_type": "code",
   "execution_count": 18,
   "id": "fac348a0",
   "metadata": {
    "deletable": false,
    "id": "d5f3586d"
   },
   "outputs": [],
   "source": [
    "data['total_income_category'] = data['total_income'].apply(categorize_income)"
   ]
  },
  {
   "cell_type": "markdown",
   "id": "c76554d4",
   "metadata": {
    "deletable": false,
    "editable": false,
    "id": "dde49b5c"
   },
   "source": [
    "**Задание 17. Выведите на экран перечень уникальных целей взятия кредита из столбца `purpose`.**"
   ]
  },
  {
   "cell_type": "code",
   "execution_count": 19,
   "id": "f36c3c5e",
   "metadata": {
    "deletable": false,
    "id": "f67ce9b3",
    "outputId": "673c12d9-7d7e-4ae0-9812-c622c89dd244"
   },
   "outputs": [
    {
     "data": {
      "text/plain": [
       "array(['покупка жилья', 'приобретение автомобиля',\n",
       "       'дополнительное образование', 'сыграть свадьбу',\n",
       "       'операции с жильем', 'образование', 'на проведение свадьбы',\n",
       "       'покупка жилья для семьи', 'покупка недвижимости',\n",
       "       'покупка коммерческой недвижимости', 'покупка жилой недвижимости',\n",
       "       'строительство собственной недвижимости', 'недвижимость',\n",
       "       'строительство недвижимости', 'на покупку подержанного автомобиля',\n",
       "       'на покупку своего автомобиля',\n",
       "       'операции с коммерческой недвижимостью',\n",
       "       'строительство жилой недвижимости', 'жилье',\n",
       "       'операции со своей недвижимостью', 'автомобили',\n",
       "       'заняться образованием', 'сделка с подержанным автомобилем',\n",
       "       'получение образования', 'автомобиль', 'свадьба',\n",
       "       'получение дополнительного образования', 'покупка своего жилья',\n",
       "       'операции с недвижимостью', 'получение высшего образования',\n",
       "       'свой автомобиль', 'сделка с автомобилем',\n",
       "       'профильное образование', 'высшее образование',\n",
       "       'покупка жилья для сдачи', 'на покупку автомобиля', 'ремонт жилью',\n",
       "       'заняться высшим образованием'], dtype=object)"
      ]
     },
     "execution_count": 19,
     "metadata": {},
     "output_type": "execute_result"
    }
   ],
   "source": [
    "data['purpose'].unique()"
   ]
  },
  {
   "cell_type": "markdown",
   "id": "ae83039a",
   "metadata": {
    "deletable": false,
    "editable": false,
    "id": "85d0aef0"
   },
   "source": [
    "**Задание 18. Создайте функцию, которая на основании данных из столбца `purpose` сформирует новый столбец `purpose_category`, в который войдут следующие категории:**\n",
    "\n",
    "- `'операции с автомобилем'`,\n",
    "- `'операции с недвижимостью'`,\n",
    "- `'проведение свадьбы'`,\n",
    "- `'получение образования'`.\n",
    "\n",
    "**Например, если в столбце `purpose` находится подстрока `'на покупку автомобиля'`, то в столбце `purpose_category` должна появиться строка `'операции с автомобилем'`.**\n",
    "\n",
    "**Используйте собственную функцию с именем `categorize_purpose()` и метод `apply()`. Изучите данные в столбце `purpose` и определите, какие подстроки помогут вам правильно определить категорию.**"
   ]
  },
  {
   "cell_type": "code",
   "execution_count": 20,
   "id": "b5202d16",
   "metadata": {
    "deletable": false,
    "id": "e149fab4"
   },
   "outputs": [],
   "source": [
    "def categorize_purpose(row):\n",
    "    try:\n",
    "        if 'автом' in row:\n",
    "            return 'операции с автомобилем'\n",
    "        elif 'жил' in row or 'недвиж' in row:\n",
    "            return 'операции с недвижимостью'\n",
    "        elif 'свад' in row:\n",
    "            return 'проведение свадьбы'\n",
    "        elif 'образов' in row:\n",
    "            return 'получение образования'\n",
    "    except:\n",
    "        return 'нет категории'"
   ]
  },
  {
   "cell_type": "code",
   "execution_count": 21,
   "id": "a089e5c3",
   "metadata": {
    "deletable": false,
    "id": "bf36e69b"
   },
   "outputs": [],
   "source": [
    "data['purpose_category'] = data['purpose'].apply(categorize_purpose)"
   ]
  },
  {
   "cell_type": "markdown",
   "id": "ca016bca",
   "metadata": {
    "deletable": false,
    "editable": false,
    "id": "09b242bf"
   },
   "source": [
    "### Шаг 3. Исследуйте данные и ответьте на вопросы"
   ]
  },
  {
   "cell_type": "markdown",
   "id": "d44fc716",
   "metadata": {
    "deletable": false,
    "editable": false,
    "id": "c5d66278"
   },
   "source": [
    "#### 3.1 Есть ли зависимость между количеством детей и возвратом кредита в срок?"
   ]
  },
  {
   "cell_type": "code",
   "execution_count": 22,
   "id": "29cff9fc",
   "metadata": {
    "deletable": false,
    "id": "2cacfc4a"
   },
   "outputs": [
    {
     "name": "stdout",
     "output_type": "stream",
     "text": [
      "<class 'pandas.core.frame.DataFrame'>\n",
      "RangeIndex: 21525 entries, 0 to 21524\n",
      "Data columns (total 12 columns):\n",
      " #   Column            Non-Null Count  Dtype  \n",
      "---  ------            --------------  -----  \n",
      " 0   children          21525 non-null  int64  \n",
      " 1   days_employed     19351 non-null  float64\n",
      " 2   dob_years         21525 non-null  int64  \n",
      " 3   education         21525 non-null  object \n",
      " 4   education_id      21525 non-null  int64  \n",
      " 5   family_status     21525 non-null  object \n",
      " 6   family_status_id  21525 non-null  int64  \n",
      " 7   gender            21525 non-null  object \n",
      " 8   income_type       21525 non-null  object \n",
      " 9   debt              21525 non-null  int64  \n",
      " 10  total_income      19351 non-null  float64\n",
      " 11  purpose           21525 non-null  object \n",
      "dtypes: float64(2), int64(5), object(5)\n",
      "memory usage: 2.0+ MB\n",
      "None\n"
     ]
    }
   ],
   "source": [
    "import pandas as pd\n",
    "\n",
    "try:\n",
    "    data = pd.read_csv('/datasets/data.csv')\n",
    "except:\n",
    "    data = pd.read_csv('https://code.s3.yandex.net/datasets/data.csv')\n",
    "    \n",
    "print(data.info())    # есть пропуски в столбцах 'days_employed' и 'total_income '\n"
   ]
  },
  {
   "cell_type": "code",
   "execution_count": 23,
   "id": "dafabd76",
   "metadata": {},
   "outputs": [
    {
     "name": "stdout",
     "output_type": "stream",
     "text": [
      "[ 1  0  3  2 -1  4 20  5]\n",
      "[0 1]\n"
     ]
    }
   ],
   "source": [
    "#  Проверим столбцы 'children' и 'debt' на уникальные значения\n",
    "print(data['children'].unique())\n",
    "print(data['debt'].unique())\n",
    " \n",
    "# Удалим строки в столбце 'children' с аномальными значениями и проверим ещё раз. \n",
    "\n",
    "data = data[(data['children'] != -1) & (data['children'] != 20)]\n",
    "# print(data['children'].unique())\n",
    "\n"
   ]
  },
  {
   "cell_type": "code",
   "execution_count": 24,
   "id": "7c556fb7",
   "metadata": {},
   "outputs": [
    {
     "name": "stdout",
     "output_type": "stream",
     "text": [
      "           sum  count      mean\n",
      "          debt   debt      debt\n",
      "children                       \n",
      "0         1063  14149  0.075129\n",
      "1          444   4818  0.092154\n",
      "2          194   2055  0.094404\n",
      "3           27    330  0.081818\n",
      "4            4     41  0.097561\n",
      "5            0      9  0.000000\n"
     ]
    }
   ],
   "source": [
    "# Сгруппируем датафрейм по количеству детей в семье. Узнаем количество заёмщиков в каждой группе.\n",
    "# Узнаем количество заёмщиков, которые уже имели задолженность по возврату кредитов. \n",
    "# Значение столбца 'debt' = 0 (нет задолженностей), 'debt' = 1 (есть задолженности)\n",
    "# children_grouped = data.groupby('children').agg({'debt': ['count', 'sum']}) \n",
    "# print(children_grouped)\n",
    "# Рассчитаем конверсию для потенциальных должников среди заёмщиков в каждой группе.\n",
    "# debt_children_percent = data.groupby('children')['debt'].sum() / data.groupby('children')['debt'].count()*100\n",
    "# print(debt_children_percent)\n",
    "\n",
    "# Изменила код\n",
    "\n",
    "data_pivot_children = data.pivot_table(index=['children'], values=['debt'], aggfunc=['sum','count','mean'])\n",
    "\n",
    "print(data_pivot_children)\n"
   ]
  },
  {
   "cell_type": "markdown",
   "id": "98911849",
   "metadata": {},
   "source": [
    "<div class=\"alert alert-warning\">\n",
    "    <h2> Комментарий ревьюера V1<a class=\"tocSkip\"> </h2>\n",
    "    \n",
    "<b>Некоторые замечания и рекомендации💡:</b> Вижу, что ты хорошо справляешься с методом `groupby()`, стоило объединить верхние две ячейки в одну сводную таблицу, чтобы легче было анализировать информацию по группам. Также ты можешь воспользоваться методом `pivot_table()`"
   ]
  },
  {
   "cell_type": "markdown",
   "id": "d6709508",
   "metadata": {},
   "source": [
    "<div class=\"alert alert-success\">\n",
    "<h2> Комментарий ревьюера V2<a class=\"tocSkip\"> </h2>\n",
    "\n",
    "<b>Все отлично!👍:</b> Отлично построила сводную таблицу! Согласись, что по ней гораздо удобнее анализировать группы клиентов.\n",
    "</div>"
   ]
  },
  {
   "cell_type": "markdown",
   "id": "63f25895",
   "metadata": {
    "deletable": false,
    "id": "3a6b99ec"
   },
   "source": [
    "**Новый Вывод:** \n",
    "- Для данного исследования конверсия в пределах 1% имеет значение, так как речь идет о возврате заемщиками банку значительных денежных сумм в срок.\n",
    "- минимальную конверсию 7,5 % имеет группа заёмщиков без детей.\n",
    "- конверсия в группе с 3-мя детьми составляет 8,2 %.\n",
    "- группы заемщиков, имеющие 1- 2 ребенка показывают конверсию 9,2 и 9,4 % соответственно, что выше, чем в группе заёмщиков без    детей или в группе с 3-мя детьми.\n",
    "- группы заемщиков имеющие 4 ребенка показывают наибольшую конверсию среди заемщиков - 9,8 %.\n",
    "- в группе заёмщиков с 5 детьми не выявлены заемщики, которые не погашают кредит в срок, то есть конверсия 0 %. Но имеющиеся у нас данные    не позволяют сделать вывод о том, что заёмщики данной группы более добросовестные, чем остальные. Так как количество заещиков с 5 детьми достаточно мало, всего 9 человек, данной выборки недостаточно, чтобы сделать вывод по данной группе.\n",
    "\n",
    "**Предыдущий вывод:**\n",
    "- Группы заёмщиков с количеством детей от 0 до 4 имеют примерно одинаковый процент заёмщиков, которые не погашают кредит в срок     - 7-9 %. При этом процент недобросовестных заёмщиков, не имеющих детей в данной группе ниже, чем у остальных. \n",
    "- В группе заёмщиков с 5 детьми не выявлены заемщики, которые не погашают кредит в срок, то есть 0 %. Но имеющиеся у нас данные    не позволяют сделать вывод о том, что заёмщики данной группы более добросовестные, чем остальные. Так как количество заещиков    с 5 детьми достаточно мало (всего 9 человек), данной выборки недостаточно, чтобы сделать вывод по данной группе. \n",
    "- Возврат кредита в срок практически не зависит от количеством детей у заёмщика"
   ]
  },
  {
   "cell_type": "markdown",
   "id": "431accc3",
   "metadata": {},
   "source": [
    "<div class=\"alert alert-warning\">\n",
    "    <h2> Комментарий ревьюера V1<a class=\"tocSkip\"> </h2>\n",
    "    \n",
    "<b>Некоторые замечания и рекомендации💡:</b> Молодец, что отметила недостаточное количество наблюдений в группе клиентов с 5 детьми. Однако зависимость есть, клиенты без детей все таки реже допускают просрочки. Отличие на несколько % между группами в полне вероятно может быть значимым, поэтому делать вывод об отсутствии зависимости в данном случае неправильно."
   ]
  },
  {
   "cell_type": "markdown",
   "id": "5e62f690",
   "metadata": {},
   "source": [
    "<div class=\"alert alert-success\">\n",
    "<h2> Комментарий ревьюера V2<a class=\"tocSkip\"> </h2>\n",
    "\n",
    "<b>Все отлично!👍:</b> Абсолютно верно, так держать!\n",
    "</div>"
   ]
  },
  {
   "cell_type": "markdown",
   "id": "1d17a61b",
   "metadata": {
    "deletable": false,
    "editable": false,
    "id": "97be82ca"
   },
   "source": [
    "#### 3.2 Есть ли зависимость между семейным положением и возвратом кредита в срок?"
   ]
  },
  {
   "cell_type": "code",
   "execution_count": 25,
   "id": "65b392e5",
   "metadata": {
    "deletable": false,
    "id": "dc3f7ee8"
   },
   "outputs": [
    {
     "name": "stdout",
     "output_type": "stream",
     "text": [
      "['женат / замужем' 'гражданский брак' 'вдовец / вдова' 'в разводе'\n",
      " 'Не женат / не замужем']\n"
     ]
    }
   ],
   "source": [
    "#  Проверим столбец 'family_status' на уникальные значения.\n",
    "\n",
    "print(data['family_status'].unique())\n"
   ]
  },
  {
   "cell_type": "code",
   "execution_count": 26,
   "id": "11ef18d6",
   "metadata": {},
   "outputs": [
    {
     "name": "stdout",
     "output_type": "stream",
     "text": [
      "                       sum  count      mean\n",
      "                      debt   debt      debt\n",
      "family_status                              \n",
      "Не женат / не замужем  273   2799  0.097535\n",
      "в разводе               84   1189  0.070648\n",
      "вдовец / вдова          63    952  0.066176\n",
      "гражданский брак       385   4160  0.092548\n",
      "женат / замужем        927  12302  0.075354\n"
     ]
    }
   ],
   "source": [
    "# Сгруппируем датафрейм по уникальным значениям в столбце 'family_status'.\n",
    "# Узнаем количество заёмщиков в каждой группе.\n",
    "# Узнаем количество заёмщиков, которые уже имели задолженность по возврату кредитов.\n",
    "# Значение столбца 'debt' = 0 (нет задолженностей), 'debt' = 1 (есть задолженности).\n",
    "\n",
    "#family_status_grouped = data.groupby('family_status').agg({'debt': ['count', 'sum']}) \n",
    "#print(family_status_grouped)\n",
    "\n",
    "# Рассчитаем конверсию для потенциальных должников среди заёмщиков в каждой группе.\n",
    "#debt_family_status_percent = data.groupby('family_status')['debt'].sum() / data.groupby('family_status')['debt'].count()*100\n",
    "#print(debt_family_status_percent.sort_values())\n",
    "\n",
    "# Изменила код\n",
    "\n",
    "data_family_status_pivot = data.pivot_table(index=['family_status'], values=['debt'], aggfunc=['sum','count','mean'])\n",
    "\n",
    "print(data_family_status_pivot) # Подскажи, нужно ли сортировать результат по возрастанию столбца mean debt\n",
    "# и, если да, то как это сделать? \n",
    "# print(data_family_status_pivot.sort.value((by=' ????  '))"
   ]
  },
  {
   "cell_type": "markdown",
   "id": "81176f85",
   "metadata": {},
   "source": [
    "<div class=\"alert alert-warning\">\n",
    "    <h2> Комментарий ревьюера V1<a class=\"tocSkip\"> </h2>\n",
    "    \n",
    "<b>Некоторые замечания и рекомендации💡:</b> Также стоит объединить верхние ячейки в одну сводную таблицу."
   ]
  },
  {
   "cell_type": "markdown",
   "id": "7a987974",
   "metadata": {},
   "source": [
    "<div class=\"alert alert-success\">\n",
    "<h2> Комментарий ревьюера V2<a class=\"tocSkip\"> </h2>\n",
    "\n",
    "<b>Все отлично!👍:</b> И снова корректно построенная сводная таблица, видно, как ты успешно прокачиваешь свои навыки!\n",
    "</div>"
   ]
  },
  {
   "cell_type": "markdown",
   "id": "f46eff10",
   "metadata": {
    "deletable": false,
    "id": "1cef7837"
   },
   "source": [
    "**Новый Вывод:** \n",
    "- анализ групп заемщиков по семейному положению показал? что наиболее надежными заемщиками является группа, имеющая семейный статус \"вдовец / вдова\". Конверсия составляет 6.7 %.\n",
    "- далее по надежности с точки зрения возврата кредита в срок следуют группы \" в разводе\" и \"женат / замужем\" с конверсией 7.0 % и 7.5 % соответственно.\n",
    "- наименее нажедными являются заёмщики в группах \"гражданский брак\" и \"Не женат / не замужем\"  с конверсией 9.3 % и 9.8 % соответственно.\n",
    "\n",
    "**Предыдущий вывод:**\n",
    "* анализ групп заемщиков по семейному положению показал, что в каждой группе имеется примерно одинаковый процент заёмщиков, которые не погашают кредит в срок  - 6-9 %.\n",
    "* при этом более надежными заемщиками являются группы, имеющие семейный статус \"вдовец / вдова\"  и \" в разводе\".\n",
    "  менее надежными заемщиками являются группы, имеющие семейный статус \"гражданский брак\"  и \"Не женат / не замужем\".\n",
    "* Возврат кредита в срок практически не зависит от семейного положения заёмщика."
   ]
  },
  {
   "cell_type": "markdown",
   "id": "f9df9617",
   "metadata": {},
   "source": [
    "<div class=\"alert alert-warning\">\n",
    "    <h2> Комментарий ревьюера V1<a class=\"tocSkip\"> </h2>\n",
    "    \n",
    "<b>Некоторые замечания и рекомендации💡:</b> Опять же различия между группами есть, мы делаем выводы о разнице между ними, следовательно отличие на несколько процентов уже говорит о том, что некоторые группы клиентов реже допускают просрочки. Подсказка: если внимательно посмотреть на группы, то можно выделить 2 класса."
   ]
  },
  {
   "cell_type": "markdown",
   "id": "7b1fafbf",
   "metadata": {},
   "source": [
    "<div class=\"alert alert-success\">\n",
    "<h2> Комментарий ревьюера V2<a class=\"tocSkip\"> </h2>\n",
    "\n",
    "<b>Все отлично!👍:</b> Все верно, если посмотреть на группы, то можно выявить закономерность: клиенты, которые когда либо были в браке, реже допускают просрочки по кредитам.\n",
    "</div>"
   ]
  },
  {
   "cell_type": "markdown",
   "id": "f0f4de40",
   "metadata": {
    "deletable": false,
    "editable": false,
    "id": "1e8b2fca"
   },
   "source": [
    "#### 3.3 Есть ли зависимость между уровнем дохода и возвратом кредита в срок?"
   ]
  },
  {
   "cell_type": "code",
   "execution_count": 27,
   "id": "2bdd5a67",
   "metadata": {},
   "outputs": [
    {
     "name": "stdout",
     "output_type": "stream",
     "text": [
      "пропуски до 2162\n",
      "пропуски после 0\n"
     ]
    }
   ],
   "source": [
    "# Заполним пропуски в столбце 'total_income' медианными значениями для каждого типа занятости income_type.\n",
    "\n",
    "print('пропуски до', data['total_income'].isna().sum())\n",
    "\n",
    "for person in data['income_type'].unique(): \n",
    "    median = data.loc[data['income_type'] == person, 'total_income'].median()\n",
    "    #print(person, median)\n",
    "    data.loc[(data['income_type'] == person) & (data['total_income'].isna()), 'total_income'] = median\n",
    "print('пропуски после', data['income_type'].isna().sum())  \n"
   ]
  },
  {
   "cell_type": "code",
   "execution_count": 28,
   "id": "7652043a",
   "metadata": {
    "deletable": false,
    "id": "cd7e3720"
   },
   "outputs": [],
   "source": [
    "# Используем функцию categorize_income(income) и столбец 'total_income_category' с категориями по уровню дохода:\n",
    "#0–30000 — 'E';\n",
    "#30001–50000 — 'D';\n",
    "#50001–200000 — 'C';\n",
    "#200001–1000000 — 'B';\n",
    "#1000001 и выше — 'A'.\n",
    "def categorize_income(income):\n",
    "    try:\n",
    "        if 0 <= income <= 30000:\n",
    "            return 'E'\n",
    "        elif 30001 <= income <= 50000:\n",
    "            return 'D'\n",
    "        elif 50001 <= income <= 200000:\n",
    "            return 'C'\n",
    "        elif 200001 <= income <= 1000000:\n",
    "            return 'B'\n",
    "        elif income >= 1000001:\n",
    "            return 'A'\n",
    "    except:\n",
    "        pass\n",
    "data['total_income_category'] = data['total_income'].apply(categorize_income)\n",
    "# print(data[['total_income','total_income_category']]. tail(10))\n",
    "# print(data.tail(10))"
   ]
  },
  {
   "cell_type": "code",
   "execution_count": 29,
   "id": "2568b5cd",
   "metadata": {},
   "outputs": [
    {
     "name": "stdout",
     "output_type": "stream",
     "text": [
      "                        sum  count      mean\n",
      "                       debt   debt      debt\n",
      "total_income_category                       \n",
      "A                         2     25  0.080000\n",
      "B                       354   5014  0.070602\n",
      "C                      1353  15992  0.084605\n",
      "D                        21    349  0.060172\n",
      "E                         2     22  0.090909\n"
     ]
    }
   ],
   "source": [
    "# Сгруппируем датафрейм по уникальным значениям в столбце 'total_income_category'.\n",
    "#Узнаем количество заёмщиков в каждой группе.\n",
    "#Узнаем количество заёмщиков, которые уже имели задолженность \n",
    "# по возврату кредитов. Значение столбца 'debt' = 0 (нет задолженностей), 'debt' = 1 (есть задолженности)\n",
    "\n",
    "#total_income_category_grouped = data.groupby('total_income_category').agg({'debt': ['count', 'sum']}) \n",
    "#print(total_income_category_grouped)\n",
    "# Рассчитаем конверсию для потенциальных должников среди заёмщиков в каждой группе.\n",
    "#debt_total_income_category_percent = data.groupby('total_income_category')['debt'].sum() / data.groupby('total_income_category')['debt'].count()*100\n",
    "#print(debt_total_income_category_percent.sort_values())\n",
    "\n",
    "# Изменила код\n",
    "\n",
    "data_income_category_pivot = data.pivot_table(index=['total_income_category'], values=['debt'], aggfunc=['sum','count','mean'])\n",
    "\n",
    "print(data_income_category_pivot)"
   ]
  },
  {
   "cell_type": "markdown",
   "id": "ce56f404",
   "metadata": {},
   "source": [
    "<div class=\"alert alert-warning\">\n",
    "    <h2> Комментарий ревьюера V1<a class=\"tocSkip\"> </h2>\n",
    "    \n",
    "<b>Некоторые замечания и рекомендации💡:</b> Напоминаю про объединение в одну сводную таблицу."
   ]
  },
  {
   "cell_type": "markdown",
   "id": "fe876d18",
   "metadata": {},
   "source": [
    "<div class=\"alert alert-success\">\n",
    "<h2> Комментарий ревьюера V2<a class=\"tocSkip\"> </h2>\n",
    "\n",
    "<b>Все отлично!👍:</b> Все верно!\n",
    "</div>"
   ]
  },
  {
   "cell_type": "markdown",
   "id": "4a5ee096",
   "metadata": {
    "deletable": false,
    "id": "e8593def"
   },
   "source": [
    "**Новый Вывод:** \n",
    "\n",
    "* количество клиентов в группах с уровнем дохода категории 'A'(1000001 и выше), 'D'(30001–50000) и 'E'(0–30000) достаточно мало, поэтому сложно сделать вывод о надежности заемщиков в этих группах на основании анализа: выборка может быть непоказательной.\n",
    "\n",
    "* анализ групп с уровнем дохода категории 'B'(200001–1000000) и 'С'(50001–200000) показал, что наиболее надежными являются    заемщики имеющие уровень дохода категории 'B'(200001–1000000), конверсия в данной группе составляет 7.1 %. \n",
    "  Менее наждежные заемщики имеют уровень дохода категории 'С'(50001–200000), конверсия - 8.5 %.\n",
    "\n",
    "\n",
    "**Предыдущий вывод:**\n",
    "* анализ групп заемщиков по уровню дохода показал, что в каждой группе имеется примерно одинаковый процент заёмщиков, которые не погашают кредит в срок -  6-9 %.\n",
    "* при этом более надежными заемщиками являются группы, имеющие уровень дохода категории 'D'(30001–50000) и 'B'(200001–1000000).\n",
    "* Можно предположить, что менее надежными заемщиками являются группы, имеющие  уровень дохода категории 'E'(0–30000). Но количество заемщиков категории 'E'(0–30000), также как и заемщиков категории 'A'(1000001 и выше) достаточно мало, поэтому выборка может быть непоказательной.\n",
    "* **Возврат кредита в срок практически не зависит от уровня дохода заёмщика.**"
   ]
  },
  {
   "cell_type": "markdown",
   "id": "2c1ee0c5",
   "metadata": {},
   "source": [
    "<div class=\"alert alert-block alert-danger\">\n",
    "<h2> Комментарий ревьюера V1<a class=\"tocSkip\"></h2>\n",
    "\n",
    "    \n",
    "<b>На доработку🤔:</b>\n",
    "Ты верно размышляешь, однак отмечу, что относительно друг друга группы отличаются по вероятности просрочки, даже если это отличие выражается в несколько процентов. Молодец, что учла недостаточное количество наблюдений в группах А и Е, как ты думаешь, можно ли анализировать группу D с группами В и С, достаточно ли в ней клиентов? Вывод о том, что зависимости нет, неправильный, посмотри на группы еще раз и постарайся сделать корректный вывод.\n",
    "</div>"
   ]
  },
  {
   "cell_type": "markdown",
   "id": "265219ad",
   "metadata": {},
   "source": [
    "<div class=\"alert alert-success\">\n",
    "<h2> Комментарий ревьюера V2<a class=\"tocSkip\"> </h2>\n",
    "\n",
    "<b>Все отлично!👍:</b> Абсолютно верно! Из-за маленького количества наблюдений в выборках А, Е и D, мы не можем их анализировать. Если посмотреть на другие группы, то выявляется закономерность: чем выше доход, тем меньше вероятность просрочки.\n",
    "</div>"
   ]
  },
  {
   "cell_type": "markdown",
   "id": "125877eb",
   "metadata": {
    "deletable": false,
    "editable": false,
    "id": "99ecbd1f"
   },
   "source": [
    "#### 3.4 Как разные цели кредита влияют на его возврат в срок?"
   ]
  },
  {
   "cell_type": "code",
   "execution_count": 30,
   "id": "6dd2f8f3",
   "metadata": {
    "deletable": false,
    "id": "2b687290"
   },
   "outputs": [],
   "source": [
    "# Используем функцию categorize_purpose и столбец 'purpose_category' со следующими категориями:\n",
    "#'операции с автомобилем',\n",
    "#'операции с недвижимостью',\n",
    "#'проведение свадьбы',\n",
    "#'получение образования'.\n",
    "def categorize_purpose(row):\n",
    "    try:\n",
    "        if 'автом' in row:\n",
    "            return 'операции с автомобилем'\n",
    "        elif 'жил' in row or 'недвиж' in row:\n",
    "            return 'операции с недвижимостью'\n",
    "        elif 'свад' in row:\n",
    "            return 'проведение свадьбы'\n",
    "        elif 'образов' in row:\n",
    "            return 'получение образования'\n",
    "    except:\n",
    "        return 'нет категории'\n",
    "data['purpose_category'] = data['purpose'].apply(categorize_purpose)    \n",
    "# print(data[['purpose','purpose_category']]. head(10)) "
   ]
  },
  {
   "cell_type": "code",
   "execution_count": 31,
   "id": "8d299475",
   "metadata": {},
   "outputs": [
    {
     "name": "stdout",
     "output_type": "stream",
     "text": [
      "                          sum  count      mean\n",
      "                         debt   debt      debt\n",
      "purpose_category                              \n",
      "операции с автомобилем    400   4288  0.093284\n",
      "операции с недвижимостью  780  10780  0.072356\n",
      "получение образования     369   3997  0.092319\n",
      "проведение свадьбы        183   2337  0.078306\n"
     ]
    }
   ],
   "source": [
    "# Сгруппируем датафрейм по уникальным значениям в столбце 'purpose_category'.\n",
    "#Узнаем количество заёмщиков в каждой группе.\n",
    "#Узнаем количество заёмщиков, которые уже имели задолженность \n",
    "# по возврату кредитов. Значение столбца 'debt' = 0 (нет задолженностей), 'debt' = 1 (есть задолженности)\n",
    "# purpose_category_grouped = data.groupby('purpose_category').agg({'debt': ['count', 'sum']}) \n",
    "#print(purpose_category_grouped)\n",
    "# Рассчитаем конверсию для потенциальных должников среди заёмщиков в каждой группе.\n",
    "#debt_purpose_category_percent = data.groupby('purpose_category')['debt'].sum() / data.groupby('purpose_category')['debt'].count()*100\n",
    "#print(debt_purpose_category_percent.sort_values())\n",
    "\n",
    "# Изменила код\n",
    "\n",
    "data_purpose_category_pivot = data.pivot_table(index=['purpose_category'], values=['debt'], aggfunc=['sum','count','mean'])\n",
    "print(data_purpose_category_pivot)"
   ]
  },
  {
   "cell_type": "markdown",
   "id": "aa4416d7",
   "metadata": {},
   "source": [
    "<div class=\"alert alert-warning\">\n",
    "    <h2> Комментарий ревьюера V1<a class=\"tocSkip\"> </h2>\n",
    "    \n",
    "<b>Некоторые замечания и рекомендации💡:</b> Здесь тоже было бы гораздо удобнее анализировать данные, если бы они были в одной сводной таблице."
   ]
  },
  {
   "cell_type": "markdown",
   "id": "7c41837c",
   "metadata": {},
   "source": [
    "<div class=\"alert alert-success\">\n",
    "<h2> Комментарий ревьюера V2<a class=\"tocSkip\"> </h2>\n",
    "\n",
    "<b>Все отлично!👍:</b> Молодец, что построила сводную таблицу.\n",
    "</div>"
   ]
  },
  {
   "cell_type": "markdown",
   "id": "124d86ba",
   "metadata": {
    "deletable": false,
    "id": "b4bb2ce6"
   },
   "source": [
    "**Новый Вывод:** \n",
    "* анализ групп заемщиков по цели кредита показал, что наиболее надежные заемщики - те, кто берет гредит на операции с недвижимостью и проведение свадьбы. Конверсия для данных групп составляет 7.2 % и 7.8 %. \n",
    "* просрочки допускают чаще заемщики, которые берут кредит на получение образования  или  операции с автомобилем. Конверсия для данных групп составляет 9.2 % и 9.3 %. \n",
    "\n",
    "\n",
    "**Предыдущий вывод:**\n",
    "* анализ групп заемщиков по цели кредита показал, что в каждой группе имеется примерно одинаковый процент заёмщиков, которые не погашают кредит в срок - 7-9 %.\n",
    "* при этом более надежные заемщики - те, кто берет гредит на операции с недвижимостью и  проведение свадьбы, менее надежные заемщики берут кредит на получение образования  или  операции с автомобилем. \n",
    "* Возврат кредита в срок практически не зависит от цели кредита."
   ]
  },
  {
   "cell_type": "markdown",
   "id": "15990778",
   "metadata": {},
   "source": [
    "<div class=\"alert alert-block alert-danger\">\n",
    "<h2> Комментарий ревьюера V1<a class=\"tocSkip\"></h2>\n",
    "\n",
    "    \n",
    "<b>На доработку🤔:</b>\n",
    "Аналогичный комментарий о том, что разница в несколько процентов может быть значимой, без дополнительных проверок нельзя её отвергнуть. Что касается кредитов на недвижимость и свадьбы, ты правильно отметила, что просрочки по ним допускаются реже.\n",
    "</div>"
   ]
  },
  {
   "cell_type": "markdown",
   "id": "185eebfd",
   "metadata": {},
   "source": [
    "<div class=\"alert alert-success\">\n",
    "<h2> Комментарий ревьюера V2<a class=\"tocSkip\"> </h2>\n",
    "\n",
    "<b>Все отлично!👍:</b> Теперь вывод полностью соответствует действительности. Полностью с ним согласен.\n",
    "</div>"
   ]
  },
  {
   "cell_type": "markdown",
   "id": "0bf28b11",
   "metadata": {
    "deletable": false,
    "editable": false,
    "id": "09c3ac4c"
   },
   "source": [
    "#### 3.5 Приведите возможные причины появления пропусков в исходных данных."
   ]
  },
  {
   "cell_type": "markdown",
   "id": "6360ed05",
   "metadata": {
    "deletable": false,
    "id": "9da2ceda"
   },
   "source": [
    "*Ответ:* Пропуски выявлены одновременно в столбцах в \"days_employed\" и \"total_income\". Стаж работы и доход - это основные параметры, которые рассматриват банк при выдаче кредитов. Если бы заемщики не внесли эти данные намеренно, они бы не попали в базу банка и не получили кредит. Скорее всего данные не попали в базу по технической ошибке. "
   ]
  },
  {
   "cell_type": "markdown",
   "id": "1bbf5b70",
   "metadata": {},
   "source": [
    "<div class=\"alert alert-success\">\n",
    "<h2> Комментарий ревьюера V1<a class=\"tocSkip\"> </h2>\n",
    "\n",
    "<b>Все отлично!👍:</b> Все верно, эти причины вполне могут возникнуть в реальной жизни.\n",
    "</div>"
   ]
  },
  {
   "cell_type": "markdown",
   "id": "db5a9d68",
   "metadata": {
    "deletable": false,
    "editable": false,
    "id": "7b0487d6"
   },
   "source": [
    "#### 3.6 Объясните, почему заполнить пропуски медианным значением — лучшее решение для количественных переменных."
   ]
  },
  {
   "cell_type": "markdown",
   "id": "d6817ab3",
   "metadata": {
    "deletable": false,
    "id": "7ecf2b8e"
   },
   "source": [
    "*Ответ:* пропуски количественных значений будет правильно заполнить медианным значением, а не средним значением, так как среди количественных переменных в таблице могут быть \"лидеры\" - значения, значительно отличающиеся от остальных. Такие \"лидеры\" значительно смещают среднее значение и искажают результат. "
   ]
  },
  {
   "cell_type": "markdown",
   "id": "00cce2bc",
   "metadata": {},
   "source": [
    "<div class=\"alert alert-success\">\n",
    "<h2> Комментарий ревьюера V1<a class=\"tocSkip\"> </h2>\n",
    "\n",
    "<b>Все отлично!👍:</b> Абсолютно верный ответ!\n",
    "</div>"
   ]
  },
  {
   "cell_type": "markdown",
   "id": "cdd03852",
   "metadata": {
    "deletable": false,
    "editable": false,
    "id": "6db5255a"
   },
   "source": [
    "### Шаг 4: общий вывод."
   ]
  },
  {
   "cell_type": "markdown",
   "id": "95ea8119",
   "metadata": {
    "deletable": false,
    "id": "bad65432"
   },
   "source": [
    "**Новый Вывод:** \n",
    "\n",
    "* Для данного исследования конверсия в пределах 1% имеет значение, так как речь идет о возврате заемщиками банку значительных денежных сумм в срок.\n",
    "\n",
    "* Наименьшую конверсию показывает такие категории заемщиков как **\"вдовец / вдова\",  \"в разводе\"**  и  **\"женат / замужем\",   неимеющие детей**, с доходом категории **'B'(200001–1000000)** на такие цели как **'операции с недвижимостью'**  или  **'проведение свадьбы'**.\n",
    "\n",
    "* Наибольшую конверсию показывает такие категории заемщиков как **'гражданский брак'**  и  **'Не женат / не замужем',  имеющие детей**, с доходом ктегории **'С'(50001–200000)** на такие цели как **'получение образования'**  или  **'операции с автомобилем'**.\n",
    "\n",
    "\n",
    "**Предыдущий вывод:**\n",
    "* Анализ таблицы показал, что такие показатели, \n",
    "* Наименьшую конверсию показывает категория заемщиков  \"вдовец / вдова\" и \"в разводе\", неимеющие детей, с доходом 30001–50000('D') или 200001–1000000('B') на такие цели как 'операции с недвижимостью' или 'проведение свадьбы'\n",
    "* Наибольшую конверсию показывает категория заемщиков  'гражданский брак' и 'Не женат / не замужем', имеющие детей, с доходом 0–30000 ('E') или 50001–200000 ('C') на такие цели как 'получение образования' или 'операции с автомобилем'"
   ]
  },
  {
   "cell_type": "markdown",
   "id": "3ac06729",
   "metadata": {},
   "source": [
    "<div class=\"alert alert-warning\">\n",
    "    <h2> Комментарий ревьюера V1<a class=\"tocSkip\"> </h2>\n",
    "    \n",
    "<b>Некоторые замечания и рекомендации💡:</b> Стоит несколько доработать итоговый вывод с учетом моих комментариев выше. В целом ты хорошо описала результаты исследования, молодец, что выделила промежуточные выводы в отдельные выводы."
   ]
  },
  {
   "cell_type": "markdown",
   "id": "6859ac6e",
   "metadata": {},
   "source": [
    "<div class=\"alert alert-success\">\n",
    "<h2> Комментарий ревьюера V2<a class=\"tocSkip\"> </h2>\n",
    "\n",
    "<b>Все отлично!👍:</b> Потрясующий вывод, все четко и структурировано. Такой вывод можно отправлять в реальный кредитный отдел банка!\n",
    "</div>"
   ]
  },
  {
   "cell_type": "markdown",
   "id": "8b8d26e4",
   "metadata": {},
   "source": [
    "<div style=\"border:solid Chocolate 2px; padding: 40px\">\n",
    "\n",
    "**Общий вывод по проекту**\n",
    "\n",
    "Спасибо за твой проект! Я уверен, что ты приложила все усилия, чтобы сделать этот проект. Это видно по твоей работе, а сформулированные выводы отражают, насколько успешно ты осваиваешь материал. \n",
    "\n",
    "**Отмечу отдельные положительные моменты проекта🙂**:\n",
    " \n",
    "* Ты полностью следовала всем этапам выполнения задания и справилась почти со всем. Хорошая работа!\n",
    "* Отдельно выделю некоторые выводы, которые ты смогла сформулировать абсолютно точно!\n",
    "* У тебя опрятный и читаемый код. Возможно это звучит банально, однако при работе с чужим кодом это крайне важно)\n",
    "\n",
    "\n",
    "**На что стоит обратить внимание🤓**:\n",
    "    \n",
    "* Важно доработать итоговый вывод.\n",
    "* Проработать все промежуточные выводы с учетом моих комментариев.\n",
    "* Остальные рекомендации ты найдешь в моих комментариях!\n",
    "\n",
    "\n",
    "**Желаю удачи и жду твой проект на повторное ревью!**😉"
   ]
  },
  {
   "cell_type": "markdown",
   "id": "17b38067",
   "metadata": {},
   "source": [
    "<div style=\"border:solid Chocolate 2px; padding: 40px\">\n",
    "\n",
    "Ты отлично справилась с данной работой! Видно, как ты успешно осваиваешь материал, применяешь полученные знания на практике. Мне было очень приятно проверять твою работу, надеюсь, мои комментарии и советы были для тебя полезными.\n",
    "\n",
    "**Желаю удачи в последующем обучении и исследованиях!**😉"
   ]
  },
  {
   "cell_type": "code",
   "execution_count": null,
   "id": "79b76605",
   "metadata": {},
   "outputs": [],
   "source": []
  }
 ],
 "metadata": {
  "ExecuteTimeLog": [
   {
    "duration": 44,
    "start_time": "2022-09-10T14:15:44.431Z"
   },
   {
    "duration": 465,
    "start_time": "2022-09-10T14:17:06.023Z"
   },
   {
    "duration": 76,
    "start_time": "2022-09-10T14:17:22.989Z"
   },
   {
    "duration": 71,
    "start_time": "2022-09-10T14:17:43.526Z"
   },
   {
    "duration": 43,
    "start_time": "2022-09-10T14:30:19.630Z"
   },
   {
    "duration": 75,
    "start_time": "2022-09-10T14:30:27.629Z"
   },
   {
    "duration": 81,
    "start_time": "2022-09-10T14:31:55.541Z"
   },
   {
    "duration": 71,
    "start_time": "2022-09-10T14:32:11.692Z"
   },
   {
    "duration": 58,
    "start_time": "2022-09-10T14:39:33.428Z"
   },
   {
    "duration": 0,
    "start_time": "2022-09-10T14:39:33.488Z"
   },
   {
    "duration": 0,
    "start_time": "2022-09-10T14:39:33.489Z"
   },
   {
    "duration": 0,
    "start_time": "2022-09-10T14:39:33.490Z"
   },
   {
    "duration": 45,
    "start_time": "2022-09-10T14:39:49.092Z"
   },
   {
    "duration": 3,
    "start_time": "2022-09-10T14:41:32.081Z"
   },
   {
    "duration": 5,
    "start_time": "2022-09-10T14:42:59.726Z"
   },
   {
    "duration": 5,
    "start_time": "2022-09-10T14:43:34.038Z"
   },
   {
    "duration": 72,
    "start_time": "2022-09-10T14:46:01.361Z"
   },
   {
    "duration": 462,
    "start_time": "2022-09-10T14:46:14.460Z"
   },
   {
    "duration": 20,
    "start_time": "2022-09-10T14:46:14.924Z"
   },
   {
    "duration": 14,
    "start_time": "2022-09-10T14:46:14.945Z"
   },
   {
    "duration": 8,
    "start_time": "2022-09-10T14:46:14.961Z"
   },
   {
    "duration": 34,
    "start_time": "2022-09-10T14:46:14.971Z"
   },
   {
    "duration": 4,
    "start_time": "2022-09-10T14:46:15.007Z"
   },
   {
    "duration": 29,
    "start_time": "2022-09-10T14:46:15.012Z"
   },
   {
    "duration": 4,
    "start_time": "2022-09-10T14:46:15.043Z"
   },
   {
    "duration": 10,
    "start_time": "2022-09-10T14:46:15.048Z"
   },
   {
    "duration": 4,
    "start_time": "2022-09-10T14:46:15.060Z"
   },
   {
    "duration": 33,
    "start_time": "2022-09-10T14:46:15.065Z"
   },
   {
    "duration": 10,
    "start_time": "2022-09-10T14:46:15.099Z"
   },
   {
    "duration": 28,
    "start_time": "2022-09-10T14:46:15.110Z"
   },
   {
    "duration": 11,
    "start_time": "2022-09-10T14:46:15.140Z"
   },
   {
    "duration": 23,
    "start_time": "2022-09-10T14:46:15.152Z"
   },
   {
    "duration": 15,
    "start_time": "2022-09-10T14:46:15.177Z"
   },
   {
    "duration": 3,
    "start_time": "2022-09-10T14:46:15.193Z"
   },
   {
    "duration": 13,
    "start_time": "2022-09-10T14:46:15.198Z"
   },
   {
    "duration": 26,
    "start_time": "2022-09-10T14:46:15.212Z"
   },
   {
    "duration": 4,
    "start_time": "2022-09-10T14:46:15.240Z"
   },
   {
    "duration": 18,
    "start_time": "2022-09-10T14:46:15.246Z"
   },
   {
    "duration": 64,
    "start_time": "2022-09-10T14:46:15.266Z"
   },
   {
    "duration": 7,
    "start_time": "2022-09-10T14:46:15.332Z"
   },
   {
    "duration": 12,
    "start_time": "2022-09-10T14:46:15.341Z"
   },
   {
    "duration": 5,
    "start_time": "2022-09-10T14:46:15.354Z"
   },
   {
    "duration": 7,
    "start_time": "2022-09-10T14:46:15.361Z"
   },
   {
    "duration": 7,
    "start_time": "2022-09-10T14:46:15.370Z"
   },
   {
    "duration": 775,
    "start_time": "2022-09-11T07:06:26.876Z"
   },
   {
    "duration": 25,
    "start_time": "2022-09-11T07:06:27.653Z"
   },
   {
    "duration": 45,
    "start_time": "2022-09-11T07:06:27.679Z"
   },
   {
    "duration": 37,
    "start_time": "2022-09-11T07:06:27.726Z"
   },
   {
    "duration": 33,
    "start_time": "2022-09-11T07:06:27.765Z"
   },
   {
    "duration": 4,
    "start_time": "2022-09-11T07:06:27.799Z"
   },
   {
    "duration": 21,
    "start_time": "2022-09-11T07:06:27.804Z"
   },
   {
    "duration": 20,
    "start_time": "2022-09-11T07:06:27.826Z"
   },
   {
    "duration": 35,
    "start_time": "2022-09-11T07:06:27.848Z"
   },
   {
    "duration": 13,
    "start_time": "2022-09-11T07:06:27.886Z"
   },
   {
    "duration": 63,
    "start_time": "2022-09-11T07:06:27.900Z"
   },
   {
    "duration": 9,
    "start_time": "2022-09-11T07:06:27.965Z"
   },
   {
    "duration": 31,
    "start_time": "2022-09-11T07:06:27.975Z"
   },
   {
    "duration": 27,
    "start_time": "2022-09-11T07:06:28.007Z"
   },
   {
    "duration": 38,
    "start_time": "2022-09-11T07:06:28.036Z"
   },
   {
    "duration": 16,
    "start_time": "2022-09-11T07:06:28.075Z"
   },
   {
    "duration": 11,
    "start_time": "2022-09-11T07:06:28.092Z"
   },
   {
    "duration": 32,
    "start_time": "2022-09-11T07:06:28.104Z"
   },
   {
    "duration": 28,
    "start_time": "2022-09-11T07:06:28.138Z"
   },
   {
    "duration": 21,
    "start_time": "2022-09-11T07:06:28.167Z"
   },
   {
    "duration": 30,
    "start_time": "2022-09-11T07:06:28.189Z"
   },
   {
    "duration": 75,
    "start_time": "2022-09-11T07:06:28.220Z"
   },
   {
    "duration": 5,
    "start_time": "2022-09-11T07:06:28.297Z"
   },
   {
    "duration": 22,
    "start_time": "2022-09-11T07:06:28.303Z"
   },
   {
    "duration": 55,
    "start_time": "2022-09-11T07:06:28.327Z"
   },
   {
    "duration": 0,
    "start_time": "2022-09-11T07:06:28.383Z"
   },
   {
    "duration": 0,
    "start_time": "2022-09-11T07:06:28.385Z"
   },
   {
    "duration": 0,
    "start_time": "2022-09-11T07:06:28.386Z"
   },
   {
    "duration": 138,
    "start_time": "2022-09-11T07:06:46.262Z"
   },
   {
    "duration": 13,
    "start_time": "2022-09-11T07:07:07.453Z"
   },
   {
    "duration": 98,
    "start_time": "2022-09-11T07:17:36.706Z"
   },
   {
    "duration": 79,
    "start_time": "2022-09-11T07:17:50.109Z"
   },
   {
    "duration": 69,
    "start_time": "2022-09-11T07:18:23.785Z"
   },
   {
    "duration": 8,
    "start_time": "2022-09-11T07:20:47.905Z"
   },
   {
    "duration": 38,
    "start_time": "2022-09-11T07:23:43.512Z"
   },
   {
    "duration": 17,
    "start_time": "2022-09-11T11:53:03.950Z"
   },
   {
    "duration": 10,
    "start_time": "2022-09-11T11:53:44.156Z"
   },
   {
    "duration": 7,
    "start_time": "2022-09-11T11:54:18.994Z"
   },
   {
    "duration": 9,
    "start_time": "2022-09-11T11:55:26.701Z"
   },
   {
    "duration": 8,
    "start_time": "2022-09-11T11:56:20.423Z"
   },
   {
    "duration": 8,
    "start_time": "2022-09-11T11:56:35.165Z"
   },
   {
    "duration": 12,
    "start_time": "2022-09-11T12:19:10.896Z"
   },
   {
    "duration": 10,
    "start_time": "2022-09-11T12:19:26.454Z"
   },
   {
    "duration": 8,
    "start_time": "2022-09-11T12:27:24.525Z"
   },
   {
    "duration": 9,
    "start_time": "2022-09-11T12:27:37.284Z"
   },
   {
    "duration": 8,
    "start_time": "2022-09-11T12:27:53.835Z"
   },
   {
    "duration": 36,
    "start_time": "2022-09-11T12:28:15.057Z"
   },
   {
    "duration": 22,
    "start_time": "2022-09-11T12:30:25.749Z"
   },
   {
    "duration": 491,
    "start_time": "2022-09-11T12:31:44.221Z"
   },
   {
    "duration": 21,
    "start_time": "2022-09-11T12:31:44.714Z"
   },
   {
    "duration": 20,
    "start_time": "2022-09-11T12:31:44.737Z"
   },
   {
    "duration": 14,
    "start_time": "2022-09-11T12:31:44.760Z"
   },
   {
    "duration": 37,
    "start_time": "2022-09-11T12:31:44.776Z"
   },
   {
    "duration": 4,
    "start_time": "2022-09-11T12:31:44.815Z"
   },
   {
    "duration": 26,
    "start_time": "2022-09-11T12:31:44.821Z"
   },
   {
    "duration": 4,
    "start_time": "2022-09-11T12:31:44.850Z"
   },
   {
    "duration": 16,
    "start_time": "2022-09-11T12:31:44.855Z"
   },
   {
    "duration": 5,
    "start_time": "2022-09-11T12:31:44.874Z"
   },
   {
    "duration": 33,
    "start_time": "2022-09-11T12:31:44.880Z"
   },
   {
    "duration": 26,
    "start_time": "2022-09-11T12:31:44.915Z"
   },
   {
    "duration": 11,
    "start_time": "2022-09-11T12:31:44.942Z"
   },
   {
    "duration": 16,
    "start_time": "2022-09-11T12:31:44.954Z"
   },
   {
    "duration": 24,
    "start_time": "2022-09-11T12:31:44.972Z"
   },
   {
    "duration": 16,
    "start_time": "2022-09-11T12:31:44.998Z"
   },
   {
    "duration": 4,
    "start_time": "2022-09-11T12:31:45.016Z"
   },
   {
    "duration": 33,
    "start_time": "2022-09-11T12:31:45.022Z"
   },
   {
    "duration": 9,
    "start_time": "2022-09-11T12:31:45.057Z"
   },
   {
    "duration": 4,
    "start_time": "2022-09-11T12:31:45.068Z"
   },
   {
    "duration": 15,
    "start_time": "2022-09-11T12:31:45.073Z"
   },
   {
    "duration": 59,
    "start_time": "2022-09-11T12:31:45.090Z"
   },
   {
    "duration": 6,
    "start_time": "2022-09-11T12:31:45.151Z"
   },
   {
    "duration": 11,
    "start_time": "2022-09-11T12:31:45.159Z"
   },
   {
    "duration": 10,
    "start_time": "2022-09-11T12:31:45.172Z"
   },
   {
    "duration": 2,
    "start_time": "2022-09-11T12:31:45.184Z"
   },
   {
    "duration": 5,
    "start_time": "2022-09-11T12:31:45.188Z"
   },
   {
    "duration": 4,
    "start_time": "2022-09-11T12:31:45.196Z"
   },
   {
    "duration": 471,
    "start_time": "2022-09-11T12:46:41.725Z"
   },
   {
    "duration": 20,
    "start_time": "2022-09-11T12:46:42.198Z"
   },
   {
    "duration": 17,
    "start_time": "2022-09-11T12:46:42.220Z"
   },
   {
    "duration": 20,
    "start_time": "2022-09-11T12:46:42.239Z"
   },
   {
    "duration": 36,
    "start_time": "2022-09-11T12:46:42.261Z"
   },
   {
    "duration": 3,
    "start_time": "2022-09-11T12:46:42.298Z"
   },
   {
    "duration": 19,
    "start_time": "2022-09-11T12:46:42.303Z"
   },
   {
    "duration": 15,
    "start_time": "2022-09-11T12:46:42.323Z"
   },
   {
    "duration": 18,
    "start_time": "2022-09-11T12:46:42.339Z"
   },
   {
    "duration": 4,
    "start_time": "2022-09-11T12:46:42.359Z"
   },
   {
    "duration": 32,
    "start_time": "2022-09-11T12:46:42.364Z"
   },
   {
    "duration": 9,
    "start_time": "2022-09-11T12:46:42.397Z"
   },
   {
    "duration": 5,
    "start_time": "2022-09-11T12:46:42.407Z"
   },
   {
    "duration": 14,
    "start_time": "2022-09-11T12:46:42.413Z"
   },
   {
    "duration": 21,
    "start_time": "2022-09-11T12:46:42.429Z"
   },
   {
    "duration": 15,
    "start_time": "2022-09-11T12:46:42.451Z"
   },
   {
    "duration": 3,
    "start_time": "2022-09-11T12:46:42.468Z"
   },
   {
    "duration": 15,
    "start_time": "2022-09-11T12:46:42.472Z"
   },
   {
    "duration": 8,
    "start_time": "2022-09-11T12:46:42.489Z"
   },
   {
    "duration": 6,
    "start_time": "2022-09-11T12:46:42.498Z"
   },
   {
    "duration": 22,
    "start_time": "2022-09-11T12:46:42.505Z"
   },
   {
    "duration": 48,
    "start_time": "2022-09-11T12:46:42.536Z"
   },
   {
    "duration": 9,
    "start_time": "2022-09-11T12:46:42.586Z"
   },
   {
    "duration": 11,
    "start_time": "2022-09-11T12:46:42.597Z"
   },
   {
    "duration": 11,
    "start_time": "2022-09-11T12:46:42.609Z"
   },
   {
    "duration": 13,
    "start_time": "2022-09-11T12:46:42.621Z"
   },
   {
    "duration": 8,
    "start_time": "2022-09-11T12:46:42.636Z"
   },
   {
    "duration": 471,
    "start_time": "2022-09-11T12:48:43.229Z"
   },
   {
    "duration": 20,
    "start_time": "2022-09-11T12:48:43.702Z"
   },
   {
    "duration": 13,
    "start_time": "2022-09-11T12:48:43.723Z"
   },
   {
    "duration": 9,
    "start_time": "2022-09-11T12:48:43.738Z"
   },
   {
    "duration": 31,
    "start_time": "2022-09-11T12:48:43.748Z"
   },
   {
    "duration": 3,
    "start_time": "2022-09-11T12:48:43.780Z"
   },
   {
    "duration": 10,
    "start_time": "2022-09-11T12:48:43.784Z"
   },
   {
    "duration": 4,
    "start_time": "2022-09-11T12:48:43.796Z"
   },
   {
    "duration": 10,
    "start_time": "2022-09-11T12:48:43.802Z"
   },
   {
    "duration": 24,
    "start_time": "2022-09-11T12:48:43.815Z"
   },
   {
    "duration": 33,
    "start_time": "2022-09-11T12:48:43.841Z"
   },
   {
    "duration": 11,
    "start_time": "2022-09-11T12:48:43.875Z"
   },
   {
    "duration": 5,
    "start_time": "2022-09-11T12:48:43.887Z"
   },
   {
    "duration": 15,
    "start_time": "2022-09-11T12:48:43.894Z"
   },
   {
    "duration": 43,
    "start_time": "2022-09-11T12:48:43.911Z"
   },
   {
    "duration": 17,
    "start_time": "2022-09-11T12:48:43.956Z"
   },
   {
    "duration": 3,
    "start_time": "2022-09-11T12:48:43.975Z"
   },
   {
    "duration": 12,
    "start_time": "2022-09-11T12:48:43.980Z"
   },
   {
    "duration": 5,
    "start_time": "2022-09-11T12:48:43.995Z"
   },
   {
    "duration": 5,
    "start_time": "2022-09-11T12:48:44.001Z"
   },
   {
    "duration": 34,
    "start_time": "2022-09-11T12:48:44.007Z"
   },
   {
    "duration": 48,
    "start_time": "2022-09-11T12:48:44.043Z"
   },
   {
    "duration": 10,
    "start_time": "2022-09-11T12:48:44.092Z"
   },
   {
    "duration": 4,
    "start_time": "2022-09-11T12:48:44.103Z"
   },
   {
    "duration": 32,
    "start_time": "2022-09-11T12:48:44.108Z"
   },
   {
    "duration": 2,
    "start_time": "2022-09-11T12:48:44.141Z"
   },
   {
    "duration": 11,
    "start_time": "2022-09-11T12:48:44.145Z"
   },
   {
    "duration": 5,
    "start_time": "2022-09-11T12:48:44.159Z"
   },
   {
    "duration": 426,
    "start_time": "2022-09-11T12:52:23.670Z"
   },
   {
    "duration": 20,
    "start_time": "2022-09-11T12:52:24.098Z"
   },
   {
    "duration": 19,
    "start_time": "2022-09-11T12:52:24.119Z"
   },
   {
    "duration": 11,
    "start_time": "2022-09-11T12:52:24.139Z"
   },
   {
    "duration": 37,
    "start_time": "2022-09-11T12:52:24.152Z"
   },
   {
    "duration": 3,
    "start_time": "2022-09-11T12:52:24.190Z"
   },
   {
    "duration": 13,
    "start_time": "2022-09-11T12:52:24.194Z"
   },
   {
    "duration": 4,
    "start_time": "2022-09-11T12:52:24.209Z"
   },
   {
    "duration": 12,
    "start_time": "2022-09-11T12:52:24.214Z"
   },
   {
    "duration": 13,
    "start_time": "2022-09-11T12:52:24.230Z"
   },
   {
    "duration": 33,
    "start_time": "2022-09-11T12:52:24.244Z"
   },
   {
    "duration": 9,
    "start_time": "2022-09-11T12:52:24.278Z"
   },
   {
    "duration": 13,
    "start_time": "2022-09-11T12:52:24.288Z"
   },
   {
    "duration": 19,
    "start_time": "2022-09-11T12:52:24.302Z"
   },
   {
    "duration": 21,
    "start_time": "2022-09-11T12:52:24.323Z"
   },
   {
    "duration": 15,
    "start_time": "2022-09-11T12:52:24.346Z"
   },
   {
    "duration": 3,
    "start_time": "2022-09-11T12:52:24.363Z"
   },
   {
    "duration": 14,
    "start_time": "2022-09-11T12:52:24.367Z"
   },
   {
    "duration": 9,
    "start_time": "2022-09-11T12:52:24.383Z"
   },
   {
    "duration": 6,
    "start_time": "2022-09-11T12:52:24.394Z"
   },
   {
    "duration": 27,
    "start_time": "2022-09-11T12:52:24.401Z"
   },
   {
    "duration": 51,
    "start_time": "2022-09-11T12:52:24.429Z"
   },
   {
    "duration": 9,
    "start_time": "2022-09-11T12:52:24.481Z"
   },
   {
    "duration": 13,
    "start_time": "2022-09-11T12:52:24.491Z"
   },
   {
    "duration": 9,
    "start_time": "2022-09-11T12:52:24.506Z"
   },
   {
    "duration": 6,
    "start_time": "2022-09-11T12:52:24.516Z"
   },
   {
    "duration": 14,
    "start_time": "2022-09-11T12:52:24.523Z"
   },
   {
    "duration": 6,
    "start_time": "2022-09-11T12:52:24.540Z"
   },
   {
    "duration": 13,
    "start_time": "2022-09-11T12:52:24.548Z"
   },
   {
    "duration": 507,
    "start_time": "2022-09-11T12:55:30.824Z"
   },
   {
    "duration": 21,
    "start_time": "2022-09-11T12:55:31.333Z"
   },
   {
    "duration": 14,
    "start_time": "2022-09-11T12:55:31.355Z"
   },
   {
    "duration": 9,
    "start_time": "2022-09-11T12:55:31.371Z"
   },
   {
    "duration": 40,
    "start_time": "2022-09-11T12:55:31.381Z"
   },
   {
    "duration": 3,
    "start_time": "2022-09-11T12:55:31.437Z"
   },
   {
    "duration": 13,
    "start_time": "2022-09-11T12:55:31.442Z"
   },
   {
    "duration": 9,
    "start_time": "2022-09-11T12:55:31.456Z"
   },
   {
    "duration": 31,
    "start_time": "2022-09-11T12:55:31.466Z"
   },
   {
    "duration": 5,
    "start_time": "2022-09-11T12:55:31.501Z"
   },
   {
    "duration": 40,
    "start_time": "2022-09-11T12:55:31.508Z"
   },
   {
    "duration": 10,
    "start_time": "2022-09-11T12:55:31.550Z"
   },
   {
    "duration": 6,
    "start_time": "2022-09-11T12:55:31.561Z"
   },
   {
    "duration": 15,
    "start_time": "2022-09-11T12:55:31.569Z"
   },
   {
    "duration": 17,
    "start_time": "2022-09-11T12:55:31.585Z"
   },
   {
    "duration": 15,
    "start_time": "2022-09-11T12:55:31.603Z"
   },
   {
    "duration": 4,
    "start_time": "2022-09-11T12:55:31.619Z"
   },
   {
    "duration": 14,
    "start_time": "2022-09-11T12:55:31.624Z"
   },
   {
    "duration": 10,
    "start_time": "2022-09-11T12:55:31.639Z"
   },
   {
    "duration": 7,
    "start_time": "2022-09-11T12:55:31.651Z"
   },
   {
    "duration": 26,
    "start_time": "2022-09-11T12:55:31.659Z"
   },
   {
    "duration": 60,
    "start_time": "2022-09-11T12:55:31.687Z"
   },
   {
    "duration": 10,
    "start_time": "2022-09-11T12:55:31.749Z"
   },
   {
    "duration": 9,
    "start_time": "2022-09-11T12:55:31.760Z"
   },
   {
    "duration": 10,
    "start_time": "2022-09-11T12:55:31.771Z"
   },
   {
    "duration": 7,
    "start_time": "2022-09-11T12:55:31.782Z"
   },
   {
    "duration": 13,
    "start_time": "2022-09-11T12:55:31.790Z"
   },
   {
    "duration": 31,
    "start_time": "2022-09-11T12:55:31.806Z"
   },
   {
    "duration": 9,
    "start_time": "2022-09-11T12:59:04.806Z"
   },
   {
    "duration": 471,
    "start_time": "2022-09-11T13:01:33.334Z"
   },
   {
    "duration": 20,
    "start_time": "2022-09-11T13:01:33.807Z"
   },
   {
    "duration": 12,
    "start_time": "2022-09-11T13:01:33.829Z"
   },
   {
    "duration": 11,
    "start_time": "2022-09-11T13:01:33.843Z"
   },
   {
    "duration": 31,
    "start_time": "2022-09-11T13:01:33.855Z"
   },
   {
    "duration": 3,
    "start_time": "2022-09-11T13:01:33.887Z"
   },
   {
    "duration": 10,
    "start_time": "2022-09-11T13:01:33.891Z"
   },
   {
    "duration": 5,
    "start_time": "2022-09-11T13:01:33.902Z"
   },
   {
    "duration": 28,
    "start_time": "2022-09-11T13:01:33.909Z"
   },
   {
    "duration": 3,
    "start_time": "2022-09-11T13:01:33.941Z"
   },
   {
    "duration": 33,
    "start_time": "2022-09-11T13:01:33.946Z"
   },
   {
    "duration": 9,
    "start_time": "2022-09-11T13:01:33.981Z"
   },
   {
    "duration": 4,
    "start_time": "2022-09-11T13:01:33.991Z"
   },
   {
    "duration": 11,
    "start_time": "2022-09-11T13:01:33.996Z"
   },
   {
    "duration": 41,
    "start_time": "2022-09-11T13:01:34.008Z"
   },
   {
    "duration": 15,
    "start_time": "2022-09-11T13:01:34.050Z"
   },
   {
    "duration": 3,
    "start_time": "2022-09-11T13:01:34.067Z"
   },
   {
    "duration": 12,
    "start_time": "2022-09-11T13:01:34.071Z"
   },
   {
    "duration": 5,
    "start_time": "2022-09-11T13:01:34.085Z"
   },
   {
    "duration": 5,
    "start_time": "2022-09-11T13:01:34.091Z"
   },
   {
    "duration": 15,
    "start_time": "2022-09-11T13:01:34.097Z"
   },
   {
    "duration": 47,
    "start_time": "2022-09-11T13:01:34.136Z"
   },
   {
    "duration": 8,
    "start_time": "2022-09-11T13:01:34.185Z"
   },
   {
    "duration": 7,
    "start_time": "2022-09-11T13:01:34.195Z"
   },
   {
    "duration": 6,
    "start_time": "2022-09-11T13:01:34.203Z"
   },
   {
    "duration": 27,
    "start_time": "2022-09-11T13:01:34.210Z"
   },
   {
    "duration": 2,
    "start_time": "2022-09-11T13:01:34.239Z"
   },
   {
    "duration": 6,
    "start_time": "2022-09-11T13:01:34.245Z"
   },
   {
    "duration": 58,
    "start_time": "2022-09-11T13:37:20.754Z"
   },
   {
    "duration": 6,
    "start_time": "2022-09-11T13:37:28.970Z"
   },
   {
    "duration": 7,
    "start_time": "2022-09-11T13:43:23.378Z"
   },
   {
    "duration": 10,
    "start_time": "2022-09-11T13:43:28.202Z"
   },
   {
    "duration": 10,
    "start_time": "2022-09-11T13:43:45.802Z"
   },
   {
    "duration": 10,
    "start_time": "2022-09-11T13:46:20.108Z"
   },
   {
    "duration": 424,
    "start_time": "2022-09-11T13:47:49.899Z"
   },
   {
    "duration": 20,
    "start_time": "2022-09-11T13:47:50.325Z"
   },
   {
    "duration": 14,
    "start_time": "2022-09-11T13:47:50.346Z"
   },
   {
    "duration": 8,
    "start_time": "2022-09-11T13:47:50.362Z"
   },
   {
    "duration": 32,
    "start_time": "2022-09-11T13:47:50.372Z"
   },
   {
    "duration": 3,
    "start_time": "2022-09-11T13:47:50.406Z"
   },
   {
    "duration": 30,
    "start_time": "2022-09-11T13:47:50.411Z"
   },
   {
    "duration": 4,
    "start_time": "2022-09-11T13:47:50.443Z"
   },
   {
    "duration": 9,
    "start_time": "2022-09-11T13:47:50.449Z"
   },
   {
    "duration": 4,
    "start_time": "2022-09-11T13:47:50.460Z"
   },
   {
    "duration": 37,
    "start_time": "2022-09-11T13:47:50.465Z"
   },
   {
    "duration": 9,
    "start_time": "2022-09-11T13:47:50.504Z"
   },
   {
    "duration": 4,
    "start_time": "2022-09-11T13:47:50.537Z"
   },
   {
    "duration": 13,
    "start_time": "2022-09-11T13:47:50.542Z"
   },
   {
    "duration": 18,
    "start_time": "2022-09-11T13:47:50.557Z"
   },
   {
    "duration": 15,
    "start_time": "2022-09-11T13:47:50.577Z"
   },
   {
    "duration": 3,
    "start_time": "2022-09-11T13:47:50.594Z"
   },
   {
    "duration": 12,
    "start_time": "2022-09-11T13:47:50.598Z"
   },
   {
    "duration": 6,
    "start_time": "2022-09-11T13:47:50.636Z"
   },
   {
    "duration": 4,
    "start_time": "2022-09-11T13:47:50.643Z"
   },
   {
    "duration": 11,
    "start_time": "2022-09-11T13:47:50.649Z"
   },
   {
    "duration": 49,
    "start_time": "2022-09-11T13:47:50.661Z"
   },
   {
    "duration": 25,
    "start_time": "2022-09-11T13:47:50.712Z"
   },
   {
    "duration": 10,
    "start_time": "2022-09-11T13:47:50.738Z"
   },
   {
    "duration": 6,
    "start_time": "2022-09-11T13:47:50.749Z"
   },
   {
    "duration": 6,
    "start_time": "2022-09-11T13:47:50.757Z"
   },
   {
    "duration": 17,
    "start_time": "2022-09-11T13:47:50.764Z"
   },
   {
    "duration": 12,
    "start_time": "2022-09-11T13:47:50.784Z"
   },
   {
    "duration": 6,
    "start_time": "2022-09-11T13:47:50.797Z"
   },
   {
    "duration": 9,
    "start_time": "2022-09-11T13:49:56.364Z"
   },
   {
    "duration": 444,
    "start_time": "2022-09-11T13:50:02.552Z"
   },
   {
    "duration": 21,
    "start_time": "2022-09-11T13:50:02.998Z"
   },
   {
    "duration": 14,
    "start_time": "2022-09-11T13:50:03.020Z"
   },
   {
    "duration": 8,
    "start_time": "2022-09-11T13:50:03.036Z"
   },
   {
    "duration": 30,
    "start_time": "2022-09-11T13:50:03.046Z"
   },
   {
    "duration": 3,
    "start_time": "2022-09-11T13:50:03.078Z"
   },
   {
    "duration": 11,
    "start_time": "2022-09-11T13:50:03.082Z"
   },
   {
    "duration": 4,
    "start_time": "2022-09-11T13:50:03.094Z"
   },
   {
    "duration": 8,
    "start_time": "2022-09-11T13:50:03.100Z"
   },
   {
    "duration": 26,
    "start_time": "2022-09-11T13:50:03.112Z"
   },
   {
    "duration": 32,
    "start_time": "2022-09-11T13:50:03.139Z"
   },
   {
    "duration": 9,
    "start_time": "2022-09-11T13:50:03.173Z"
   },
   {
    "duration": 4,
    "start_time": "2022-09-11T13:50:03.184Z"
   },
   {
    "duration": 13,
    "start_time": "2022-09-11T13:50:03.189Z"
   },
   {
    "duration": 36,
    "start_time": "2022-09-11T13:50:03.204Z"
   },
   {
    "duration": 15,
    "start_time": "2022-09-11T13:50:03.242Z"
   },
   {
    "duration": 4,
    "start_time": "2022-09-11T13:50:03.258Z"
   },
   {
    "duration": 13,
    "start_time": "2022-09-11T13:50:03.263Z"
   },
   {
    "duration": 8,
    "start_time": "2022-09-11T13:50:03.277Z"
   },
   {
    "duration": 4,
    "start_time": "2022-09-11T13:50:03.286Z"
   },
   {
    "duration": 10,
    "start_time": "2022-09-11T13:50:03.291Z"
   },
   {
    "duration": 74,
    "start_time": "2022-09-11T13:50:03.303Z"
   },
   {
    "duration": 9,
    "start_time": "2022-09-11T13:50:03.379Z"
   },
   {
    "duration": 10,
    "start_time": "2022-09-11T13:50:03.390Z"
   },
   {
    "duration": 6,
    "start_time": "2022-09-11T13:50:03.402Z"
   },
   {
    "duration": 28,
    "start_time": "2022-09-11T13:50:03.409Z"
   },
   {
    "duration": 9,
    "start_time": "2022-09-11T13:50:03.439Z"
   },
   {
    "duration": 2,
    "start_time": "2022-09-11T13:50:03.451Z"
   },
   {
    "duration": 9,
    "start_time": "2022-09-11T13:50:03.454Z"
   },
   {
    "duration": 481,
    "start_time": "2022-09-11T13:53:33.811Z"
   },
   {
    "duration": 21,
    "start_time": "2022-09-11T13:53:34.294Z"
   },
   {
    "duration": 15,
    "start_time": "2022-09-11T13:53:34.317Z"
   },
   {
    "duration": 9,
    "start_time": "2022-09-11T13:53:34.337Z"
   },
   {
    "duration": 33,
    "start_time": "2022-09-11T13:53:34.348Z"
   },
   {
    "duration": 3,
    "start_time": "2022-09-11T13:53:34.383Z"
   },
   {
    "duration": 10,
    "start_time": "2022-09-11T13:53:34.387Z"
   },
   {
    "duration": 4,
    "start_time": "2022-09-11T13:53:34.398Z"
   },
   {
    "duration": 9,
    "start_time": "2022-09-11T13:53:34.403Z"
   },
   {
    "duration": 4,
    "start_time": "2022-09-11T13:53:34.436Z"
   },
   {
    "duration": 41,
    "start_time": "2022-09-11T13:53:34.442Z"
   },
   {
    "duration": 9,
    "start_time": "2022-09-11T13:53:34.485Z"
   },
   {
    "duration": 6,
    "start_time": "2022-09-11T13:53:34.495Z"
   },
   {
    "duration": 13,
    "start_time": "2022-09-11T13:53:34.502Z"
   },
   {
    "duration": 28,
    "start_time": "2022-09-11T13:53:34.517Z"
   },
   {
    "duration": 16,
    "start_time": "2022-09-11T13:53:34.546Z"
   },
   {
    "duration": 3,
    "start_time": "2022-09-11T13:53:34.563Z"
   },
   {
    "duration": 14,
    "start_time": "2022-09-11T13:53:34.568Z"
   },
   {
    "duration": 5,
    "start_time": "2022-09-11T13:53:34.584Z"
   },
   {
    "duration": 3,
    "start_time": "2022-09-11T13:53:34.590Z"
   },
   {
    "duration": 10,
    "start_time": "2022-09-11T13:53:34.595Z"
   },
   {
    "duration": 89,
    "start_time": "2022-09-11T13:53:34.606Z"
   },
   {
    "duration": 9,
    "start_time": "2022-09-11T13:53:34.696Z"
   },
   {
    "duration": 13,
    "start_time": "2022-09-11T13:53:34.706Z"
   },
   {
    "duration": 19,
    "start_time": "2022-09-11T13:53:34.721Z"
   },
   {
    "duration": 6,
    "start_time": "2022-09-11T13:53:34.742Z"
   },
   {
    "duration": 11,
    "start_time": "2022-09-11T13:53:34.749Z"
   },
   {
    "duration": 9,
    "start_time": "2022-09-11T13:53:34.762Z"
   },
   {
    "duration": 4,
    "start_time": "2022-09-11T13:53:34.772Z"
   },
   {
    "duration": 5,
    "start_time": "2022-09-11T13:53:34.777Z"
   },
   {
    "duration": 8,
    "start_time": "2022-09-12T08:16:30.750Z"
   },
   {
    "duration": 4,
    "start_time": "2022-09-12T08:16:44.210Z"
   },
   {
    "duration": 47,
    "start_time": "2022-09-12T08:17:03.347Z"
   },
   {
    "duration": 7,
    "start_time": "2022-09-12T08:17:23.771Z"
   },
   {
    "duration": 741,
    "start_time": "2022-09-12T08:17:34.021Z"
   },
   {
    "duration": 23,
    "start_time": "2022-09-12T08:17:34.764Z"
   },
   {
    "duration": 34,
    "start_time": "2022-09-12T08:17:34.788Z"
   },
   {
    "duration": 24,
    "start_time": "2022-09-12T08:17:34.824Z"
   },
   {
    "duration": 42,
    "start_time": "2022-09-12T08:17:34.849Z"
   },
   {
    "duration": 3,
    "start_time": "2022-09-12T08:17:34.893Z"
   },
   {
    "duration": 13,
    "start_time": "2022-09-12T08:17:34.898Z"
   },
   {
    "duration": 8,
    "start_time": "2022-09-12T08:17:34.913Z"
   },
   {
    "duration": 12,
    "start_time": "2022-09-12T08:17:34.923Z"
   },
   {
    "duration": 19,
    "start_time": "2022-09-12T08:17:34.939Z"
   },
   {
    "duration": 39,
    "start_time": "2022-09-12T08:17:34.960Z"
   },
   {
    "duration": 10,
    "start_time": "2022-09-12T08:17:35.001Z"
   },
   {
    "duration": 13,
    "start_time": "2022-09-12T08:17:35.020Z"
   },
   {
    "duration": 25,
    "start_time": "2022-09-12T08:17:35.035Z"
   },
   {
    "duration": 29,
    "start_time": "2022-09-12T08:17:35.062Z"
   },
   {
    "duration": 18,
    "start_time": "2022-09-12T08:17:35.093Z"
   },
   {
    "duration": 4,
    "start_time": "2022-09-12T08:17:35.112Z"
   },
   {
    "duration": 25,
    "start_time": "2022-09-12T08:17:35.118Z"
   },
   {
    "duration": 38,
    "start_time": "2022-09-12T08:17:35.145Z"
   },
   {
    "duration": 13,
    "start_time": "2022-09-12T08:17:35.185Z"
   },
   {
    "duration": 42,
    "start_time": "2022-09-12T08:17:35.200Z"
   },
   {
    "duration": 77,
    "start_time": "2022-09-12T08:17:35.244Z"
   },
   {
    "duration": 10,
    "start_time": "2022-09-12T08:17:35.323Z"
   },
   {
    "duration": 22,
    "start_time": "2022-09-12T08:17:35.335Z"
   },
   {
    "duration": 19,
    "start_time": "2022-09-12T08:17:35.359Z"
   },
   {
    "duration": 45,
    "start_time": "2022-09-12T08:17:35.380Z"
   },
   {
    "duration": 39,
    "start_time": "2022-09-12T08:17:35.426Z"
   },
   {
    "duration": 31,
    "start_time": "2022-09-12T08:17:35.468Z"
   },
   {
    "duration": 46,
    "start_time": "2022-09-12T08:17:35.501Z"
   },
   {
    "duration": 48,
    "start_time": "2022-09-12T08:17:35.549Z"
   },
   {
    "duration": 4,
    "start_time": "2022-09-12T08:21:52.387Z"
   },
   {
    "duration": 18,
    "start_time": "2022-09-12T08:22:16.840Z"
   },
   {
    "duration": 19,
    "start_time": "2022-09-12T08:24:40.684Z"
   },
   {
    "duration": 482,
    "start_time": "2022-09-12T08:36:03.130Z"
   },
   {
    "duration": 25,
    "start_time": "2022-09-12T08:36:03.614Z"
   },
   {
    "duration": 20,
    "start_time": "2022-09-12T08:36:03.641Z"
   },
   {
    "duration": 14,
    "start_time": "2022-09-12T08:36:03.663Z"
   },
   {
    "duration": 59,
    "start_time": "2022-09-12T08:36:03.679Z"
   },
   {
    "duration": 4,
    "start_time": "2022-09-12T08:36:03.740Z"
   },
   {
    "duration": 23,
    "start_time": "2022-09-12T08:36:03.746Z"
   },
   {
    "duration": 12,
    "start_time": "2022-09-12T08:36:03.771Z"
   },
   {
    "duration": 37,
    "start_time": "2022-09-12T08:36:03.784Z"
   },
   {
    "duration": 15,
    "start_time": "2022-09-12T08:36:03.823Z"
   },
   {
    "duration": 53,
    "start_time": "2022-09-12T08:36:03.839Z"
   },
   {
    "duration": 11,
    "start_time": "2022-09-12T08:36:03.893Z"
   },
   {
    "duration": 28,
    "start_time": "2022-09-12T08:36:03.906Z"
   },
   {
    "duration": 45,
    "start_time": "2022-09-12T08:36:03.936Z"
   },
   {
    "duration": 29,
    "start_time": "2022-09-12T08:36:03.983Z"
   },
   {
    "duration": 19,
    "start_time": "2022-09-12T08:36:04.014Z"
   },
   {
    "duration": 9,
    "start_time": "2022-09-12T08:36:04.035Z"
   },
   {
    "duration": 15,
    "start_time": "2022-09-12T08:36:04.045Z"
   },
   {
    "duration": 13,
    "start_time": "2022-09-12T08:36:04.062Z"
   },
   {
    "duration": 8,
    "start_time": "2022-09-12T08:36:04.077Z"
   },
   {
    "duration": 17,
    "start_time": "2022-09-12T08:36:04.086Z"
   },
   {
    "duration": 53,
    "start_time": "2022-09-12T08:36:04.104Z"
   },
   {
    "duration": 11,
    "start_time": "2022-09-12T08:36:04.159Z"
   },
   {
    "duration": 11,
    "start_time": "2022-09-12T08:36:04.171Z"
   },
   {
    "duration": 21,
    "start_time": "2022-09-12T08:36:04.183Z"
   },
   {
    "duration": 19,
    "start_time": "2022-09-12T08:36:04.205Z"
   },
   {
    "duration": 14,
    "start_time": "2022-09-12T08:36:04.226Z"
   },
   {
    "duration": 19,
    "start_time": "2022-09-12T08:36:04.244Z"
   },
   {
    "duration": 27,
    "start_time": "2022-09-12T08:36:04.265Z"
   },
   {
    "duration": 39,
    "start_time": "2022-09-12T08:36:04.294Z"
   },
   {
    "duration": 20,
    "start_time": "2022-09-12T08:36:04.334Z"
   },
   {
    "duration": 571,
    "start_time": "2022-09-12T08:39:48.606Z"
   },
   {
    "duration": 29,
    "start_time": "2022-09-12T08:39:49.179Z"
   },
   {
    "duration": 43,
    "start_time": "2022-09-12T08:39:49.210Z"
   },
   {
    "duration": 13,
    "start_time": "2022-09-12T08:39:49.257Z"
   },
   {
    "duration": 52,
    "start_time": "2022-09-12T08:39:49.273Z"
   },
   {
    "duration": 4,
    "start_time": "2022-09-12T08:39:49.335Z"
   },
   {
    "duration": 11,
    "start_time": "2022-09-12T08:39:49.341Z"
   },
   {
    "duration": 4,
    "start_time": "2022-09-12T08:39:49.354Z"
   },
   {
    "duration": 9,
    "start_time": "2022-09-12T08:39:49.360Z"
   },
   {
    "duration": 4,
    "start_time": "2022-09-12T08:39:49.373Z"
   },
   {
    "duration": 53,
    "start_time": "2022-09-12T08:39:49.379Z"
   },
   {
    "duration": 9,
    "start_time": "2022-09-12T08:39:49.434Z"
   },
   {
    "duration": 4,
    "start_time": "2022-09-12T08:39:49.444Z"
   },
   {
    "duration": 11,
    "start_time": "2022-09-12T08:39:49.450Z"
   },
   {
    "duration": 25,
    "start_time": "2022-09-12T08:39:49.463Z"
   },
   {
    "duration": 44,
    "start_time": "2022-09-12T08:39:49.490Z"
   },
   {
    "duration": 4,
    "start_time": "2022-09-12T08:39:49.537Z"
   },
   {
    "duration": 20,
    "start_time": "2022-09-12T08:39:49.542Z"
   },
   {
    "duration": 7,
    "start_time": "2022-09-12T08:39:49.564Z"
   },
   {
    "duration": 12,
    "start_time": "2022-09-12T08:39:49.573Z"
   },
   {
    "duration": 13,
    "start_time": "2022-09-12T08:39:49.587Z"
   },
   {
    "duration": 56,
    "start_time": "2022-09-12T08:39:49.601Z"
   },
   {
    "duration": 10,
    "start_time": "2022-09-12T08:39:49.659Z"
   },
   {
    "duration": 16,
    "start_time": "2022-09-12T08:39:49.671Z"
   },
   {
    "duration": 14,
    "start_time": "2022-09-12T08:39:49.690Z"
   },
   {
    "duration": 25,
    "start_time": "2022-09-12T08:39:49.706Z"
   },
   {
    "duration": 11,
    "start_time": "2022-09-12T08:39:49.733Z"
   },
   {
    "duration": 9,
    "start_time": "2022-09-12T08:39:49.747Z"
   },
   {
    "duration": 19,
    "start_time": "2022-09-12T08:39:49.758Z"
   },
   {
    "duration": 9,
    "start_time": "2022-09-12T08:39:49.778Z"
   },
   {
    "duration": 45,
    "start_time": "2022-09-12T08:39:49.789Z"
   },
   {
    "duration": 3,
    "start_time": "2022-09-12T08:39:49.837Z"
   },
   {
    "duration": 11,
    "start_time": "2022-09-12T08:40:03.600Z"
   },
   {
    "duration": 69,
    "start_time": "2022-09-12T08:42:59.861Z"
   },
   {
    "duration": 11,
    "start_time": "2022-09-12T08:44:12.887Z"
   },
   {
    "duration": 9,
    "start_time": "2022-09-12T08:44:47.374Z"
   },
   {
    "duration": 9,
    "start_time": "2022-09-12T09:20:50.539Z"
   },
   {
    "duration": 554,
    "start_time": "2022-09-12T09:21:08.657Z"
   },
   {
    "duration": 26,
    "start_time": "2022-09-12T09:21:09.213Z"
   },
   {
    "duration": 17,
    "start_time": "2022-09-12T09:21:09.241Z"
   },
   {
    "duration": 10,
    "start_time": "2022-09-12T09:21:09.261Z"
   },
   {
    "duration": 60,
    "start_time": "2022-09-12T09:21:09.273Z"
   },
   {
    "duration": 5,
    "start_time": "2022-09-12T09:21:09.335Z"
   },
   {
    "duration": 36,
    "start_time": "2022-09-12T09:21:09.342Z"
   },
   {
    "duration": 8,
    "start_time": "2022-09-12T09:21:09.380Z"
   },
   {
    "duration": 21,
    "start_time": "2022-09-12T09:21:09.390Z"
   },
   {
    "duration": 19,
    "start_time": "2022-09-12T09:21:09.415Z"
   },
   {
    "duration": 54,
    "start_time": "2022-09-12T09:21:09.435Z"
   },
   {
    "duration": 10,
    "start_time": "2022-09-12T09:21:09.491Z"
   },
   {
    "duration": 5,
    "start_time": "2022-09-12T09:21:09.502Z"
   },
   {
    "duration": 23,
    "start_time": "2022-09-12T09:21:09.509Z"
   },
   {
    "duration": 20,
    "start_time": "2022-09-12T09:21:09.539Z"
   },
   {
    "duration": 18,
    "start_time": "2022-09-12T09:21:09.561Z"
   },
   {
    "duration": 4,
    "start_time": "2022-09-12T09:21:09.581Z"
   },
   {
    "duration": 19,
    "start_time": "2022-09-12T09:21:09.586Z"
   },
   {
    "duration": 26,
    "start_time": "2022-09-12T09:21:09.607Z"
   },
   {
    "duration": 6,
    "start_time": "2022-09-12T09:21:09.635Z"
   },
   {
    "duration": 19,
    "start_time": "2022-09-12T09:21:09.643Z"
   },
   {
    "duration": 55,
    "start_time": "2022-09-12T09:21:09.664Z"
   },
   {
    "duration": 19,
    "start_time": "2022-09-12T09:21:09.721Z"
   },
   {
    "duration": 11,
    "start_time": "2022-09-12T09:21:09.742Z"
   },
   {
    "duration": 10,
    "start_time": "2022-09-12T09:21:09.754Z"
   },
   {
    "duration": 28,
    "start_time": "2022-09-12T09:21:09.765Z"
   },
   {
    "duration": 14,
    "start_time": "2022-09-12T09:21:09.795Z"
   },
   {
    "duration": 17,
    "start_time": "2022-09-12T09:21:09.812Z"
   },
   {
    "duration": 42,
    "start_time": "2022-09-12T09:21:09.830Z"
   },
   {
    "duration": 11,
    "start_time": "2022-09-12T09:21:09.874Z"
   },
   {
    "duration": 10,
    "start_time": "2022-09-12T09:21:09.886Z"
   },
   {
    "duration": 9,
    "start_time": "2022-09-12T09:21:09.897Z"
   },
   {
    "duration": 15,
    "start_time": "2022-09-12T09:28:10.458Z"
   },
   {
    "duration": 7,
    "start_time": "2022-09-12T09:28:50.405Z"
   },
   {
    "duration": 11,
    "start_time": "2022-09-12T09:48:10.645Z"
   },
   {
    "duration": 507,
    "start_time": "2022-09-12T09:55:44.412Z"
   },
   {
    "duration": 37,
    "start_time": "2022-09-12T09:55:44.927Z"
   },
   {
    "duration": 32,
    "start_time": "2022-09-12T09:55:44.966Z"
   },
   {
    "duration": 38,
    "start_time": "2022-09-12T09:55:45.001Z"
   },
   {
    "duration": 54,
    "start_time": "2022-09-12T09:55:45.042Z"
   },
   {
    "duration": 3,
    "start_time": "2022-09-12T09:55:45.098Z"
   },
   {
    "duration": 59,
    "start_time": "2022-09-12T09:55:45.103Z"
   },
   {
    "duration": 24,
    "start_time": "2022-09-12T09:55:45.164Z"
   },
   {
    "duration": 33,
    "start_time": "2022-09-12T09:55:45.190Z"
   },
   {
    "duration": 49,
    "start_time": "2022-09-12T09:55:45.228Z"
   },
   {
    "duration": 67,
    "start_time": "2022-09-12T09:55:45.279Z"
   },
   {
    "duration": 16,
    "start_time": "2022-09-12T09:55:45.354Z"
   },
   {
    "duration": 24,
    "start_time": "2022-09-12T09:55:45.372Z"
   },
   {
    "duration": 69,
    "start_time": "2022-09-12T09:55:45.398Z"
   },
   {
    "duration": 43,
    "start_time": "2022-09-12T09:55:45.470Z"
   },
   {
    "duration": 23,
    "start_time": "2022-09-12T09:55:45.516Z"
   },
   {
    "duration": 32,
    "start_time": "2022-09-12T09:55:45.541Z"
   },
   {
    "duration": 26,
    "start_time": "2022-09-12T09:55:45.575Z"
   },
   {
    "duration": 50,
    "start_time": "2022-09-12T09:55:45.602Z"
   },
   {
    "duration": 22,
    "start_time": "2022-09-12T09:55:45.654Z"
   },
   {
    "duration": 37,
    "start_time": "2022-09-12T09:55:45.678Z"
   },
   {
    "duration": 84,
    "start_time": "2022-09-12T09:55:45.716Z"
   },
   {
    "duration": 13,
    "start_time": "2022-09-12T09:55:45.802Z"
   },
   {
    "duration": 82,
    "start_time": "2022-09-12T09:55:45.817Z"
   },
   {
    "duration": 24,
    "start_time": "2022-09-12T09:55:45.901Z"
   },
   {
    "duration": 65,
    "start_time": "2022-09-12T09:55:45.927Z"
   },
   {
    "duration": 28,
    "start_time": "2022-09-12T09:55:45.994Z"
   },
   {
    "duration": 60,
    "start_time": "2022-09-12T09:55:46.027Z"
   },
   {
    "duration": 140,
    "start_time": "2022-09-12T09:55:46.089Z"
   },
   {
    "duration": 0,
    "start_time": "2022-09-12T09:55:46.231Z"
   },
   {
    "duration": 0,
    "start_time": "2022-09-12T09:55:46.233Z"
   },
   {
    "duration": 0,
    "start_time": "2022-09-12T09:55:46.234Z"
   },
   {
    "duration": 0,
    "start_time": "2022-09-12T09:55:46.235Z"
   },
   {
    "duration": 0,
    "start_time": "2022-09-12T09:55:46.237Z"
   },
   {
    "duration": 501,
    "start_time": "2022-09-12T09:56:07.414Z"
   },
   {
    "duration": 37,
    "start_time": "2022-09-12T09:56:07.917Z"
   },
   {
    "duration": 15,
    "start_time": "2022-09-12T09:56:07.956Z"
   },
   {
    "duration": 16,
    "start_time": "2022-09-12T09:56:07.973Z"
   },
   {
    "duration": 55,
    "start_time": "2022-09-12T09:56:07.991Z"
   },
   {
    "duration": 4,
    "start_time": "2022-09-12T09:56:08.049Z"
   },
   {
    "duration": 22,
    "start_time": "2022-09-12T09:56:08.055Z"
   },
   {
    "duration": 9,
    "start_time": "2022-09-12T09:56:08.079Z"
   },
   {
    "duration": 14,
    "start_time": "2022-09-12T09:56:08.090Z"
   },
   {
    "duration": 19,
    "start_time": "2022-09-12T09:56:08.106Z"
   },
   {
    "duration": 53,
    "start_time": "2022-09-12T09:56:08.133Z"
   },
   {
    "duration": 9,
    "start_time": "2022-09-12T09:56:08.187Z"
   },
   {
    "duration": 9,
    "start_time": "2022-09-12T09:56:08.198Z"
   },
   {
    "duration": 24,
    "start_time": "2022-09-12T09:56:08.208Z"
   },
   {
    "duration": 40,
    "start_time": "2022-09-12T09:56:08.235Z"
   },
   {
    "duration": 18,
    "start_time": "2022-09-12T09:56:08.277Z"
   },
   {
    "duration": 4,
    "start_time": "2022-09-12T09:56:08.297Z"
   },
   {
    "duration": 34,
    "start_time": "2022-09-12T09:56:08.302Z"
   },
   {
    "duration": 17,
    "start_time": "2022-09-12T09:56:08.343Z"
   },
   {
    "duration": 6,
    "start_time": "2022-09-12T09:56:08.362Z"
   },
   {
    "duration": 23,
    "start_time": "2022-09-12T09:56:08.370Z"
   },
   {
    "duration": 62,
    "start_time": "2022-09-12T09:56:08.395Z"
   },
   {
    "duration": 12,
    "start_time": "2022-09-12T09:56:08.459Z"
   },
   {
    "duration": 23,
    "start_time": "2022-09-12T09:56:08.472Z"
   },
   {
    "duration": 22,
    "start_time": "2022-09-12T09:56:08.496Z"
   },
   {
    "duration": 66,
    "start_time": "2022-09-12T09:56:08.522Z"
   },
   {
    "duration": 12,
    "start_time": "2022-09-12T09:56:08.590Z"
   },
   {
    "duration": 22,
    "start_time": "2022-09-12T09:56:08.605Z"
   },
   {
    "duration": 82,
    "start_time": "2022-09-12T09:56:08.633Z"
   },
   {
    "duration": 0,
    "start_time": "2022-09-12T09:56:08.716Z"
   },
   {
    "duration": 0,
    "start_time": "2022-09-12T09:56:08.717Z"
   },
   {
    "duration": 0,
    "start_time": "2022-09-12T09:56:08.718Z"
   },
   {
    "duration": 0,
    "start_time": "2022-09-12T09:56:08.719Z"
   },
   {
    "duration": 0,
    "start_time": "2022-09-12T09:56:08.726Z"
   },
   {
    "duration": 11,
    "start_time": "2022-09-12T09:56:43.450Z"
   },
   {
    "duration": 24,
    "start_time": "2022-09-12T09:58:05.883Z"
   },
   {
    "duration": 12,
    "start_time": "2022-09-12T09:58:07.049Z"
   },
   {
    "duration": 20,
    "start_time": "2022-09-12T09:59:10.836Z"
   },
   {
    "duration": 506,
    "start_time": "2022-09-12T09:59:34.511Z"
   },
   {
    "duration": 37,
    "start_time": "2022-09-12T09:59:35.019Z"
   },
   {
    "duration": 37,
    "start_time": "2022-09-12T09:59:35.058Z"
   },
   {
    "duration": 36,
    "start_time": "2022-09-12T09:59:35.097Z"
   },
   {
    "duration": 74,
    "start_time": "2022-09-12T09:59:35.135Z"
   },
   {
    "duration": 3,
    "start_time": "2022-09-12T09:59:35.211Z"
   },
   {
    "duration": 61,
    "start_time": "2022-09-12T09:59:35.216Z"
   },
   {
    "duration": 24,
    "start_time": "2022-09-12T09:59:35.279Z"
   },
   {
    "duration": 45,
    "start_time": "2022-09-12T09:59:35.305Z"
   },
   {
    "duration": 34,
    "start_time": "2022-09-12T09:59:35.355Z"
   },
   {
    "duration": 88,
    "start_time": "2022-09-12T09:59:35.391Z"
   },
   {
    "duration": 10,
    "start_time": "2022-09-12T09:59:35.481Z"
   },
   {
    "duration": 19,
    "start_time": "2022-09-12T09:59:35.492Z"
   },
   {
    "duration": 64,
    "start_time": "2022-09-12T09:59:35.513Z"
   },
   {
    "duration": 40,
    "start_time": "2022-09-12T09:59:35.579Z"
   },
   {
    "duration": 30,
    "start_time": "2022-09-12T09:59:35.620Z"
   },
   {
    "duration": 23,
    "start_time": "2022-09-12T09:59:35.652Z"
   },
   {
    "duration": 42,
    "start_time": "2022-09-12T09:59:35.676Z"
   },
   {
    "duration": 42,
    "start_time": "2022-09-12T09:59:35.720Z"
   },
   {
    "duration": 14,
    "start_time": "2022-09-12T09:59:35.764Z"
   },
   {
    "duration": 25,
    "start_time": "2022-09-12T09:59:35.780Z"
   },
   {
    "duration": 73,
    "start_time": "2022-09-12T09:59:35.807Z"
   },
   {
    "duration": 10,
    "start_time": "2022-09-12T09:59:35.882Z"
   },
   {
    "duration": 44,
    "start_time": "2022-09-12T09:59:35.893Z"
   },
   {
    "duration": 49,
    "start_time": "2022-09-12T09:59:35.942Z"
   },
   {
    "duration": 58,
    "start_time": "2022-09-12T09:59:35.992Z"
   },
   {
    "duration": 24,
    "start_time": "2022-09-12T09:59:36.052Z"
   },
   {
    "duration": 13,
    "start_time": "2022-09-12T09:59:36.079Z"
   },
   {
    "duration": 50,
    "start_time": "2022-09-12T09:59:36.094Z"
   },
   {
    "duration": 30,
    "start_time": "2022-09-12T09:59:36.148Z"
   },
   {
    "duration": 23,
    "start_time": "2022-09-12T09:59:36.180Z"
   },
   {
    "duration": 138,
    "start_time": "2022-09-12T09:59:36.204Z"
   },
   {
    "duration": 0,
    "start_time": "2022-09-12T09:59:36.345Z"
   },
   {
    "duration": 0,
    "start_time": "2022-09-12T09:59:36.347Z"
   },
   {
    "duration": 16,
    "start_time": "2022-09-12T10:01:25.400Z"
   },
   {
    "duration": 511,
    "start_time": "2022-09-12T10:02:17.301Z"
   },
   {
    "duration": 39,
    "start_time": "2022-09-12T10:02:17.814Z"
   },
   {
    "duration": 16,
    "start_time": "2022-09-12T10:02:17.857Z"
   },
   {
    "duration": 18,
    "start_time": "2022-09-12T10:02:17.875Z"
   },
   {
    "duration": 51,
    "start_time": "2022-09-12T10:02:17.895Z"
   },
   {
    "duration": 4,
    "start_time": "2022-09-12T10:02:17.948Z"
   },
   {
    "duration": 14,
    "start_time": "2022-09-12T10:02:17.954Z"
   },
   {
    "duration": 5,
    "start_time": "2022-09-12T10:02:17.970Z"
   },
   {
    "duration": 12,
    "start_time": "2022-09-12T10:02:17.976Z"
   },
   {
    "duration": 4,
    "start_time": "2022-09-12T10:02:17.991Z"
   },
   {
    "duration": 64,
    "start_time": "2022-09-12T10:02:17.997Z"
   },
   {
    "duration": 30,
    "start_time": "2022-09-12T10:02:18.063Z"
   },
   {
    "duration": 5,
    "start_time": "2022-09-12T10:02:18.095Z"
   },
   {
    "duration": 17,
    "start_time": "2022-09-12T10:02:18.102Z"
   },
   {
    "duration": 40,
    "start_time": "2022-09-12T10:02:18.124Z"
   },
   {
    "duration": 18,
    "start_time": "2022-09-12T10:02:18.165Z"
   },
   {
    "duration": 3,
    "start_time": "2022-09-12T10:02:18.185Z"
   },
   {
    "duration": 19,
    "start_time": "2022-09-12T10:02:18.190Z"
   },
   {
    "duration": 12,
    "start_time": "2022-09-12T10:02:18.210Z"
   },
   {
    "duration": 23,
    "start_time": "2022-09-12T10:02:18.230Z"
   },
   {
    "duration": 13,
    "start_time": "2022-09-12T10:02:18.255Z"
   },
   {
    "duration": 61,
    "start_time": "2022-09-12T10:02:18.270Z"
   },
   {
    "duration": 12,
    "start_time": "2022-09-12T10:02:18.345Z"
   },
   {
    "duration": 11,
    "start_time": "2022-09-12T10:02:18.358Z"
   },
   {
    "duration": 7,
    "start_time": "2022-09-12T10:02:18.371Z"
   },
   {
    "duration": 9,
    "start_time": "2022-09-12T10:02:18.380Z"
   },
   {
    "duration": 10,
    "start_time": "2022-09-12T10:02:18.390Z"
   },
   {
    "duration": 34,
    "start_time": "2022-09-12T10:02:18.403Z"
   },
   {
    "duration": 25,
    "start_time": "2022-09-12T10:02:18.446Z"
   },
   {
    "duration": 21,
    "start_time": "2022-09-12T10:02:18.472Z"
   },
   {
    "duration": 10,
    "start_time": "2022-09-12T10:02:18.495Z"
   },
   {
    "duration": 25,
    "start_time": "2022-09-12T10:02:18.507Z"
   },
   {
    "duration": 26,
    "start_time": "2022-09-12T10:02:18.534Z"
   },
   {
    "duration": 10,
    "start_time": "2022-09-12T10:02:18.562Z"
   },
   {
    "duration": 93,
    "start_time": "2022-09-12T10:08:17.987Z"
   },
   {
    "duration": 16,
    "start_time": "2022-09-12T10:09:56.254Z"
   },
   {
    "duration": 11,
    "start_time": "2022-09-12T10:10:11.482Z"
   },
   {
    "duration": 10,
    "start_time": "2022-09-12T10:11:07.070Z"
   },
   {
    "duration": 19,
    "start_time": "2022-09-12T10:12:18.709Z"
   },
   {
    "duration": 8,
    "start_time": "2022-09-12T10:12:39.907Z"
   },
   {
    "duration": 573,
    "start_time": "2022-09-12T10:13:24.960Z"
   },
   {
    "duration": 28,
    "start_time": "2022-09-12T10:13:25.542Z"
   },
   {
    "duration": 13,
    "start_time": "2022-09-12T10:13:25.572Z"
   },
   {
    "duration": 14,
    "start_time": "2022-09-12T10:13:25.587Z"
   },
   {
    "duration": 52,
    "start_time": "2022-09-12T10:13:25.603Z"
   },
   {
    "duration": 7,
    "start_time": "2022-09-12T10:13:25.659Z"
   },
   {
    "duration": 19,
    "start_time": "2022-09-12T10:13:25.668Z"
   },
   {
    "duration": 14,
    "start_time": "2022-09-12T10:13:25.688Z"
   },
   {
    "duration": 12,
    "start_time": "2022-09-12T10:13:25.703Z"
   },
   {
    "duration": 27,
    "start_time": "2022-09-12T10:13:25.718Z"
   },
   {
    "duration": 54,
    "start_time": "2022-09-12T10:13:25.747Z"
   },
   {
    "duration": 9,
    "start_time": "2022-09-12T10:13:25.803Z"
   },
   {
    "duration": 64,
    "start_time": "2022-09-12T10:13:25.814Z"
   },
   {
    "duration": 17,
    "start_time": "2022-09-12T10:13:25.880Z"
   },
   {
    "duration": 32,
    "start_time": "2022-09-12T10:13:25.899Z"
   },
   {
    "duration": 28,
    "start_time": "2022-09-12T10:13:25.937Z"
   },
   {
    "duration": 11,
    "start_time": "2022-09-12T10:13:25.966Z"
   },
   {
    "duration": 22,
    "start_time": "2022-09-12T10:13:25.978Z"
   },
   {
    "duration": 6,
    "start_time": "2022-09-12T10:13:26.002Z"
   },
   {
    "duration": 6,
    "start_time": "2022-09-12T10:13:26.009Z"
   },
   {
    "duration": 53,
    "start_time": "2022-09-12T10:13:26.017Z"
   },
   {
    "duration": 60,
    "start_time": "2022-09-12T10:13:26.072Z"
   },
   {
    "duration": 26,
    "start_time": "2022-09-12T10:13:26.138Z"
   },
   {
    "duration": 15,
    "start_time": "2022-09-12T10:13:26.165Z"
   },
   {
    "duration": 16,
    "start_time": "2022-09-12T10:13:26.182Z"
   },
   {
    "duration": 17,
    "start_time": "2022-09-12T10:13:26.200Z"
   },
   {
    "duration": 48,
    "start_time": "2022-09-12T10:13:26.219Z"
   },
   {
    "duration": 10,
    "start_time": "2022-09-12T10:13:26.271Z"
   },
   {
    "duration": 25,
    "start_time": "2022-09-12T10:13:26.283Z"
   },
   {
    "duration": 9,
    "start_time": "2022-09-12T10:13:26.310Z"
   },
   {
    "duration": 49,
    "start_time": "2022-09-12T10:13:26.322Z"
   },
   {
    "duration": 30,
    "start_time": "2022-09-12T10:13:26.374Z"
   },
   {
    "duration": 16,
    "start_time": "2022-09-12T10:13:26.406Z"
   },
   {
    "duration": 53,
    "start_time": "2022-09-12T10:13:26.424Z"
   },
   {
    "duration": 543,
    "start_time": "2022-09-12T10:14:57.900Z"
   },
   {
    "duration": 28,
    "start_time": "2022-09-12T10:14:58.457Z"
   },
   {
    "duration": 15,
    "start_time": "2022-09-12T10:14:58.487Z"
   },
   {
    "duration": 23,
    "start_time": "2022-09-12T10:14:58.504Z"
   },
   {
    "duration": 76,
    "start_time": "2022-09-12T10:14:58.529Z"
   },
   {
    "duration": 3,
    "start_time": "2022-09-12T10:14:58.607Z"
   },
   {
    "duration": 14,
    "start_time": "2022-09-12T10:14:58.612Z"
   },
   {
    "duration": 51,
    "start_time": "2022-09-12T10:14:58.627Z"
   },
   {
    "duration": 8,
    "start_time": "2022-09-12T10:14:58.680Z"
   },
   {
    "duration": 4,
    "start_time": "2022-09-12T10:14:58.692Z"
   },
   {
    "duration": 57,
    "start_time": "2022-09-12T10:14:58.698Z"
   },
   {
    "duration": 14,
    "start_time": "2022-09-12T10:14:58.758Z"
   },
   {
    "duration": 7,
    "start_time": "2022-09-12T10:14:58.774Z"
   },
   {
    "duration": 20,
    "start_time": "2022-09-12T10:14:58.782Z"
   },
   {
    "duration": 36,
    "start_time": "2022-09-12T10:14:58.804Z"
   },
   {
    "duration": 25,
    "start_time": "2022-09-12T10:14:58.843Z"
   },
   {
    "duration": 11,
    "start_time": "2022-09-12T10:14:58.871Z"
   },
   {
    "duration": 20,
    "start_time": "2022-09-12T10:14:58.884Z"
   },
   {
    "duration": 8,
    "start_time": "2022-09-12T10:14:58.906Z"
   },
   {
    "duration": 39,
    "start_time": "2022-09-12T10:14:58.921Z"
   },
   {
    "duration": 24,
    "start_time": "2022-09-12T10:14:58.963Z"
   },
   {
    "duration": 124,
    "start_time": "2022-09-12T10:14:58.989Z"
   },
   {
    "duration": 24,
    "start_time": "2022-09-12T10:14:59.116Z"
   },
   {
    "duration": 61,
    "start_time": "2022-09-12T10:14:59.142Z"
   },
   {
    "duration": 17,
    "start_time": "2022-09-12T10:14:59.205Z"
   },
   {
    "duration": 67,
    "start_time": "2022-09-12T10:14:59.226Z"
   },
   {
    "duration": 38,
    "start_time": "2022-09-12T10:14:59.295Z"
   },
   {
    "duration": 58,
    "start_time": "2022-09-12T10:14:59.336Z"
   },
   {
    "duration": 31,
    "start_time": "2022-09-12T10:14:59.396Z"
   },
   {
    "duration": 56,
    "start_time": "2022-09-12T10:14:59.429Z"
   },
   {
    "duration": 10,
    "start_time": "2022-09-12T10:14:59.486Z"
   },
   {
    "duration": 18,
    "start_time": "2022-09-12T10:14:59.498Z"
   },
   {
    "duration": 54,
    "start_time": "2022-09-12T10:14:59.518Z"
   },
   {
    "duration": 16,
    "start_time": "2022-09-12T10:14:59.574Z"
   },
   {
    "duration": 40,
    "start_time": "2022-09-12T10:43:08.168Z"
   },
   {
    "duration": 525,
    "start_time": "2022-09-12T10:43:32.292Z"
   },
   {
    "duration": 40,
    "start_time": "2022-09-12T10:43:32.819Z"
   },
   {
    "duration": 19,
    "start_time": "2022-09-12T10:43:32.870Z"
   },
   {
    "duration": 10,
    "start_time": "2022-09-12T10:43:32.892Z"
   },
   {
    "duration": 67,
    "start_time": "2022-09-12T10:43:32.904Z"
   },
   {
    "duration": 4,
    "start_time": "2022-09-12T10:43:32.973Z"
   },
   {
    "duration": 13,
    "start_time": "2022-09-12T10:43:32.978Z"
   },
   {
    "duration": 4,
    "start_time": "2022-09-12T10:43:32.993Z"
   },
   {
    "duration": 9,
    "start_time": "2022-09-12T10:43:33.000Z"
   },
   {
    "duration": 27,
    "start_time": "2022-09-12T10:43:33.010Z"
   },
   {
    "duration": 58,
    "start_time": "2022-09-12T10:43:33.039Z"
   },
   {
    "duration": 10,
    "start_time": "2022-09-12T10:43:33.099Z"
   },
   {
    "duration": 44,
    "start_time": "2022-09-12T10:43:33.111Z"
   },
   {
    "duration": 18,
    "start_time": "2022-09-12T10:43:33.158Z"
   },
   {
    "duration": 27,
    "start_time": "2022-09-12T10:43:33.178Z"
   },
   {
    "duration": 35,
    "start_time": "2022-09-12T10:43:33.207Z"
   },
   {
    "duration": 17,
    "start_time": "2022-09-12T10:43:33.247Z"
   },
   {
    "duration": 18,
    "start_time": "2022-09-12T10:43:33.267Z"
   },
   {
    "duration": 10,
    "start_time": "2022-09-12T10:43:33.287Z"
   },
   {
    "duration": 7,
    "start_time": "2022-09-12T10:43:33.299Z"
   },
   {
    "duration": 58,
    "start_time": "2022-09-12T10:43:33.308Z"
   },
   {
    "duration": 62,
    "start_time": "2022-09-12T10:43:33.368Z"
   },
   {
    "duration": 23,
    "start_time": "2022-09-12T10:43:33.432Z"
   },
   {
    "duration": 27,
    "start_time": "2022-09-12T10:43:33.459Z"
   },
   {
    "duration": 8,
    "start_time": "2022-09-12T10:43:33.487Z"
   },
   {
    "duration": 16,
    "start_time": "2022-09-12T10:43:33.497Z"
   },
   {
    "duration": 12,
    "start_time": "2022-09-12T10:43:33.516Z"
   },
   {
    "duration": 50,
    "start_time": "2022-09-12T10:43:33.529Z"
   },
   {
    "duration": 55,
    "start_time": "2022-09-12T10:43:33.581Z"
   },
   {
    "duration": 28,
    "start_time": "2022-09-12T10:43:33.641Z"
   },
   {
    "duration": 25,
    "start_time": "2022-09-12T10:43:33.671Z"
   },
   {
    "duration": 9,
    "start_time": "2022-09-12T10:43:33.698Z"
   },
   {
    "duration": 30,
    "start_time": "2022-09-12T10:43:33.709Z"
   },
   {
    "duration": 36,
    "start_time": "2022-09-12T10:43:33.741Z"
   },
   {
    "duration": 11,
    "start_time": "2022-09-12T10:43:33.779Z"
   },
   {
    "duration": 49,
    "start_time": "2022-09-12T10:53:09.920Z"
   },
   {
    "duration": 37,
    "start_time": "2022-09-12T10:53:28.778Z"
   },
   {
    "duration": 59,
    "start_time": "2022-09-12T10:53:41.706Z"
   },
   {
    "duration": 21,
    "start_time": "2022-09-12T11:00:47.414Z"
   },
   {
    "duration": 21,
    "start_time": "2022-09-12T11:01:07.571Z"
   },
   {
    "duration": 44,
    "start_time": "2022-09-12T11:01:44.321Z"
   },
   {
    "duration": 557,
    "start_time": "2022-09-12T11:03:23.982Z"
   },
   {
    "duration": 24,
    "start_time": "2022-09-12T11:03:24.541Z"
   },
   {
    "duration": 18,
    "start_time": "2022-09-12T11:03:24.567Z"
   },
   {
    "duration": 11,
    "start_time": "2022-09-12T11:03:24.588Z"
   },
   {
    "duration": 47,
    "start_time": "2022-09-12T11:03:24.600Z"
   },
   {
    "duration": 5,
    "start_time": "2022-09-12T11:03:24.649Z"
   },
   {
    "duration": 18,
    "start_time": "2022-09-12T11:03:24.656Z"
   },
   {
    "duration": 7,
    "start_time": "2022-09-12T11:03:24.676Z"
   },
   {
    "duration": 10,
    "start_time": "2022-09-12T11:03:24.685Z"
   },
   {
    "duration": 28,
    "start_time": "2022-09-12T11:03:24.699Z"
   },
   {
    "duration": 51,
    "start_time": "2022-09-12T11:03:24.729Z"
   },
   {
    "duration": 10,
    "start_time": "2022-09-12T11:03:24.782Z"
   },
   {
    "duration": 9,
    "start_time": "2022-09-12T11:03:24.794Z"
   },
   {
    "duration": 19,
    "start_time": "2022-09-12T11:03:24.804Z"
   },
   {
    "duration": 40,
    "start_time": "2022-09-12T11:03:24.824Z"
   },
   {
    "duration": 21,
    "start_time": "2022-09-12T11:03:24.866Z"
   },
   {
    "duration": 3,
    "start_time": "2022-09-12T11:03:24.889Z"
   },
   {
    "duration": 14,
    "start_time": "2022-09-12T11:03:24.894Z"
   },
   {
    "duration": 15,
    "start_time": "2022-09-12T11:03:24.910Z"
   },
   {
    "duration": 7,
    "start_time": "2022-09-12T11:03:24.927Z"
   },
   {
    "duration": 11,
    "start_time": "2022-09-12T11:03:24.936Z"
   },
   {
    "duration": 72,
    "start_time": "2022-09-12T11:03:24.949Z"
   },
   {
    "duration": 10,
    "start_time": "2022-09-12T11:03:25.023Z"
   },
   {
    "duration": 10,
    "start_time": "2022-09-12T11:03:25.035Z"
   },
   {
    "duration": 24,
    "start_time": "2022-09-12T11:03:25.046Z"
   },
   {
    "duration": 26,
    "start_time": "2022-09-12T11:03:25.072Z"
   },
   {
    "duration": 10,
    "start_time": "2022-09-12T11:03:25.100Z"
   },
   {
    "duration": 10,
    "start_time": "2022-09-12T11:03:25.120Z"
   },
   {
    "duration": 40,
    "start_time": "2022-09-12T11:03:25.132Z"
   },
   {
    "duration": 14,
    "start_time": "2022-09-12T11:03:25.174Z"
   },
   {
    "duration": 33,
    "start_time": "2022-09-12T11:03:25.189Z"
   },
   {
    "duration": 11,
    "start_time": "2022-09-12T11:03:25.224Z"
   },
   {
    "duration": 19,
    "start_time": "2022-09-12T11:03:25.237Z"
   },
   {
    "duration": 17,
    "start_time": "2022-09-12T11:03:25.258Z"
   },
   {
    "duration": 16,
    "start_time": "2022-09-12T11:03:25.277Z"
   },
   {
    "duration": 4,
    "start_time": "2022-09-12T11:07:53.118Z"
   },
   {
    "duration": 486,
    "start_time": "2022-09-12T11:09:26.234Z"
   },
   {
    "duration": 25,
    "start_time": "2022-09-12T11:09:26.722Z"
   },
   {
    "duration": 21,
    "start_time": "2022-09-12T11:09:26.749Z"
   },
   {
    "duration": 10,
    "start_time": "2022-09-12T11:09:26.773Z"
   },
   {
    "duration": 59,
    "start_time": "2022-09-12T11:09:26.785Z"
   },
   {
    "duration": 4,
    "start_time": "2022-09-12T11:09:26.846Z"
   },
   {
    "duration": 13,
    "start_time": "2022-09-12T11:09:26.852Z"
   },
   {
    "duration": 5,
    "start_time": "2022-09-12T11:09:26.867Z"
   },
   {
    "duration": 9,
    "start_time": "2022-09-12T11:09:26.873Z"
   },
   {
    "duration": 6,
    "start_time": "2022-09-12T11:09:26.886Z"
   },
   {
    "duration": 54,
    "start_time": "2022-09-12T11:09:26.893Z"
   },
   {
    "duration": 10,
    "start_time": "2022-09-12T11:09:26.949Z"
   },
   {
    "duration": 45,
    "start_time": "2022-09-12T11:09:26.961Z"
   },
   {
    "duration": 15,
    "start_time": "2022-09-12T11:09:27.008Z"
   },
   {
    "duration": 28,
    "start_time": "2022-09-12T11:09:27.025Z"
   },
   {
    "duration": 17,
    "start_time": "2022-09-12T11:09:27.055Z"
   },
   {
    "duration": 5,
    "start_time": "2022-09-12T11:09:27.074Z"
   },
   {
    "duration": 14,
    "start_time": "2022-09-12T11:09:27.080Z"
   },
   {
    "duration": 6,
    "start_time": "2022-09-12T11:09:27.095Z"
   },
   {
    "duration": 4,
    "start_time": "2022-09-12T11:09:27.120Z"
   },
   {
    "duration": 10,
    "start_time": "2022-09-12T11:09:27.126Z"
   },
   {
    "duration": 53,
    "start_time": "2022-09-12T11:09:27.137Z"
   },
   {
    "duration": 10,
    "start_time": "2022-09-12T11:09:27.192Z"
   },
   {
    "duration": 9,
    "start_time": "2022-09-12T11:09:27.220Z"
   },
   {
    "duration": 19,
    "start_time": "2022-09-12T11:09:27.231Z"
   },
   {
    "duration": 6,
    "start_time": "2022-09-12T11:09:27.252Z"
   },
   {
    "duration": 14,
    "start_time": "2022-09-12T11:09:27.260Z"
   },
   {
    "duration": 10,
    "start_time": "2022-09-12T11:09:27.278Z"
   },
   {
    "duration": 53,
    "start_time": "2022-09-12T11:09:27.290Z"
   },
   {
    "duration": 57,
    "start_time": "2022-09-12T11:09:27.345Z"
   },
   {
    "duration": 0,
    "start_time": "2022-09-12T11:09:27.404Z"
   },
   {
    "duration": 0,
    "start_time": "2022-09-12T11:09:27.405Z"
   },
   {
    "duration": 0,
    "start_time": "2022-09-12T11:09:27.406Z"
   },
   {
    "duration": 0,
    "start_time": "2022-09-12T11:09:27.407Z"
   },
   {
    "duration": 1,
    "start_time": "2022-09-12T11:09:27.408Z"
   },
   {
    "duration": 0,
    "start_time": "2022-09-12T11:09:27.411Z"
   },
   {
    "duration": 9,
    "start_time": "2022-09-12T11:09:53.200Z"
   },
   {
    "duration": 493,
    "start_time": "2022-09-12T11:10:16.425Z"
   },
   {
    "duration": 23,
    "start_time": "2022-09-12T11:10:16.920Z"
   },
   {
    "duration": 14,
    "start_time": "2022-09-12T11:10:16.945Z"
   },
   {
    "duration": 9,
    "start_time": "2022-09-12T11:10:16.962Z"
   },
   {
    "duration": 54,
    "start_time": "2022-09-12T11:10:16.973Z"
   },
   {
    "duration": 3,
    "start_time": "2022-09-12T11:10:17.029Z"
   },
   {
    "duration": 11,
    "start_time": "2022-09-12T11:10:17.034Z"
   },
   {
    "duration": 4,
    "start_time": "2022-09-12T11:10:17.047Z"
   },
   {
    "duration": 11,
    "start_time": "2022-09-12T11:10:17.052Z"
   },
   {
    "duration": 4,
    "start_time": "2022-09-12T11:10:17.066Z"
   },
   {
    "duration": 58,
    "start_time": "2022-09-12T11:10:17.072Z"
   },
   {
    "duration": 10,
    "start_time": "2022-09-12T11:10:17.131Z"
   },
   {
    "duration": 4,
    "start_time": "2022-09-12T11:10:17.142Z"
   },
   {
    "duration": 12,
    "start_time": "2022-09-12T11:10:17.148Z"
   },
   {
    "duration": 24,
    "start_time": "2022-09-12T11:10:17.162Z"
   },
   {
    "duration": 45,
    "start_time": "2022-09-12T11:10:17.188Z"
   },
   {
    "duration": 3,
    "start_time": "2022-09-12T11:10:17.235Z"
   },
   {
    "duration": 39,
    "start_time": "2022-09-12T11:10:17.240Z"
   },
   {
    "duration": 18,
    "start_time": "2022-09-12T11:10:17.281Z"
   },
   {
    "duration": 10,
    "start_time": "2022-09-12T11:10:17.301Z"
   },
   {
    "duration": 12,
    "start_time": "2022-09-12T11:10:17.321Z"
   },
   {
    "duration": 59,
    "start_time": "2022-09-12T11:10:17.335Z"
   },
   {
    "duration": 27,
    "start_time": "2022-09-12T11:10:17.396Z"
   },
   {
    "duration": 10,
    "start_time": "2022-09-12T11:10:17.424Z"
   },
   {
    "duration": 8,
    "start_time": "2022-09-12T11:10:17.436Z"
   },
   {
    "duration": 12,
    "start_time": "2022-09-12T11:10:17.446Z"
   },
   {
    "duration": 15,
    "start_time": "2022-09-12T11:10:17.460Z"
   },
   {
    "duration": 16,
    "start_time": "2022-09-12T11:10:17.478Z"
   },
   {
    "duration": 62,
    "start_time": "2022-09-12T11:10:17.495Z"
   },
   {
    "duration": 3,
    "start_time": "2022-09-12T11:10:17.559Z"
   },
   {
    "duration": 15,
    "start_time": "2022-09-12T11:10:17.564Z"
   },
   {
    "duration": 21,
    "start_time": "2022-09-12T11:10:17.581Z"
   },
   {
    "duration": 10,
    "start_time": "2022-09-12T11:10:17.620Z"
   },
   {
    "duration": 21,
    "start_time": "2022-09-12T11:10:17.632Z"
   },
   {
    "duration": 11,
    "start_time": "2022-09-12T11:10:17.655Z"
   },
   {
    "duration": 11,
    "start_time": "2022-09-12T11:10:17.667Z"
   },
   {
    "duration": 11,
    "start_time": "2022-09-12T11:14:19.740Z"
   },
   {
    "duration": 14,
    "start_time": "2022-09-12T11:14:26.955Z"
   },
   {
    "duration": 10,
    "start_time": "2022-09-12T11:15:36.965Z"
   },
   {
    "duration": 38,
    "start_time": "2022-09-12T13:43:32.006Z"
   },
   {
    "duration": 38,
    "start_time": "2022-09-12T13:44:30.980Z"
   },
   {
    "duration": 5,
    "start_time": "2022-09-12T13:46:27.912Z"
   },
   {
    "duration": 511,
    "start_time": "2022-09-12T13:47:11.790Z"
   },
   {
    "duration": 22,
    "start_time": "2022-09-12T13:47:12.303Z"
   },
   {
    "duration": 16,
    "start_time": "2022-09-12T13:47:12.327Z"
   },
   {
    "duration": 10,
    "start_time": "2022-09-12T13:47:12.345Z"
   },
   {
    "duration": 36,
    "start_time": "2022-09-12T13:47:12.357Z"
   },
   {
    "duration": 4,
    "start_time": "2022-09-12T13:47:12.395Z"
   },
   {
    "duration": 10,
    "start_time": "2022-09-12T13:47:12.421Z"
   },
   {
    "duration": 8,
    "start_time": "2022-09-12T13:47:12.433Z"
   },
   {
    "duration": 10,
    "start_time": "2022-09-12T13:47:12.443Z"
   },
   {
    "duration": 13,
    "start_time": "2022-09-12T13:47:12.457Z"
   },
   {
    "duration": 40,
    "start_time": "2022-09-12T13:47:12.472Z"
   },
   {
    "duration": 15,
    "start_time": "2022-09-12T13:47:12.513Z"
   },
   {
    "duration": 7,
    "start_time": "2022-09-12T13:47:12.530Z"
   },
   {
    "duration": 14,
    "start_time": "2022-09-12T13:47:12.539Z"
   },
   {
    "duration": 24,
    "start_time": "2022-09-12T13:47:12.555Z"
   },
   {
    "duration": 17,
    "start_time": "2022-09-12T13:47:12.580Z"
   },
   {
    "duration": 21,
    "start_time": "2022-09-12T13:47:12.599Z"
   },
   {
    "duration": 13,
    "start_time": "2022-09-12T13:47:12.622Z"
   },
   {
    "duration": 14,
    "start_time": "2022-09-12T13:47:12.637Z"
   },
   {
    "duration": 5,
    "start_time": "2022-09-12T13:47:12.653Z"
   },
   {
    "duration": 24,
    "start_time": "2022-09-12T13:47:12.660Z"
   },
   {
    "duration": 60,
    "start_time": "2022-09-12T13:47:12.686Z"
   },
   {
    "duration": 10,
    "start_time": "2022-09-12T13:47:12.749Z"
   },
   {
    "duration": 11,
    "start_time": "2022-09-12T13:47:12.761Z"
   },
   {
    "duration": 7,
    "start_time": "2022-09-12T13:47:12.774Z"
   },
   {
    "duration": 8,
    "start_time": "2022-09-12T13:47:12.782Z"
   },
   {
    "duration": 37,
    "start_time": "2022-09-12T13:47:12.791Z"
   },
   {
    "duration": 10,
    "start_time": "2022-09-12T13:47:12.832Z"
   },
   {
    "duration": 6,
    "start_time": "2022-09-12T13:47:12.844Z"
   },
   {
    "duration": 86,
    "start_time": "2022-09-12T13:47:12.852Z"
   },
   {
    "duration": 0,
    "start_time": "2022-09-12T13:47:12.940Z"
   },
   {
    "duration": 0,
    "start_time": "2022-09-12T13:47:12.941Z"
   },
   {
    "duration": 0,
    "start_time": "2022-09-12T13:47:12.942Z"
   },
   {
    "duration": 0,
    "start_time": "2022-09-12T13:47:12.943Z"
   },
   {
    "duration": 0,
    "start_time": "2022-09-12T13:47:12.944Z"
   },
   {
    "duration": 0,
    "start_time": "2022-09-12T13:47:12.945Z"
   },
   {
    "duration": 477,
    "start_time": "2022-09-12T13:47:25.027Z"
   },
   {
    "duration": 23,
    "start_time": "2022-09-12T13:47:25.506Z"
   },
   {
    "duration": 14,
    "start_time": "2022-09-12T13:47:25.531Z"
   },
   {
    "duration": 10,
    "start_time": "2022-09-12T13:47:25.547Z"
   },
   {
    "duration": 33,
    "start_time": "2022-09-12T13:47:25.558Z"
   },
   {
    "duration": 3,
    "start_time": "2022-09-12T13:47:25.593Z"
   },
   {
    "duration": 28,
    "start_time": "2022-09-12T13:47:25.598Z"
   },
   {
    "duration": 5,
    "start_time": "2022-09-12T13:47:25.628Z"
   },
   {
    "duration": 13,
    "start_time": "2022-09-12T13:47:25.634Z"
   },
   {
    "duration": 5,
    "start_time": "2022-09-12T13:47:25.649Z"
   },
   {
    "duration": 37,
    "start_time": "2022-09-12T13:47:25.656Z"
   },
   {
    "duration": 29,
    "start_time": "2022-09-12T13:47:25.695Z"
   },
   {
    "duration": 13,
    "start_time": "2022-09-12T13:47:25.726Z"
   },
   {
    "duration": 18,
    "start_time": "2022-09-12T13:47:25.740Z"
   },
   {
    "duration": 26,
    "start_time": "2022-09-12T13:47:25.759Z"
   },
   {
    "duration": 18,
    "start_time": "2022-09-12T13:47:25.786Z"
   },
   {
    "duration": 15,
    "start_time": "2022-09-12T13:47:25.806Z"
   },
   {
    "duration": 19,
    "start_time": "2022-09-12T13:47:25.823Z"
   },
   {
    "duration": 15,
    "start_time": "2022-09-12T13:47:25.844Z"
   },
   {
    "duration": 9,
    "start_time": "2022-09-12T13:47:25.860Z"
   },
   {
    "duration": 31,
    "start_time": "2022-09-12T13:47:25.871Z"
   },
   {
    "duration": 66,
    "start_time": "2022-09-12T13:47:25.903Z"
   },
   {
    "duration": 11,
    "start_time": "2022-09-12T13:47:25.970Z"
   },
   {
    "duration": 11,
    "start_time": "2022-09-12T13:47:25.983Z"
   },
   {
    "duration": 7,
    "start_time": "2022-09-12T13:47:25.996Z"
   },
   {
    "duration": 7,
    "start_time": "2022-09-12T13:47:26.021Z"
   },
   {
    "duration": 22,
    "start_time": "2022-09-12T13:47:26.030Z"
   },
   {
    "duration": 10,
    "start_time": "2022-09-12T13:47:26.056Z"
   },
   {
    "duration": 4,
    "start_time": "2022-09-12T13:47:26.068Z"
   },
   {
    "duration": 95,
    "start_time": "2022-09-12T13:47:26.074Z"
   },
   {
    "duration": 0,
    "start_time": "2022-09-12T13:47:26.171Z"
   },
   {
    "duration": 0,
    "start_time": "2022-09-12T13:47:26.172Z"
   },
   {
    "duration": 0,
    "start_time": "2022-09-12T13:47:26.173Z"
   },
   {
    "duration": 0,
    "start_time": "2022-09-12T13:47:26.174Z"
   },
   {
    "duration": 0,
    "start_time": "2022-09-12T13:47:26.176Z"
   },
   {
    "duration": 0,
    "start_time": "2022-09-12T13:47:26.177Z"
   },
   {
    "duration": 9,
    "start_time": "2022-09-12T13:54:43.652Z"
   },
   {
    "duration": 80,
    "start_time": "2022-09-12T13:55:47.800Z"
   },
   {
    "duration": 79,
    "start_time": "2022-09-12T13:55:58.642Z"
   },
   {
    "duration": 448,
    "start_time": "2022-09-12T14:04:56.666Z"
   },
   {
    "duration": 24,
    "start_time": "2022-09-12T14:04:57.116Z"
   },
   {
    "duration": 15,
    "start_time": "2022-09-12T14:04:57.142Z"
   },
   {
    "duration": 11,
    "start_time": "2022-09-12T14:04:57.160Z"
   },
   {
    "duration": 69,
    "start_time": "2022-09-12T14:04:57.172Z"
   },
   {
    "duration": 5,
    "start_time": "2022-09-12T14:04:57.243Z"
   },
   {
    "duration": 31,
    "start_time": "2022-09-12T14:04:57.250Z"
   },
   {
    "duration": 23,
    "start_time": "2022-09-12T14:04:57.283Z"
   },
   {
    "duration": 15,
    "start_time": "2022-09-12T14:04:57.308Z"
   },
   {
    "duration": 5,
    "start_time": "2022-09-12T14:04:57.326Z"
   },
   {
    "duration": 50,
    "start_time": "2022-09-12T14:04:57.332Z"
   },
   {
    "duration": 9,
    "start_time": "2022-09-12T14:04:57.384Z"
   },
   {
    "duration": 10,
    "start_time": "2022-09-12T14:04:57.395Z"
   },
   {
    "duration": 23,
    "start_time": "2022-09-12T14:04:57.407Z"
   },
   {
    "duration": 27,
    "start_time": "2022-09-12T14:04:57.432Z"
   },
   {
    "duration": 17,
    "start_time": "2022-09-12T14:04:57.461Z"
   },
   {
    "duration": 3,
    "start_time": "2022-09-12T14:04:57.480Z"
   },
   {
    "duration": 23,
    "start_time": "2022-09-12T14:04:57.485Z"
   },
   {
    "duration": 14,
    "start_time": "2022-09-12T14:04:57.509Z"
   },
   {
    "duration": 7,
    "start_time": "2022-09-12T14:04:57.525Z"
   },
   {
    "duration": 12,
    "start_time": "2022-09-12T14:04:57.534Z"
   },
   {
    "duration": 68,
    "start_time": "2022-09-12T14:04:57.547Z"
   },
   {
    "duration": 9,
    "start_time": "2022-09-12T14:04:57.619Z"
   },
   {
    "duration": 13,
    "start_time": "2022-09-12T14:04:57.630Z"
   },
   {
    "duration": 12,
    "start_time": "2022-09-12T14:04:57.644Z"
   },
   {
    "duration": 6,
    "start_time": "2022-09-12T14:04:57.659Z"
   },
   {
    "duration": 16,
    "start_time": "2022-09-12T14:04:57.666Z"
   },
   {
    "duration": 38,
    "start_time": "2022-09-12T14:04:57.686Z"
   },
   {
    "duration": 4,
    "start_time": "2022-09-12T14:04:57.725Z"
   },
   {
    "duration": 69,
    "start_time": "2022-09-12T14:04:57.731Z"
   },
   {
    "duration": 0,
    "start_time": "2022-09-12T14:04:57.801Z"
   },
   {
    "duration": 0,
    "start_time": "2022-09-12T14:04:57.803Z"
   },
   {
    "duration": 0,
    "start_time": "2022-09-12T14:04:57.821Z"
   },
   {
    "duration": 0,
    "start_time": "2022-09-12T14:04:57.823Z"
   },
   {
    "duration": 0,
    "start_time": "2022-09-12T14:04:57.824Z"
   },
   {
    "duration": 0,
    "start_time": "2022-09-12T14:04:57.825Z"
   },
   {
    "duration": 489,
    "start_time": "2022-09-12T14:08:07.423Z"
   },
   {
    "duration": 23,
    "start_time": "2022-09-12T14:08:07.914Z"
   },
   {
    "duration": 45,
    "start_time": "2022-09-12T14:08:07.939Z"
   },
   {
    "duration": 10,
    "start_time": "2022-09-12T14:08:07.987Z"
   },
   {
    "duration": 42,
    "start_time": "2022-09-12T14:08:07.999Z"
   },
   {
    "duration": 3,
    "start_time": "2022-09-12T14:08:08.043Z"
   },
   {
    "duration": 15,
    "start_time": "2022-09-12T14:08:08.048Z"
   },
   {
    "duration": 17,
    "start_time": "2022-09-12T14:08:08.065Z"
   },
   {
    "duration": 9,
    "start_time": "2022-09-12T14:08:08.084Z"
   },
   {
    "duration": 4,
    "start_time": "2022-09-12T14:08:08.096Z"
   },
   {
    "duration": 43,
    "start_time": "2022-09-12T14:08:08.102Z"
   },
   {
    "duration": 10,
    "start_time": "2022-09-12T14:08:08.147Z"
   },
   {
    "duration": 11,
    "start_time": "2022-09-12T14:08:08.159Z"
   },
   {
    "duration": 20,
    "start_time": "2022-09-12T14:08:08.171Z"
   },
   {
    "duration": 29,
    "start_time": "2022-09-12T14:08:08.193Z"
   },
   {
    "duration": 21,
    "start_time": "2022-09-12T14:08:08.224Z"
   },
   {
    "duration": 9,
    "start_time": "2022-09-12T14:08:08.247Z"
   },
   {
    "duration": 17,
    "start_time": "2022-09-12T14:08:08.257Z"
   },
   {
    "duration": 15,
    "start_time": "2022-09-12T14:08:08.276Z"
   },
   {
    "duration": 9,
    "start_time": "2022-09-12T14:08:08.293Z"
   },
   {
    "duration": 21,
    "start_time": "2022-09-12T14:08:08.304Z"
   },
   {
    "duration": 64,
    "start_time": "2022-09-12T14:08:08.327Z"
   },
   {
    "duration": 9,
    "start_time": "2022-09-12T14:08:08.393Z"
   },
   {
    "duration": 21,
    "start_time": "2022-09-12T14:08:08.404Z"
   },
   {
    "duration": 19,
    "start_time": "2022-09-12T14:08:08.427Z"
   },
   {
    "duration": 5,
    "start_time": "2022-09-12T14:08:08.448Z"
   },
   {
    "duration": 13,
    "start_time": "2022-09-12T14:08:08.454Z"
   },
   {
    "duration": 11,
    "start_time": "2022-09-12T14:08:08.471Z"
   },
   {
    "duration": 9,
    "start_time": "2022-09-12T14:08:08.484Z"
   },
   {
    "duration": 97,
    "start_time": "2022-09-12T14:08:08.494Z"
   },
   {
    "duration": 0,
    "start_time": "2022-09-12T14:08:08.592Z"
   },
   {
    "duration": 0,
    "start_time": "2022-09-12T14:08:08.594Z"
   },
   {
    "duration": 0,
    "start_time": "2022-09-12T14:08:08.595Z"
   },
   {
    "duration": 0,
    "start_time": "2022-09-12T14:08:08.597Z"
   },
   {
    "duration": 0,
    "start_time": "2022-09-12T14:08:08.598Z"
   },
   {
    "duration": 0,
    "start_time": "2022-09-12T14:08:08.599Z"
   },
   {
    "duration": 520,
    "start_time": "2022-09-12T14:09:11.513Z"
   },
   {
    "duration": 24,
    "start_time": "2022-09-12T14:09:12.036Z"
   },
   {
    "duration": 19,
    "start_time": "2022-09-12T14:09:12.062Z"
   },
   {
    "duration": 10,
    "start_time": "2022-09-12T14:09:12.083Z"
   },
   {
    "duration": 55,
    "start_time": "2022-09-12T14:09:12.094Z"
   },
   {
    "duration": 4,
    "start_time": "2022-09-12T14:09:12.151Z"
   },
   {
    "duration": 12,
    "start_time": "2022-09-12T14:09:12.157Z"
   },
   {
    "duration": 6,
    "start_time": "2022-09-12T14:09:12.170Z"
   },
   {
    "duration": 10,
    "start_time": "2022-09-12T14:09:12.178Z"
   },
   {
    "duration": 5,
    "start_time": "2022-09-12T14:09:12.220Z"
   },
   {
    "duration": 40,
    "start_time": "2022-09-12T14:09:12.227Z"
   },
   {
    "duration": 10,
    "start_time": "2022-09-12T14:09:12.269Z"
   },
   {
    "duration": 9,
    "start_time": "2022-09-12T14:09:12.281Z"
   },
   {
    "duration": 23,
    "start_time": "2022-09-12T14:09:12.291Z"
   },
   {
    "duration": 23,
    "start_time": "2022-09-12T14:09:12.320Z"
   },
   {
    "duration": 19,
    "start_time": "2022-09-12T14:09:12.345Z"
   },
   {
    "duration": 4,
    "start_time": "2022-09-12T14:09:12.365Z"
   },
   {
    "duration": 23,
    "start_time": "2022-09-12T14:09:12.371Z"
   },
   {
    "duration": 5,
    "start_time": "2022-09-12T14:09:12.396Z"
   },
   {
    "duration": 20,
    "start_time": "2022-09-12T14:09:12.403Z"
   },
   {
    "duration": 16,
    "start_time": "2022-09-12T14:09:12.424Z"
   },
   {
    "duration": 64,
    "start_time": "2022-09-12T14:09:12.442Z"
   },
   {
    "duration": 18,
    "start_time": "2022-09-12T14:09:12.508Z"
   },
   {
    "duration": 10,
    "start_time": "2022-09-12T14:09:12.528Z"
   },
   {
    "duration": 10,
    "start_time": "2022-09-12T14:09:12.540Z"
   },
   {
    "duration": 14,
    "start_time": "2022-09-12T14:09:12.552Z"
   },
   {
    "duration": 19,
    "start_time": "2022-09-12T14:09:12.568Z"
   },
   {
    "duration": 33,
    "start_time": "2022-09-12T14:09:12.591Z"
   },
   {
    "duration": 74,
    "start_time": "2022-09-12T14:09:12.626Z"
   },
   {
    "duration": 0,
    "start_time": "2022-09-12T14:09:12.702Z"
   },
   {
    "duration": 0,
    "start_time": "2022-09-12T14:09:12.703Z"
   },
   {
    "duration": 0,
    "start_time": "2022-09-12T14:09:12.705Z"
   },
   {
    "duration": 0,
    "start_time": "2022-09-12T14:09:12.721Z"
   },
   {
    "duration": 0,
    "start_time": "2022-09-12T14:09:12.722Z"
   },
   {
    "duration": 0,
    "start_time": "2022-09-12T14:09:12.724Z"
   },
   {
    "duration": 952,
    "start_time": "2022-09-12T14:16:04.096Z"
   },
   {
    "duration": 834,
    "start_time": "2022-09-12T14:16:58.134Z"
   },
   {
    "duration": 43,
    "start_time": "2022-09-12T14:22:49.702Z"
   },
   {
    "duration": 43,
    "start_time": "2022-09-12T14:23:31.806Z"
   },
   {
    "duration": 450,
    "start_time": "2022-09-12T14:24:21.665Z"
   },
   {
    "duration": 23,
    "start_time": "2022-09-12T14:24:22.118Z"
   },
   {
    "duration": 15,
    "start_time": "2022-09-12T14:24:22.143Z"
   },
   {
    "duration": 9,
    "start_time": "2022-09-12T14:24:22.160Z"
   },
   {
    "duration": 63,
    "start_time": "2022-09-12T14:24:22.171Z"
   },
   {
    "duration": 3,
    "start_time": "2022-09-12T14:24:22.236Z"
   },
   {
    "duration": 23,
    "start_time": "2022-09-12T14:24:22.241Z"
   },
   {
    "duration": 16,
    "start_time": "2022-09-12T14:24:22.265Z"
   },
   {
    "duration": 32,
    "start_time": "2022-09-12T14:24:22.283Z"
   },
   {
    "duration": 27,
    "start_time": "2022-09-12T14:24:22.319Z"
   },
   {
    "duration": 53,
    "start_time": "2022-09-12T14:24:22.348Z"
   },
   {
    "duration": 10,
    "start_time": "2022-09-12T14:24:22.403Z"
   },
   {
    "duration": 23,
    "start_time": "2022-09-12T14:24:22.414Z"
   },
   {
    "duration": 30,
    "start_time": "2022-09-12T14:24:22.439Z"
   },
   {
    "duration": 38,
    "start_time": "2022-09-12T14:24:22.471Z"
   },
   {
    "duration": 19,
    "start_time": "2022-09-12T14:24:22.511Z"
   },
   {
    "duration": 16,
    "start_time": "2022-09-12T14:24:22.531Z"
   },
   {
    "duration": 29,
    "start_time": "2022-09-12T14:24:22.549Z"
   },
   {
    "duration": 17,
    "start_time": "2022-09-12T14:24:22.580Z"
   },
   {
    "duration": 8,
    "start_time": "2022-09-12T14:24:22.598Z"
   },
   {
    "duration": 23,
    "start_time": "2022-09-12T14:24:22.608Z"
   },
   {
    "duration": 93,
    "start_time": "2022-09-12T14:24:22.632Z"
   },
   {
    "duration": 9,
    "start_time": "2022-09-12T14:24:22.727Z"
   },
   {
    "duration": 32,
    "start_time": "2022-09-12T14:24:22.738Z"
   },
   {
    "duration": 29,
    "start_time": "2022-09-12T14:24:22.772Z"
   },
   {
    "duration": 30,
    "start_time": "2022-09-12T14:24:22.803Z"
   },
   {
    "duration": 30,
    "start_time": "2022-09-12T14:24:22.835Z"
   },
   {
    "duration": 42,
    "start_time": "2022-09-12T14:24:22.868Z"
   },
   {
    "duration": 56,
    "start_time": "2022-09-12T14:24:22.912Z"
   },
   {
    "duration": 13,
    "start_time": "2022-09-12T14:24:22.970Z"
   },
   {
    "duration": 54,
    "start_time": "2022-09-12T14:24:22.985Z"
   },
   {
    "duration": 13,
    "start_time": "2022-09-12T14:24:23.041Z"
   },
   {
    "duration": 21,
    "start_time": "2022-09-12T14:24:23.055Z"
   },
   {
    "duration": 41,
    "start_time": "2022-09-12T14:24:23.077Z"
   },
   {
    "duration": 21,
    "start_time": "2022-09-12T14:24:23.120Z"
   },
   {
    "duration": 60,
    "start_time": "2022-09-12T14:28:30.639Z"
   },
   {
    "duration": 454,
    "start_time": "2022-09-12T16:15:11.159Z"
   },
   {
    "duration": 25,
    "start_time": "2022-09-12T16:15:11.616Z"
   },
   {
    "duration": 18,
    "start_time": "2022-09-12T16:15:11.642Z"
   },
   {
    "duration": 12,
    "start_time": "2022-09-12T16:15:11.663Z"
   },
   {
    "duration": 61,
    "start_time": "2022-09-12T16:15:11.677Z"
   },
   {
    "duration": 4,
    "start_time": "2022-09-12T16:15:11.740Z"
   },
   {
    "duration": 15,
    "start_time": "2022-09-12T16:15:11.746Z"
   },
   {
    "duration": 7,
    "start_time": "2022-09-12T16:15:11.763Z"
   },
   {
    "duration": 8,
    "start_time": "2022-09-12T16:15:11.772Z"
   },
   {
    "duration": 5,
    "start_time": "2022-09-12T16:15:11.785Z"
   },
   {
    "duration": 63,
    "start_time": "2022-09-12T16:15:11.791Z"
   },
   {
    "duration": 15,
    "start_time": "2022-09-12T16:15:11.856Z"
   },
   {
    "duration": 8,
    "start_time": "2022-09-12T16:15:11.873Z"
   },
   {
    "duration": 24,
    "start_time": "2022-09-12T16:15:11.882Z"
   },
   {
    "duration": 29,
    "start_time": "2022-09-12T16:15:11.908Z"
   },
   {
    "duration": 18,
    "start_time": "2022-09-12T16:15:11.939Z"
   },
   {
    "duration": 4,
    "start_time": "2022-09-12T16:15:11.959Z"
   },
   {
    "duration": 23,
    "start_time": "2022-09-12T16:15:11.965Z"
   },
   {
    "duration": 11,
    "start_time": "2022-09-12T16:15:11.990Z"
   },
   {
    "duration": 18,
    "start_time": "2022-09-12T16:15:12.003Z"
   },
   {
    "duration": 24,
    "start_time": "2022-09-12T16:15:12.023Z"
   },
   {
    "duration": 72,
    "start_time": "2022-09-12T16:15:12.049Z"
   },
   {
    "duration": 8,
    "start_time": "2022-09-12T16:15:12.123Z"
   },
   {
    "duration": 26,
    "start_time": "2022-09-12T16:15:12.133Z"
   },
   {
    "duration": 13,
    "start_time": "2022-09-12T16:15:12.161Z"
   },
   {
    "duration": 7,
    "start_time": "2022-09-12T16:15:12.176Z"
   },
   {
    "duration": 14,
    "start_time": "2022-09-12T16:15:12.185Z"
   },
   {
    "duration": 25,
    "start_time": "2022-09-12T16:15:12.203Z"
   },
   {
    "duration": 47,
    "start_time": "2022-09-12T16:15:12.230Z"
   },
   {
    "duration": 13,
    "start_time": "2022-09-12T16:15:12.280Z"
   },
   {
    "duration": 21,
    "start_time": "2022-09-12T16:15:12.295Z"
   },
   {
    "duration": 9,
    "start_time": "2022-09-12T16:15:12.320Z"
   },
   {
    "duration": 17,
    "start_time": "2022-09-12T16:15:12.331Z"
   },
   {
    "duration": 23,
    "start_time": "2022-09-12T16:15:12.349Z"
   },
   {
    "duration": 11,
    "start_time": "2022-09-12T16:15:12.374Z"
   },
   {
    "duration": 211,
    "start_time": "2022-09-13T17:39:24.773Z"
   },
   {
    "duration": 54,
    "start_time": "2022-09-14T07:17:42.881Z"
   },
   {
    "duration": 8,
    "start_time": "2022-09-14T07:22:16.564Z"
   },
   {
    "duration": 7,
    "start_time": "2022-09-14T07:22:39.293Z"
   },
   {
    "duration": 742,
    "start_time": "2022-09-14T07:23:42.890Z"
   },
   {
    "duration": 24,
    "start_time": "2022-09-14T07:23:43.634Z"
   },
   {
    "duration": 16,
    "start_time": "2022-09-14T07:23:43.660Z"
   },
   {
    "duration": 9,
    "start_time": "2022-09-14T07:23:43.677Z"
   },
   {
    "duration": 50,
    "start_time": "2022-09-14T07:23:43.688Z"
   },
   {
    "duration": 3,
    "start_time": "2022-09-14T07:23:43.740Z"
   },
   {
    "duration": 18,
    "start_time": "2022-09-14T07:23:43.744Z"
   },
   {
    "duration": 6,
    "start_time": "2022-09-14T07:23:43.764Z"
   },
   {
    "duration": 9,
    "start_time": "2022-09-14T07:23:43.772Z"
   },
   {
    "duration": 4,
    "start_time": "2022-09-14T07:23:43.783Z"
   },
   {
    "duration": 62,
    "start_time": "2022-09-14T07:23:43.789Z"
   },
   {
    "duration": 10,
    "start_time": "2022-09-14T07:23:43.852Z"
   },
   {
    "duration": 7,
    "start_time": "2022-09-14T07:23:43.864Z"
   },
   {
    "duration": 56,
    "start_time": "2022-09-14T07:23:43.872Z"
   },
   {
    "duration": 20,
    "start_time": "2022-09-14T07:23:43.929Z"
   },
   {
    "duration": 18,
    "start_time": "2022-09-14T07:23:43.951Z"
   },
   {
    "duration": 3,
    "start_time": "2022-09-14T07:23:43.971Z"
   },
   {
    "duration": 15,
    "start_time": "2022-09-14T07:23:43.975Z"
   },
   {
    "duration": 31,
    "start_time": "2022-09-14T07:23:43.992Z"
   },
   {
    "duration": 3,
    "start_time": "2022-09-14T07:23:44.025Z"
   },
   {
    "duration": 17,
    "start_time": "2022-09-14T07:23:44.030Z"
   },
   {
    "duration": 73,
    "start_time": "2022-09-14T07:23:44.049Z"
   },
   {
    "duration": 8,
    "start_time": "2022-09-14T07:23:44.124Z"
   },
   {
    "duration": 94,
    "start_time": "2022-09-14T07:23:44.133Z"
   },
   {
    "duration": 0,
    "start_time": "2022-09-14T07:23:44.230Z"
   },
   {
    "duration": 0,
    "start_time": "2022-09-14T07:23:44.231Z"
   },
   {
    "duration": 0,
    "start_time": "2022-09-14T07:23:44.232Z"
   },
   {
    "duration": 0,
    "start_time": "2022-09-14T07:23:44.233Z"
   },
   {
    "duration": 0,
    "start_time": "2022-09-14T07:23:44.234Z"
   },
   {
    "duration": 0,
    "start_time": "2022-09-14T07:23:44.235Z"
   },
   {
    "duration": 0,
    "start_time": "2022-09-14T07:23:44.236Z"
   },
   {
    "duration": 0,
    "start_time": "2022-09-14T07:23:44.237Z"
   },
   {
    "duration": 0,
    "start_time": "2022-09-14T07:23:44.238Z"
   },
   {
    "duration": 0,
    "start_time": "2022-09-14T07:23:44.240Z"
   },
   {
    "duration": 0,
    "start_time": "2022-09-14T07:23:44.241Z"
   },
   {
    "duration": 16,
    "start_time": "2022-09-14T07:24:48.407Z"
   },
   {
    "duration": 15,
    "start_time": "2022-09-14T07:32:22.071Z"
   },
   {
    "duration": 14,
    "start_time": "2022-09-14T07:32:38.433Z"
   },
   {
    "duration": 15,
    "start_time": "2022-09-14T07:36:43.161Z"
   },
   {
    "duration": 60,
    "start_time": "2022-09-14T07:40:08.011Z"
   },
   {
    "duration": 19,
    "start_time": "2022-09-14T07:40:41.599Z"
   },
   {
    "duration": 20,
    "start_time": "2022-09-14T07:41:56.871Z"
   },
   {
    "duration": 22,
    "start_time": "2022-09-14T07:42:57.124Z"
   },
   {
    "duration": 16,
    "start_time": "2022-09-14T07:43:23.897Z"
   },
   {
    "duration": 23,
    "start_time": "2022-09-14T07:43:55.830Z"
   },
   {
    "duration": 17,
    "start_time": "2022-09-14T07:44:14.628Z"
   },
   {
    "duration": 17,
    "start_time": "2022-09-14T07:44:21.644Z"
   },
   {
    "duration": 17,
    "start_time": "2022-09-14T07:44:51.429Z"
   },
   {
    "duration": 18,
    "start_time": "2022-09-14T07:46:22.011Z"
   },
   {
    "duration": 12,
    "start_time": "2022-09-14T07:48:39.566Z"
   },
   {
    "duration": 21,
    "start_time": "2022-09-14T07:49:12.043Z"
   },
   {
    "duration": 17,
    "start_time": "2022-09-14T07:49:59.511Z"
   },
   {
    "duration": 24,
    "start_time": "2022-09-14T07:51:28.195Z"
   },
   {
    "duration": 28,
    "start_time": "2022-09-14T07:58:30.087Z"
   },
   {
    "duration": 4,
    "start_time": "2022-09-14T07:58:56.631Z"
   },
   {
    "duration": 73,
    "start_time": "2022-09-14T07:59:09.287Z"
   },
   {
    "duration": 126,
    "start_time": "2022-09-14T08:00:31.776Z"
   },
   {
    "duration": 25,
    "start_time": "2022-09-14T08:01:11.610Z"
   },
   {
    "duration": 25,
    "start_time": "2022-09-14T08:05:13.184Z"
   },
   {
    "duration": 27,
    "start_time": "2022-09-14T08:06:21.475Z"
   },
   {
    "duration": 89,
    "start_time": "2022-09-14T08:06:52.479Z"
   },
   {
    "duration": 49,
    "start_time": "2022-09-14T08:07:31.429Z"
   },
   {
    "duration": 26,
    "start_time": "2022-09-14T08:07:43.458Z"
   },
   {
    "duration": 28,
    "start_time": "2022-09-14T08:08:06.457Z"
   },
   {
    "duration": 28,
    "start_time": "2022-09-14T08:08:30.401Z"
   },
   {
    "duration": 27,
    "start_time": "2022-09-14T08:08:58.374Z"
   },
   {
    "duration": 26,
    "start_time": "2022-09-14T08:09:25.795Z"
   },
   {
    "duration": 29,
    "start_time": "2022-09-14T12:54:47.018Z"
   },
   {
    "duration": 43,
    "start_time": "2022-09-14T13:21:24.888Z"
   },
   {
    "duration": 33,
    "start_time": "2022-09-14T13:21:38.314Z"
   },
   {
    "duration": 32,
    "start_time": "2022-09-14T13:22:30.117Z"
   },
   {
    "duration": 29,
    "start_time": "2022-09-14T13:22:40.612Z"
   },
   {
    "duration": 31,
    "start_time": "2022-09-14T13:23:09.752Z"
   },
   {
    "duration": 18,
    "start_time": "2022-09-14T13:36:15.047Z"
   },
   {
    "duration": 15,
    "start_time": "2022-09-14T13:36:49.235Z"
   },
   {
    "duration": 20,
    "start_time": "2022-09-14T13:39:05.519Z"
   },
   {
    "duration": 549,
    "start_time": "2022-09-14T13:39:26.310Z"
   },
   {
    "duration": 26,
    "start_time": "2022-09-14T13:39:26.861Z"
   },
   {
    "duration": 17,
    "start_time": "2022-09-14T13:39:26.888Z"
   },
   {
    "duration": 23,
    "start_time": "2022-09-14T13:39:26.907Z"
   },
   {
    "duration": 43,
    "start_time": "2022-09-14T13:39:26.932Z"
   },
   {
    "duration": 5,
    "start_time": "2022-09-14T13:39:26.977Z"
   },
   {
    "duration": 41,
    "start_time": "2022-09-14T13:39:26.985Z"
   },
   {
    "duration": 7,
    "start_time": "2022-09-14T13:39:27.029Z"
   },
   {
    "duration": 16,
    "start_time": "2022-09-14T13:39:27.038Z"
   },
   {
    "duration": 6,
    "start_time": "2022-09-14T13:39:27.059Z"
   },
   {
    "duration": 82,
    "start_time": "2022-09-14T13:39:27.067Z"
   },
   {
    "duration": 14,
    "start_time": "2022-09-14T13:39:27.152Z"
   },
   {
    "duration": 14,
    "start_time": "2022-09-14T13:39:27.168Z"
   },
   {
    "duration": 17,
    "start_time": "2022-09-14T13:39:27.184Z"
   },
   {
    "duration": 33,
    "start_time": "2022-09-14T13:39:27.203Z"
   },
   {
    "duration": 20,
    "start_time": "2022-09-14T13:39:27.238Z"
   },
   {
    "duration": 4,
    "start_time": "2022-09-14T13:39:27.260Z"
   },
   {
    "duration": 18,
    "start_time": "2022-09-14T13:39:27.266Z"
   },
   {
    "duration": 12,
    "start_time": "2022-09-14T13:39:27.286Z"
   },
   {
    "duration": 4,
    "start_time": "2022-09-14T13:39:27.320Z"
   },
   {
    "duration": 15,
    "start_time": "2022-09-14T13:39:27.326Z"
   },
   {
    "duration": 78,
    "start_time": "2022-09-14T13:39:27.343Z"
   },
   {
    "duration": 9,
    "start_time": "2022-09-14T13:39:27.423Z"
   },
   {
    "duration": 38,
    "start_time": "2022-09-14T13:39:27.434Z"
   },
   {
    "duration": 5,
    "start_time": "2022-09-14T13:39:27.474Z"
   },
   {
    "duration": 51,
    "start_time": "2022-09-14T13:39:27.481Z"
   },
   {
    "duration": 39,
    "start_time": "2022-09-14T13:39:27.534Z"
   },
   {
    "duration": 13,
    "start_time": "2022-09-14T13:39:27.577Z"
   },
   {
    "duration": 68,
    "start_time": "2022-09-14T13:39:27.592Z"
   },
   {
    "duration": 12,
    "start_time": "2022-09-14T13:39:27.662Z"
   },
   {
    "duration": 26,
    "start_time": "2022-09-14T13:39:27.676Z"
   },
   {
    "duration": 21,
    "start_time": "2022-09-14T13:39:27.703Z"
   },
   {
    "duration": 32,
    "start_time": "2022-09-14T13:40:39.508Z"
   },
   {
    "duration": 488,
    "start_time": "2022-09-14T15:02:29.936Z"
   },
   {
    "duration": 24,
    "start_time": "2022-09-14T15:02:30.426Z"
   },
   {
    "duration": 29,
    "start_time": "2022-09-14T15:02:30.452Z"
   },
   {
    "duration": 20,
    "start_time": "2022-09-14T15:02:30.484Z"
   },
   {
    "duration": 66,
    "start_time": "2022-09-14T15:02:30.506Z"
   },
   {
    "duration": 5,
    "start_time": "2022-09-14T15:02:30.574Z"
   },
   {
    "duration": 30,
    "start_time": "2022-09-14T15:02:30.580Z"
   },
   {
    "duration": 26,
    "start_time": "2022-09-14T15:02:30.612Z"
   },
   {
    "duration": 35,
    "start_time": "2022-09-14T15:02:30.639Z"
   },
   {
    "duration": 26,
    "start_time": "2022-09-14T15:02:30.676Z"
   },
   {
    "duration": 45,
    "start_time": "2022-09-14T15:02:30.703Z"
   },
   {
    "duration": 10,
    "start_time": "2022-09-14T15:02:30.750Z"
   },
   {
    "duration": 22,
    "start_time": "2022-09-14T15:02:30.762Z"
   },
   {
    "duration": 45,
    "start_time": "2022-09-14T15:02:30.786Z"
   },
   {
    "duration": 27,
    "start_time": "2022-09-14T15:02:30.832Z"
   },
   {
    "duration": 19,
    "start_time": "2022-09-14T15:02:30.861Z"
   },
   {
    "duration": 4,
    "start_time": "2022-09-14T15:02:30.882Z"
   },
   {
    "duration": 26,
    "start_time": "2022-09-14T15:02:30.887Z"
   },
   {
    "duration": 14,
    "start_time": "2022-09-14T15:02:30.915Z"
   },
   {
    "duration": 10,
    "start_time": "2022-09-14T15:02:30.931Z"
   },
   {
    "duration": 30,
    "start_time": "2022-09-14T15:02:30.943Z"
   },
   {
    "duration": 75,
    "start_time": "2022-09-14T15:02:30.975Z"
   },
   {
    "duration": 8,
    "start_time": "2022-09-14T15:02:31.053Z"
   },
   {
    "duration": 84,
    "start_time": "2022-09-14T15:02:31.063Z"
   },
   {
    "duration": 17,
    "start_time": "2022-09-14T15:02:31.149Z"
   },
   {
    "duration": 55,
    "start_time": "2022-09-14T15:02:31.168Z"
   },
   {
    "duration": 45,
    "start_time": "2022-09-14T15:02:31.225Z"
   },
   {
    "duration": 13,
    "start_time": "2022-09-14T15:02:31.273Z"
   },
   {
    "duration": 45,
    "start_time": "2022-09-14T15:02:31.288Z"
   },
   {
    "duration": 10,
    "start_time": "2022-09-14T15:02:31.335Z"
   },
   {
    "duration": 43,
    "start_time": "2022-09-14T15:02:31.347Z"
   },
   {
    "duration": 11,
    "start_time": "2022-09-14T15:02:31.392Z"
   },
   {
    "duration": 443,
    "start_time": "2022-09-14T15:03:41.762Z"
   },
   {
    "duration": 23,
    "start_time": "2022-09-14T15:03:42.207Z"
   },
   {
    "duration": 15,
    "start_time": "2022-09-14T15:03:42.232Z"
   },
   {
    "duration": 10,
    "start_time": "2022-09-14T15:03:42.249Z"
   },
   {
    "duration": 41,
    "start_time": "2022-09-14T15:03:42.260Z"
   },
   {
    "duration": 19,
    "start_time": "2022-09-14T15:03:42.303Z"
   },
   {
    "duration": 12,
    "start_time": "2022-09-14T15:03:42.323Z"
   },
   {
    "duration": 11,
    "start_time": "2022-09-14T15:03:42.337Z"
   },
   {
    "duration": 13,
    "start_time": "2022-09-14T15:03:42.350Z"
   },
   {
    "duration": 5,
    "start_time": "2022-09-14T15:03:42.366Z"
   },
   {
    "duration": 63,
    "start_time": "2022-09-14T15:03:42.374Z"
   },
   {
    "duration": 12,
    "start_time": "2022-09-14T15:03:42.439Z"
   },
   {
    "duration": 4,
    "start_time": "2022-09-14T15:03:42.453Z"
   },
   {
    "duration": 14,
    "start_time": "2022-09-14T15:03:42.459Z"
   },
   {
    "duration": 46,
    "start_time": "2022-09-14T15:03:42.475Z"
   },
   {
    "duration": 20,
    "start_time": "2022-09-14T15:03:42.523Z"
   },
   {
    "duration": 4,
    "start_time": "2022-09-14T15:03:42.544Z"
   },
   {
    "duration": 12,
    "start_time": "2022-09-14T15:03:42.550Z"
   },
   {
    "duration": 7,
    "start_time": "2022-09-14T15:03:42.564Z"
   },
   {
    "duration": 4,
    "start_time": "2022-09-14T15:03:42.572Z"
   },
   {
    "duration": 43,
    "start_time": "2022-09-14T15:03:42.578Z"
   },
   {
    "duration": 68,
    "start_time": "2022-09-14T15:03:42.623Z"
   },
   {
    "duration": 9,
    "start_time": "2022-09-14T15:03:42.694Z"
   },
   {
    "duration": 44,
    "start_time": "2022-09-14T15:03:42.706Z"
   },
   {
    "duration": 5,
    "start_time": "2022-09-14T15:03:42.752Z"
   },
   {
    "duration": 30,
    "start_time": "2022-09-14T15:03:42.759Z"
   },
   {
    "duration": 60,
    "start_time": "2022-09-14T15:03:42.791Z"
   },
   {
    "duration": 13,
    "start_time": "2022-09-14T15:03:42.856Z"
   },
   {
    "duration": 42,
    "start_time": "2022-09-14T15:03:42.870Z"
   },
   {
    "duration": 10,
    "start_time": "2022-09-14T15:03:42.921Z"
   },
   {
    "duration": 40,
    "start_time": "2022-09-14T15:03:42.933Z"
   },
   {
    "duration": 471,
    "start_time": "2022-09-14T15:51:26.736Z"
   },
   {
    "duration": 28,
    "start_time": "2022-09-14T15:51:27.209Z"
   },
   {
    "duration": 15,
    "start_time": "2022-09-14T15:51:27.239Z"
   },
   {
    "duration": 9,
    "start_time": "2022-09-14T15:51:27.257Z"
   },
   {
    "duration": 56,
    "start_time": "2022-09-14T15:51:27.267Z"
   },
   {
    "duration": 4,
    "start_time": "2022-09-14T15:51:27.324Z"
   },
   {
    "duration": 27,
    "start_time": "2022-09-14T15:51:27.329Z"
   },
   {
    "duration": 32,
    "start_time": "2022-09-14T15:51:27.357Z"
   },
   {
    "duration": 12,
    "start_time": "2022-09-14T15:51:27.391Z"
   },
   {
    "duration": 23,
    "start_time": "2022-09-14T15:51:27.406Z"
   },
   {
    "duration": 52,
    "start_time": "2022-09-14T15:51:27.431Z"
   },
   {
    "duration": 10,
    "start_time": "2022-09-14T15:51:27.485Z"
   },
   {
    "duration": 11,
    "start_time": "2022-09-14T15:51:27.496Z"
   },
   {
    "duration": 39,
    "start_time": "2022-09-14T15:51:27.509Z"
   },
   {
    "duration": 44,
    "start_time": "2022-09-14T15:51:27.550Z"
   },
   {
    "duration": 18,
    "start_time": "2022-09-14T15:51:27.596Z"
   },
   {
    "duration": 9,
    "start_time": "2022-09-14T15:51:27.616Z"
   },
   {
    "duration": 29,
    "start_time": "2022-09-14T15:51:27.626Z"
   },
   {
    "duration": 19,
    "start_time": "2022-09-14T15:51:27.657Z"
   },
   {
    "duration": 11,
    "start_time": "2022-09-14T15:51:27.678Z"
   },
   {
    "duration": 18,
    "start_time": "2022-09-14T15:51:27.691Z"
   },
   {
    "duration": 91,
    "start_time": "2022-09-14T15:51:27.711Z"
   },
   {
    "duration": 8,
    "start_time": "2022-09-14T15:51:27.803Z"
   },
   {
    "duration": 53,
    "start_time": "2022-09-14T15:51:27.812Z"
   },
   {
    "duration": 5,
    "start_time": "2022-09-14T15:51:27.867Z"
   },
   {
    "duration": 56,
    "start_time": "2022-09-14T15:51:27.874Z"
   },
   {
    "duration": 49,
    "start_time": "2022-09-14T15:51:27.931Z"
   },
   {
    "duration": 13,
    "start_time": "2022-09-14T15:51:27.984Z"
   },
   {
    "duration": 54,
    "start_time": "2022-09-14T15:51:27.998Z"
   },
   {
    "duration": 10,
    "start_time": "2022-09-14T15:51:28.054Z"
   },
   {
    "duration": 61,
    "start_time": "2022-09-14T15:51:28.065Z"
   },
   {
    "duration": 52,
    "start_time": "2022-09-14T15:53:05.853Z"
   },
   {
    "duration": 457,
    "start_time": "2022-09-14T15:53:39.657Z"
   },
   {
    "duration": 23,
    "start_time": "2022-09-14T15:53:40.116Z"
   },
   {
    "duration": 15,
    "start_time": "2022-09-14T15:53:40.141Z"
   },
   {
    "duration": 10,
    "start_time": "2022-09-14T15:53:40.158Z"
   },
   {
    "duration": 53,
    "start_time": "2022-09-14T15:53:40.169Z"
   },
   {
    "duration": 3,
    "start_time": "2022-09-14T15:53:40.224Z"
   },
   {
    "duration": 12,
    "start_time": "2022-09-14T15:53:40.229Z"
   },
   {
    "duration": 5,
    "start_time": "2022-09-14T15:53:40.243Z"
   },
   {
    "duration": 8,
    "start_time": "2022-09-14T15:53:40.249Z"
   },
   {
    "duration": 4,
    "start_time": "2022-09-14T15:53:40.261Z"
   },
   {
    "duration": 62,
    "start_time": "2022-09-14T15:53:40.267Z"
   },
   {
    "duration": 11,
    "start_time": "2022-09-14T15:53:40.331Z"
   },
   {
    "duration": 4,
    "start_time": "2022-09-14T15:53:40.343Z"
   },
   {
    "duration": 17,
    "start_time": "2022-09-14T15:53:40.349Z"
   },
   {
    "duration": 20,
    "start_time": "2022-09-14T15:53:40.368Z"
   },
   {
    "duration": 44,
    "start_time": "2022-09-14T15:53:40.390Z"
   },
   {
    "duration": 4,
    "start_time": "2022-09-14T15:53:40.435Z"
   },
   {
    "duration": 13,
    "start_time": "2022-09-14T15:53:40.441Z"
   },
   {
    "duration": 8,
    "start_time": "2022-09-14T15:53:40.456Z"
   },
   {
    "duration": 15,
    "start_time": "2022-09-14T15:53:40.465Z"
   },
   {
    "duration": 13,
    "start_time": "2022-09-14T15:53:40.482Z"
   },
   {
    "duration": 69,
    "start_time": "2022-09-14T15:53:40.496Z"
   },
   {
    "duration": 7,
    "start_time": "2022-09-14T15:53:40.567Z"
   },
   {
    "duration": 29,
    "start_time": "2022-09-14T15:53:40.576Z"
   },
   {
    "duration": 15,
    "start_time": "2022-09-14T15:53:40.607Z"
   },
   {
    "duration": 32,
    "start_time": "2022-09-14T15:53:40.624Z"
   },
   {
    "duration": 75,
    "start_time": "2022-09-14T15:53:40.658Z"
   },
   {
    "duration": 12,
    "start_time": "2022-09-14T15:53:40.736Z"
   },
   {
    "duration": 30,
    "start_time": "2022-09-14T15:53:40.750Z"
   },
   {
    "duration": 9,
    "start_time": "2022-09-14T15:53:40.782Z"
   },
   {
    "duration": 50,
    "start_time": "2022-09-14T15:53:40.793Z"
   }
  ],
  "colab": {
   "name": "dpp_template_part2.ipynb",
   "provenance": []
  },
  "kernelspec": {
   "display_name": "Python 3 (ipykernel)",
   "language": "python",
   "name": "python3"
  },
  "language_info": {
   "codemirror_mode": {
    "name": "ipython",
    "version": 3
   },
   "file_extension": ".py",
   "mimetype": "text/x-python",
   "name": "python",
   "nbconvert_exporter": "python",
   "pygments_lexer": "ipython3",
   "version": "3.9.5"
  },
  "toc": {
   "base_numbering": 1,
   "nav_menu": {},
   "number_sections": true,
   "sideBar": true,
   "skip_h1_title": true,
   "title_cell": "Table of Contents",
   "title_sidebar": "Contents",
   "toc_cell": false,
   "toc_position": {},
   "toc_section_display": true,
   "toc_window_display": false
  }
 },
 "nbformat": 4,
 "nbformat_minor": 5
}
